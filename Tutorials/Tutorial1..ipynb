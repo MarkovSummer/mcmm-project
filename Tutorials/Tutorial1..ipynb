{
 "cells": [
  {
   "cell_type": "code",
   "execution_count": 42,
   "metadata": {
    "collapsed": false
   },
   "outputs": [
    {
     "data": {
      "text/plain": [
       "array([[ 0.5,  0.5],\n",
       "       [ 0.1,  0.9]])"
      ]
     },
     "execution_count": 42,
     "metadata": {},
     "output_type": "execute_result"
    }
   ],
   "source": [
    "# coding: utf-8\n",
    "\n",
    "# Look Python PEP for information about how to properly (and beautifully) code in Python.\n",
    "# Look at google: numpy + \"term\" (svd for example) for information about numpy functions.\n",
    "\n",
    "# Numpy array:\n",
    "# np.array([[0,1,2,3],[4,5,6,7]]) creates a matrix 2x4.\n",
    "\n",
    "# In[ ]:\n",
    "\n",
    "import numpy as np\n",
    "import operator as op\n",
    "\n",
    "\n",
    "# In[ ]:\n",
    "\n",
    "M1=np.array([[0.5,0.5],[0.1,0.9]])\n",
    "M1"
   ]
  },
  {
   "cell_type": "code",
   "execution_count": 3,
   "metadata": {
    "collapsed": false
   },
   "outputs": [
    {
     "data": {
      "text/plain": [
       "array([ 0.5,  0.9])"
      ]
     },
     "execution_count": 3,
     "metadata": {},
     "output_type": "execute_result"
    }
   ],
   "source": [
    "M1[:,1]"
   ]
  },
  {
   "cell_type": "code",
   "execution_count": 4,
   "metadata": {
    "collapsed": false
   },
   "outputs": [
    {
     "data": {
      "text/plain": [
       "array([[ 0.71353678,  0.81560565,  0.59779976],\n",
       "       [ 0.21322577,  0.02264318,  0.95387865],\n",
       "       [ 0.02565694,  0.51688337,  0.30994962]])"
      ]
     },
     "execution_count": 4,
     "metadata": {},
     "output_type": "execute_result"
    }
   ],
   "source": [
    "M2=np.random.rand(3,3)\n",
    "M2"
   ]
  },
  {
   "cell_type": "code",
   "execution_count": 5,
   "metadata": {
    "collapsed": false
   },
   "outputs": [
    {
     "data": {
      "text/plain": [
       "2"
      ]
     },
     "execution_count": 5,
     "metadata": {},
     "output_type": "execute_result"
    }
   ],
   "source": [
    "M3=np.array([[0,1,2,3],[4,5,6,7]])\n",
    "len(M3)"
   ]
  },
  {
   "cell_type": "code",
   "execution_count": 6,
   "metadata": {
    "collapsed": false
   },
   "outputs": [
    {
     "data": {
      "text/plain": [
       "[0, 1, 2]"
      ]
     },
     "execution_count": 6,
     "metadata": {},
     "output_type": "execute_result"
    }
   ],
   "source": [
    "[i for i in range(len(M2[0]))]"
   ]
  },
  {
   "cell_type": "code",
   "execution_count": 31,
   "metadata": {
    "collapsed": false
   },
   "outputs": [
    {
     "name": "stdout",
     "output_type": "stream",
     "text": [
      "[ 2.5  1.3]\n",
      "[[ 0.5  2. ]\n",
      " [ 0.4  0.9]]\n"
     ]
    },
    {
     "data": {
      "text/plain": [
       "array([ 6, 22])"
      ]
     },
     "execution_count": 31,
     "metadata": {},
     "output_type": "execute_result"
    }
   ],
   "source": [
    "m1=M1.sum(axis=1)\n",
    "print (m1)\n",
    "print (M1)\n",
    "m3=M3.sum(axis=1)\n",
    "m3"
   ]
  },
  {
   "cell_type": "code",
   "execution_count": 8,
   "metadata": {
    "collapsed": false
   },
   "outputs": [
    {
     "data": {
      "text/plain": [
       "array([4, 5, 6, 7])"
      ]
     },
     "execution_count": 8,
     "metadata": {},
     "output_type": "execute_result"
    }
   ],
   "source": [
    "M3[1,:]"
   ]
  },
  {
   "cell_type": "code",
   "execution_count": 9,
   "metadata": {
    "collapsed": false
   },
   "outputs": [
    {
     "data": {
      "text/plain": [
       "array([[ 1.],\n",
       "       [ 1.]])"
      ]
     },
     "execution_count": 9,
     "metadata": {},
     "output_type": "execute_result"
    }
   ],
   "source": [
    "m1[:,np.newaxis]"
   ]
  },
  {
   "cell_type": "code",
   "execution_count": 52,
   "metadata": {
    "collapsed": false
   },
   "outputs": [
    {
     "data": {
      "text/plain": [
       "array([[ 0.0625   ,  0.0625   ],\n",
       "       [ 0.0125   ,  0.0140625]])"
      ]
     },
     "execution_count": 52,
     "metadata": {},
     "output_type": "execute_result"
    }
   ],
   "source": [
    "np.divide(M1,d)"
   ]
  },
  {
   "cell_type": "code",
   "execution_count": 53,
   "metadata": {
    "collapsed": false
   },
   "outputs": [
    {
     "data": {
      "text/plain": [
       "array([[ 16.        ,  16.        ],\n",
       "       [ 80.        ,  71.11111111]])"
      ]
     },
     "execution_count": 53,
     "metadata": {},
     "output_type": "execute_result"
    }
   ],
   "source": [
    "np.divide(d,M1)"
   ]
  },
  {
   "cell_type": "code",
   "execution_count": 56,
   "metadata": {
    "collapsed": false
   },
   "outputs": [
    {
     "name": "stdout",
     "output_type": "stream",
     "text": [
      "[[ 0.25   0.25 ]\n",
      " [ 0.05   0.225]]\n",
      "[[  4.           4.        ]\n",
      " [ 20.           4.44444444]]\n"
     ]
    }
   ],
   "source": [
    "M1=np.array([[0.5,0.5],[0.1,0.9]])\n",
    "d=np.array([[2,2],[2,4]])\n",
    "dd=np.array([[1,4],[4,1]])\n",
    "\n",
    "print(np.divide(M1,d))\n",
    "print(np.divide(d,M1))"
   ]
  },
  {
   "cell_type": "code",
   "execution_count": 26,
   "metadata": {
    "collapsed": false
   },
   "outputs": [
    {
     "name": "stdout",
     "output_type": "stream",
     "text": [
      "[[1 4]\n",
      " [4 1]]\n"
     ]
    },
    {
     "data": {
      "text/plain": [
       "array([[ 0.5,  2. ],\n",
       "       [ 0.4,  0.9]])"
      ]
     },
     "execution_count": 26,
     "metadata": {},
     "output_type": "execute_result"
    }
   ],
   "source": [
    "print (dd)\n",
    "M1=np.array([[0.5,0.5],[0.1,0.9]])\n",
    "M1*=dd\n",
    "M1"
   ]
  },
  {
   "cell_type": "code",
   "execution_count": 14,
   "metadata": {
    "collapsed": false
   },
   "outputs": [
    {
     "data": {
      "text/plain": [
       "array([[ 0.5  ,  0.125],\n",
       "       [ 0.025,  0.9  ]])"
      ]
     },
     "execution_count": 14,
     "metadata": {},
     "output_type": "execute_result"
    }
   ],
   "source": [
    "M1/=m1[:,np.newaxis]\n",
    "M1"
   ]
  },
  {
   "cell_type": "code",
   "execution_count": 59,
   "metadata": {
    "collapsed": false
   },
   "outputs": [
    {
     "name": "stdout",
     "output_type": "stream",
     "text": [
      "[[ 0.71353678  0.81560565  0.59779976]\n",
      " [ 0.21322577  0.02264318  0.95387865]\n",
      " [ 0.02565694  0.51688337  0.30994962]]\n"
     ]
    },
    {
     "data": {
      "text/plain": [
       "array([[ 0.3354754 ,  0.38346395,  0.28106065],\n",
       "       [ 0.17921933,  0.01903192,  0.80174875],\n",
       "       [ 0.03009647,  0.60632197,  0.36358156]])"
      ]
     },
     "execution_count": 59,
     "metadata": {},
     "output_type": "execute_result"
    }
   ],
   "source": [
    "print(M2)\n",
    "def normalize(T):\n",
    "    \"\"\"\n",
    "    Given a matrix T, returns another one, T0, with rows that add to 1\n",
    "    \"\"\"\n",
    "    T0=np.array(T)\n",
    "    s=T0.sum(axis=1)\n",
    "    T0/=s[:,np.newaxis]\n",
    "    return T0\n",
    "\n",
    "\n",
    "normalize(M2)"
   ]
  },
  {
   "cell_type": "code",
   "execution_count": 60,
   "metadata": {
    "collapsed": false
   },
   "outputs": [
    {
     "name": "stdout",
     "output_type": "stream",
     "text": [
      "[[ 0.71353678  0.81560565  0.59779976]\n",
      " [ 0.21322577  0.02264318  0.95387865]\n",
      " [ 0.02565694  0.51688337  0.30994962]]\n"
     ]
    },
    {
     "data": {
      "text/plain": [
       "array([[ 0.3354754 ,  0.38346395,  0.28106065],\n",
       "       [ 0.17921933,  0.01903192,  0.80174875],\n",
       "       [ 0.03009647,  0.60632197,  0.36358156]])"
      ]
     },
     "execution_count": 60,
     "metadata": {},
     "output_type": "execute_result"
    }
   ],
   "source": [
    "print(M2)\n",
    "\n",
    "def normalize2(T):\n",
    "    T0=np.array(T)\n",
    "    s=T0.sum(axis=1)\n",
    "    return np.divide(T0,s[:,np.newaxis])\n",
    "\n",
    "normalize2(M2)"
   ]
  },
  {
   "cell_type": "code",
   "execution_count": 64,
   "metadata": {
    "collapsed": false
   },
   "outputs": [
    {
     "name": "stdout",
     "output_type": "stream",
     "text": [
      "[-0.57735027 -0.97498294  0.18460639]\n"
     ]
    },
    {
     "data": {
      "text/plain": [
       "array([ 0.19611614, -0.70710678])"
      ]
     },
     "execution_count": 64,
     "metadata": {},
     "output_type": "execute_result"
    }
   ],
   "source": [
    "def stationary_sol(T):\n",
    "    \"\"\"\n",
    "    Given a random matrix T, returns a stationary sol a, s.t. aT=a\n",
    "    \"\"\"\n",
    "    T0=normalize(T)\n",
    "    eig=np.linalg.eig(T0)\n",
    "    for i in range(len(eig)):\n",
    "        if eig[0][i]==1:\n",
    "            return eig[1][i]\n",
    "    return \"no eigenvalue 1\"\n",
    "\n",
    "\n",
    "print(stationary_sol(M2))\n",
    "\n",
    "\n",
    "stationary_sol(M1)"
   ]
  },
  {
   "cell_type": "code",
   "execution_count": 63,
   "metadata": {
    "collapsed": false
   },
   "outputs": [
    {
     "data": {
      "text/plain": [
       "1.0"
      ]
     },
     "execution_count": 63,
     "metadata": {},
     "output_type": "execute_result"
    }
   ],
   "source": [
    "eig=np.linalg.eig(M1)\n",
    "eig\n",
    "\n",
    "\n",
    "eig[0][1]"
   ]
  },
  {
   "cell_type": "code",
   "execution_count": null,
   "metadata": {
    "collapsed": true
   },
   "outputs": [],
   "source": []
  }
 ],
 "metadata": {
  "kernelspec": {
   "display_name": "Python 3",
   "language": "python",
   "name": "python3"
  },
  "language_info": {
   "codemirror_mode": {
    "name": "ipython",
    "version": 3
   },
   "file_extension": ".py",
   "mimetype": "text/x-python",
   "name": "python",
   "nbconvert_exporter": "python",
   "pygments_lexer": "ipython3",
   "version": "3.5.1"
  }
 },
 "nbformat": 4,
 "nbformat_minor": 0
}
