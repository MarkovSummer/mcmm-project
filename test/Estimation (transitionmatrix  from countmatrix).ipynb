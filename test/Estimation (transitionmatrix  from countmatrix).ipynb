{
 "cells": [
  {
   "cell_type": "markdown",
   "metadata": {},
   "source": [
    "# Estimation\n",
    "\n",
    "Consists of \"private\" helper functions\n",
    "\n",
    "* normalize(M)\n",
    "* T_non_reversible(C)\n",
    "* T_reversible(C)\n",
    "\n",
    "as defined below. After the definitions the tests are defined/run in the same order."
   ]
  },
  {
   "cell_type": "code",
   "execution_count": null,
   "metadata": {
    "collapsed": false
   },
   "outputs": [],
   "source": [
    "import os\n",
    "import sys\n",
    "module_path = os.path.abspath(os.path.join('..'))\n",
    "if module_path not in sys.path:\n",
    "    sys.path.append(module_path)\n",
    "from mcmm import utilities as util\n",
    "\n",
    "\n",
    "\n",
    "def normalize(M):\n",
    "    \"\"\"\n",
    "    Subfunction for T. It normalizes the matrix given as input.\n",
    "\n",
    "    INPUT:\n",
    "        - M = A matrix M.\n",
    "\n",
    "    OUTPUT:\n",
    "        - M0 = The matrix M normalized, with rows that add to 1.\n",
    "    \"\"\"\n",
    "\n",
    "    M0 = np.array(M)\n",
    "    if M0.ndim == 1:\n",
    "        s = M0.sum()\n",
    "        return np.divide(M0, s)\n",
    "\n",
    "    elif M0.ndim == 2:\n",
    "        s = M0.sum(axis=1)\n",
    "        return np.divide(M0, s[:, np.newaxis])\n",
    "    else:\n",
    "        return \"Normalize. Wrong input\"\n",
    "\n",
    "\n",
    "\n",
    "def T_non_reversible(C):\n",
    "    \"\"\"\n",
    "    Function to get the transition matrix from the count matrix. It simply normalizes the count matrix.\n",
    "    Is easy, and useful for very large amount of data.\n",
    "\n",
    "    INPUT:\n",
    "        - C = Count matrix.\n",
    "\n",
    "    OUTPUT:\n",
    "        - P = The probability transition matrix of the markov model.\n",
    "    \"\"\"\n",
    "\n",
    "    return normalize(C)\n",
    "\n",
    "\n",
    "\n",
    "def T_reversible(C, max_iterations=100, error=0.1):\n",
    "    \"\"\"\n",
    "    Function to get the transition matrix from the count matrix. It gives a matrix that is reversible.\n",
    "    That is, the markov model obtained is reversible (it satisfies the detailed balance equations).\n",
    "    Detailed balance implies that, around any closed cycle of states, there is no net flow of probability.\n",
    "    For example, it implies that, for all a, b and c,\n",
    "    T( a , b ) T( b , c ) T( c , a ) = T( a , c ) T( c , b ) T( b , a ).\n",
    "\n",
    "    INPUT:\n",
    "        - C = Count matrix constructed with lag tau.\n",
    "        - max_iterations = maximum number of iterations we allow.\n",
    "        - error = error that we consider to understand that the iteration has converged.\n",
    "\n",
    "    OUTPUT:\n",
    "        - P = The probability transition matrix of the markov model.\n",
    "    \"\"\"\n",
    "\n",
    "    C_i = C.sum(axis=1)  # array of the sums of the rows of C\n",
    "    C_j = C.sum(axis=0)  # array of the sums of the columns of C\n",
    "\n",
    "    P = T_non_reversible(C)\n",
    "    P = (obtain_active_set(P))[0]\n",
    "    pi = stationary_sol(P)\n",
    "\n",
    "    P = np.multiply(P, pi)\n",
    "    X_0 = P  # initial state\n",
    "\n",
    "    it = 0\n",
    "    Er = 0.2  # TO BE CHANGED\n",
    "\n",
    "    while (Er > error) and (it < max_iterations):\n",
    "        Xi_0 = X_0.sum(axis=1)  # array of the sums of the rows of X_0\n",
    "        Xj_0 = X_0.sum(axis=0)  # array of the sums of the rows of X_0\n",
    "\n",
    "        X_1 = C + np.matrix.transpose(C)\n",
    "        X_1 = np.divide(X_1, ((C_i) / (Xi_0) + (C_j) / (Xj_0)))\n",
    "\n",
    "        X_0 = X_1\n",
    "        it += 1\n",
    "\n",
    "    P = normalize(X_1)\n",
    "    return P"
   ]
  },
  {
   "cell_type": "markdown",
   "metadata": {},
   "source": [
    "# Testing the functions"
   ]
  },
  {
   "cell_type": "markdown",
   "metadata": {},
   "source": [
    "### normalize()"
   ]
  },
  {
   "cell_type": "code",
   "execution_count": null,
   "metadata": {
    "collapsed": true
   },
   "outputs": [],
   "source": []
  }
 ],
 "metadata": {
  "kernelspec": {
   "display_name": "Python 3",
   "language": "python",
   "name": "python3"
  },
  "language_info": {
   "codemirror_mode": {
    "name": "ipython",
    "version": 3
   },
   "file_extension": ".py",
   "mimetype": "text/x-python",
   "name": "python",
   "nbconvert_exporter": "python",
   "pygments_lexer": "ipython3",
   "version": "3.5.1"
  }
 },
 "nbformat": 4,
 "nbformat_minor": 0
}
