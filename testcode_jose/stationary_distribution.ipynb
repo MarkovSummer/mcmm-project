{
 "cells": [
  {
   "cell_type": "code",
   "execution_count": 7,
   "metadata": {
    "collapsed": false
   },
   "outputs": [],
   "source": [
    "import numpy as np\n",
    "def stationary_distribution(P): \n",
    "    w, v = np.linalg.eig(P.T)\n",
    "    j_stationary = np.argmin(abs(w - 1.0))\n",
    "    p_stationary = v[:,j_stationary].real\n",
    "    p_stationary /= p_stationary.sum()\n",
    "    return p_stationary\n",
    "\n"
   ]
  },
  {
   "cell_type": "code",
   "execution_count": 21,
   "metadata": {
    "collapsed": true
   },
   "outputs": [],
   "source": [
    "M=np.random.rand(4,4)"
   ]
  },
  {
   "cell_type": "code",
   "execution_count": 20,
   "metadata": {
    "collapsed": false
   },
   "outputs": [
    {
     "data": {
      "text/plain": [
       "array([[ 0.70426097,  0.70458131,  0.21879211,  0.92486763],\n",
       "       [ 0.44214076,  0.90931596,  0.05980922,  0.18428708],\n",
       "       [ 0.04735528,  0.67488094,  0.59462478,  0.53331016],\n",
       "       [ 0.04332406,  0.56143308,  0.32966845,  0.50296683]])"
      ]
     },
     "execution_count": 20,
     "metadata": {},
     "output_type": "execute_result"
    }
   ],
   "source": [
    "M"
   ]
  },
  {
   "cell_type": "code",
   "execution_count": 14,
   "metadata": {
    "collapsed": false
   },
   "outputs": [
    {
     "data": {
      "text/plain": [
       "array([[ 0.70426097,  0.70458131,  0.21879211,  0.92486763],\n",
       "       [ 0.44214076,  0.90931596,  0.05980922,  0.18428708],\n",
       "       [ 0.04735528,  0.67488094,  0.59462478,  0.53331016],\n",
       "       [ 0.04332406,  0.56143308,  0.32966845,  0.50296683]])"
      ]
     },
     "execution_count": 14,
     "metadata": {},
     "output_type": "execute_result"
    }
   ],
   "source": [
    "M"
   ]
  },
  {
   "cell_type": "code",
   "execution_count": 15,
   "metadata": {
    "collapsed": true
   },
   "outputs": [],
   "source": [
    "def normalize(M):\n",
    "    \"\"\"\n",
    "    Subfunction for T. It normalizes the matrix given as input.\n",
    "    \n",
    "    INPUT:\n",
    "        - M = A matrix M.\n",
    "        \n",
    "    OUTPUT:\n",
    "        - M0 = The matrix M normalized, with rows that add to 1.     \n",
    "    \"\"\"\n",
    "    \n",
    "    M0=np.array(M)\n",
    "    if M0.ndim == 1:\n",
    "        s= M0.sum()\n",
    "        return np.divide(M0,s)\n",
    "        \n",
    "    elif M0.ndim == 2:\n",
    "        s=M0.sum(axis=1)\n",
    "        return np.divide(M0,s[:,np.newaxis])\n",
    "    else:\n",
    "        return \"Normalize. Wrong input\""
   ]
  },
  {
   "cell_type": "code",
   "execution_count": 17,
   "metadata": {
    "collapsed": false
   },
   "outputs": [],
   "source": [
    "M2=normalize(M)"
   ]
  },
  {
   "cell_type": "code",
   "execution_count": null,
   "metadata": {
    "collapsed": true
   },
   "outputs": [],
   "source": []
  }
 ],
 "metadata": {
  "kernelspec": {
   "display_name": "Python 2",
   "language": "python",
   "name": "python2"
  },
  "language_info": {
   "codemirror_mode": {
    "name": "ipython",
    "version": 2
   },
   "file_extension": ".py",
   "mimetype": "text/x-python",
   "name": "python",
   "nbconvert_exporter": "python",
   "pygments_lexer": "ipython2",
   "version": "2.7.11"
  },
  "widgets": {
   "state": {},
   "version": "1.1.2"
  }
 },
 "nbformat": 4,
 "nbformat_minor": 0
}
