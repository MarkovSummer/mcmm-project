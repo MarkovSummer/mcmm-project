{
 "cells": [
  {
   "cell_type": "code",
   "execution_count": 20,
   "metadata": {
    "collapsed": true
   },
   "outputs": [],
   "source": [
    "import os\n",
    "import numpy as np\n",
    "\n",
    "# kmeans clustering algorithm\n",
    "# data = set of data points\n",
    "# k = number of clusters\n",
    "# c = initial list of centroids (if provided)\n",
    "#\n",
    "def kmeans(data, k, c):\n",
    "    centroids = []\n",
    "\n",
    "    centroids = randomize_centroids(data, centroids, k)  \n",
    "\n",
    "    old_centroids = [[] for i in range(k)] \n",
    "\n",
    "    iterations = 0\n",
    "    while not (has_converged(centroids, old_centroids, iterations)):\n",
    "        iterations += 1\n",
    "\n",
    "        clusters = [[] for i in range(k)]\n",
    "\n",
    "        # assign data points to clusters\n",
    "        clusters = euclidean_dist(data, centroids, clusters)\n",
    "\n",
    "        # recalculate centroids\n",
    "        index = 0\n",
    "        for cluster in clusters:\n",
    "            old_centroids[index] = centroids[index]\n",
    "            centroids[index] = np.mean(cluster, axis=0).tolist()\n",
    "            index += 1\n",
    "    print(\"The total number of data instances is: \" + str(len(data)))\n",
    "    print(\"The total number of iterations necessary is: \" + str(iterations))\n",
    "    print(\"The means of each cluster are: \" + str(centroids))\n",
    "    print(\"The clusters are as follows:\")\n",
    "    for cluster in clusters:\n",
    "        print(\"Cluster with a size of \" + str(len(cluster)) + \" starts here:\")\n",
    "        print(np.array(cluster).tolist())\n",
    "        print(\"Cluster ends here.\")\n",
    "\n",
    "    return\n",
    "\n",
    "# Calculates euclidean distance between\n",
    "# a data point and all the available cluster\n",
    "# centroids.      \n",
    "def euclidean_dist(data, centroids, clusters):\n",
    "    for instance in data:  \n",
    "        # Find which centroid is the closest\n",
    "        # to the given data point.\n",
    "        mu_index = min([(i[0], np.linalg.norm(instance-centroids[i[0]])) \\\n",
    "                            for i in enumerate(centroids)], key=lambda t:t[1])[0]\n",
    "        try:\n",
    "            clusters[mu_index].append(instance)\n",
    "        except KeyError:\n",
    "            clusters[mu_index] = [instance]\n",
    "\n",
    "    # If any cluster is empty then assign one point\n",
    "    # from data set randomly so as to not have empty\n",
    "    # clusters and 0 means.        \n",
    "    for cluster in clusters:\n",
    "        if not cluster:\n",
    "            cluster.append(data[np.random.randint(0, len(data), size=1)].flatten().tolist())\n",
    "\n",
    "    return clusters\n",
    "\n",
    "\n",
    "# randomize initial centroids\n",
    "def randomize_centroids(data, centroids, k):\n",
    "    for cluster in range(0, k):\n",
    "        centroids.append(data[np.random.randint(0, len(data), size=1)].flatten().tolist())\n",
    "    return centroids\n",
    "\n",
    "\n",
    "# check if clusters have converged    \n",
    "def has_converged(centroids, old_centroids, iterations):\n",
    "    MAX_ITERATIONS = 1000\n",
    "    if iterations > MAX_ITERATIONS:\n",
    "        return True\n",
    "    return old_centroids == centroids"
   ]
  },
  {
   "cell_type": "code",
   "execution_count": 21,
   "metadata": {
    "collapsed": false
   },
   "outputs": [],
   "source": [
    "import numpy as np\n",
    "\n",
    "__all__ = ['generate_test_data']\n",
    "\n",
    "def _gradient(x, y,z):\n",
    "    return (x * x - 1.0) * 4.0 * x + 0.5, (4.0 * y * y - 7.0) * y, (4.0 * z * z - 7.0) * z\n",
    "\n",
    "def _bd(x0, y0, z0, length, dt=0.005):\n",
    "    coeff_A = dt\n",
    "    coeff_B = np.sqrt(2.0 * dt)\n",
    "    x = [x0]\n",
    "    y = [y0]\n",
    "    z = [z0]\n",
    "    for _i in range(1, length):\n",
    "        dx, dy, dz = _gradient(x[-1], y[-1],z[-1])\n",
    "        x.append(x[-1] - coeff_A * dx + coeff_B * np.random.normal())\n",
    "        y.append(y[-1] - coeff_A * dy + coeff_B * np.random.normal())\n",
    "        z.append(z[-1] - coeff_A * dz + coeff_B * np.random.normal())\n",
    "    return np.array([[_x, _y,_z] for _x, _y, _z in zip(x, y, z)], dtype=np.float64)\n",
    "\n",
    "def generate_test_data(traj_length=20000, num_trajs=5):\n",
    "    r\"\"\"\n",
    "    This functions handles the test data generation via Brownian dynamics simulations with\n",
    "    randomized starting configurations.\n",
    "\n",
    "    Parameters\n",
    "    ----------\n",
    "    traj_length : int, optional, default=20000\n",
    "        Length of a single trajectory.\n",
    "    num_trajs : int, optional, default=5\n",
    "        Number of independent trajectories.\n",
    "\n",
    "    Returns\n",
    "    -------\n",
    "    trajs : list of numpy.ndarray(shape=(traj_length, 2), dtype=numpy.float64) objects\n",
    "        Time series of configurations of the toy model.\n",
    "    \"\"\"\n",
    "    trajs = []\n",
    "    for _i in range(num_trajs):\n",
    "        trajs.append(_bd(3.0 * np.random.rand() - 1.5, 3.0 * np.random.rand() - 1.5,3.0 * np.random.rand() - 1.5, traj_length))\n",
    "    return trajs\n",
    "\n"
   ]
  },
  {
   "cell_type": "code",
   "execution_count": 22,
   "metadata": {
    "collapsed": false
   },
   "outputs": [
    {
     "data": {
      "text/plain": [
       "(96.5, 228.0, 822.0)"
      ]
     },
     "execution_count": 22,
     "metadata": {},
     "output_type": "execute_result"
    }
   ],
   "source": [
    "_gradient(3, 4,6) "
   ]
  },
  {
   "cell_type": "code",
   "execution_count": 23,
   "metadata": {
    "collapsed": false
   },
   "outputs": [],
   "source": [
    "def _gradient(x, y,z):\n",
    "    return (x * x - 1.0) * 4.0 * x + 0.5, (4.0 * y * y - 7.0) * y, (4.0 * z * z - 7.0) * z"
   ]
  },
  {
   "cell_type": "code",
   "execution_count": null,
   "metadata": {
    "collapsed": false
   },
   "outputs": [],
   "source": []
  },
  {
   "cell_type": "code",
   "execution_count": 131,
   "metadata": {
    "collapsed": false
   },
   "outputs": [],
   "source": [
    "a=generate_test_data(traj_length=2000, num_trajs=5)\n",
    "\n"
   ]
  },
  {
   "cell_type": "code",
   "execution_count": 25,
   "metadata": {
    "collapsed": false
   },
   "outputs": [
    {
     "name": "stdout",
     "output_type": "stream",
     "text": [
      "The total number of data instances is: 10\n",
      "The total number of iterations necessary is: 5\n",
      "The means of each cluster are: [[-1.1123898903001397, 0.5898322768966007, 1.7937576960149157], [-0.9643707052983688, 0.7145257062945702, 1.5895287058376462], [-0.9005508628641243, 0.670332617769541, 1.6352515314071436], [-0.775777139361843, 0.6126253303247244, 1.443774591889969], [-0.8486911365443668, 0.8453750086441679, 1.4889677352510884], [-1.0153248652852886, 0.5445114572629689, 1.6776141514752716], [-1.0891151772545837, 0.7340095283086837, 1.7473675431927242], [-1.0131819099790738, 0.7413575586997249, 1.674785642322036]]\n",
      "The clusters are as follows:\n",
      "Cluster with a size of 2 starts here:\n",
      "[[-1.0810673409700675, 0.5468347997344518, 1.8650449861432667], [-1.143712439630212, 0.6328297540587494, 1.7224704058865645]]\n",
      "Cluster ends here.\n",
      "Cluster with a size of 2 starts here:\n",
      "[[-0.9772190370876125, 0.7096358152925288, 1.6005471907137487], [-0.9515223735091252, 0.7194155972966116, 1.5785102209615436]]\n",
      "Cluster ends here.\n",
      "Cluster with a size of 1 starts here:\n",
      "[[-0.9005508628641243, 0.670332617769541, 1.6352515314071436]]\n",
      "Cluster ends here.\n",
      "Cluster with a size of 1 starts here:\n",
      "[[-0.775777139361843, 0.6126253303247244, 1.443774591889969]]\n",
      "Cluster ends here.\n",
      "Cluster with a size of 1 starts here:\n",
      "[[-0.8486911365443668, 0.8453750086441679, 1.4889677352510884]]\n",
      "Cluster ends here.\n",
      "Cluster with a size of 1 starts here:\n",
      "[[-1.0153248652852886, 0.5445114572629689, 1.6776141514752716]]\n",
      "Cluster ends here.\n",
      "Cluster with a size of 1 starts here:\n",
      "[[-1.0891151772545837, 0.7340095283086837, 1.7473675431927242]]\n",
      "Cluster ends here.\n",
      "Cluster with a size of 1 starts here:\n",
      "[[-1.0131819099790738, 0.7413575586997249, 1.674785642322036]]\n",
      "Cluster ends here.\n"
     ]
    },
    {
     "ename": "TypeError",
     "evalue": "'NoneType' object is not iterable",
     "output_type": "error",
     "traceback": [
      "\u001b[0;31m---------------------------------------------------------------------------\u001b[0m",
      "\u001b[0;31mTypeError\u001b[0m                                 Traceback (most recent call last)",
      "\u001b[0;32m<ipython-input-25-c61496047974>\u001b[0m in \u001b[0;36m<module>\u001b[0;34m()\u001b[0m\n\u001b[0;32m----> 1\u001b[0;31m \u001b[0mcentroids\u001b[0m\u001b[0;34m,\u001b[0m \u001b[0mclusters\u001b[0m \u001b[0;34m=\u001b[0m \u001b[0mkmeans\u001b[0m\u001b[0;34m(\u001b[0m\u001b[0ma\u001b[0m\u001b[0;34m[\u001b[0m\u001b[0;36m0\u001b[0m\u001b[0;34m]\u001b[0m\u001b[0;34m,\u001b[0m \u001b[0;36m8\u001b[0m\u001b[0;34m,\u001b[0m \u001b[0;36m5\u001b[0m\u001b[0;34m)\u001b[0m\u001b[0;34m\u001b[0m\u001b[0m\n\u001b[0m\u001b[1;32m      2\u001b[0m \u001b[0;32mprint\u001b[0m\u001b[0;34m(\u001b[0m\u001b[0mcentroids\u001b[0m\u001b[0;34m)\u001b[0m\u001b[0;34m\u001b[0m\u001b[0m\n",
      "\u001b[0;31mTypeError\u001b[0m: 'NoneType' object is not iterable"
     ]
    }
   ],
   "source": [
    "centroids, clusters = kmeans(a[0], 8, 5)\n",
    "print(centroids)\n"
   ]
  },
  {
   "cell_type": "code",
   "execution_count": 87,
   "metadata": {
    "collapsed": true
   },
   "outputs": [],
   "source": [
    "import os\n",
    "import numpy as np\n",
    "\n",
    "# kmeans clustering algorithm\n",
    "# data = set of data points\n",
    "# k = number of clusters\n",
    "# c = initial list of centroids (if provided)\n",
    "#\n",
    "def kmeans2(data, k, c):\n",
    "    centroids = []\n",
    "\n",
    "    centroids = randomize_centroids(data, centroids, k)  \n",
    "\n",
    "    old_centroids = [[] for i in range(k)] \n",
    "\n",
    "    iterations = 0\n",
    "    while not (has_converged(centroids, old_centroids, iterations)):\n",
    "        iterations += 1\n",
    "\n",
    "        clusters = [[] for i in range(k)]\n",
    "\n",
    "        # assign data points to clusters\n",
    "        clusters = euclidean_dist(data, centroids, clusters)\n",
    "\n",
    "        # recalculate centroids\n",
    "        index = 0\n",
    "        for cluster in clusters:\n",
    "            old_centroids[index] = centroids[index]\n",
    "            centroids[index] = np.mean(cluster, axis=0).tolist()\n",
    "            index += 1\n",
    "\n",
    "\n",
    "    \n",
    "\n",
    "    return centroids,clusters"
   ]
  },
  {
   "cell_type": "code",
   "execution_count": 88,
   "metadata": {
    "collapsed": false
   },
   "outputs": [
    {
     "data": {
      "text/plain": [
       "[[array([-1.08971298, -0.59135358, -0.18794611]),\n",
       "  array([-1.07736783, -0.66283481, -0.2368212 ])],\n",
       " [array([-0.8758094 , -0.91700496, -0.17199934]),\n",
       "  array([-0.94743867, -0.98447704, -0.21855727]),\n",
       "  array([-0.84671993, -1.03124792, -0.0827932 ]),\n",
       "  array([-0.82223148, -1.00513172, -0.02908447])],\n",
       " [array([-0.98346831, -0.8408927 , -0.03970446])],\n",
       " [array([-0.90614779, -0.52345638, -0.37111519]),\n",
       "  array([-0.99022955, -0.51806868, -0.35896074]),\n",
       "  array([-0.97206626, -0.51031183, -0.30174158])],\n",
       " [array([-0.9632593 , -0.62987616, -0.08668948])],\n",
       " [array([-0.91190765, -0.46728917, -0.19604152])],\n",
       " [array([-0.67005988, -1.30338953, -0.17402751])],\n",
       " [array([-0.79810367, -1.05552731, -0.11813857]),\n",
       "  array([-0.87962587, -1.14096728, -0.09082794])]]"
      ]
     },
     "execution_count": 88,
     "metadata": {},
     "output_type": "execute_result"
    }
   ],
   "source": [
    "cen, clus = kmeans2(a[2], 8, 5)\n",
    "\n",
    "clus"
   ]
  },
  {
   "cell_type": "code",
   "execution_count": 68,
   "metadata": {
    "collapsed": true
   },
   "outputs": [],
   "source": [
    "v=np.array([ 0.86940909,  0.3294346 , -1.37870144])"
   ]
  },
  {
   "cell_type": "code",
   "execution_count": 93,
   "metadata": {
    "collapsed": false
   },
   "outputs": [
    {
     "data": {
      "text/plain": [
       "[array([-0.8758094 , -0.91700496, -0.17199934]),\n",
       " array([-0.94743867, -0.98447704, -0.21855727]),\n",
       " array([-0.84671993, -1.03124792, -0.0827932 ]),\n",
       " array([-0.82223148, -1.00513172, -0.02908447])]"
      ]
     },
     "execution_count": 93,
     "metadata": {},
     "output_type": "execute_result"
    }
   ],
   "source": [
    "clus[1]\n"
   ]
  },
  {
   "cell_type": "code",
   "execution_count": 158,
   "metadata": {
    "collapsed": false
   },
   "outputs": [],
   "source": [
    "vs=clus[0][0]"
   ]
  },
  {
   "cell_type": "code",
   "execution_count": 96,
   "metadata": {
    "collapsed": false
   },
   "outputs": [
    {
     "data": {
      "text/plain": [
       "[0, 0, 0, 0, 0, 0, 0, 0, 0, 0, 0, 0, 0, 0, 0]"
      ]
     },
     "execution_count": 96,
     "metadata": {},
     "output_type": "execute_result"
    }
   ],
   "source": [
    "L=[0 for i in range(len(a[2]))]\n",
    "L\n"
   ]
  },
  {
   "cell_type": "code",
   "execution_count": 113,
   "metadata": {
    "collapsed": false
   },
   "outputs": [],
   "source": [
    "def cloust_list(L, clus_0, a_0, w):\n",
    "    for i in range(len (clus_0)): \n",
    "        for k in range(len (a_0)):\n",
    "            if  all(a_0[k]==clus_0[i]):\n",
    "                L[k]=w\n",
    "    return L\n",
    "\n",
    "\n",
    "\n",
    "\n",
    "\n",
    "\n"
   ]
  },
  {
   "cell_type": "code",
   "execution_count": 121,
   "metadata": {
    "collapsed": false
   },
   "outputs": [
    {
     "data": {
      "text/plain": [
       "[0, 5, 0, 0, 0, 0, 0, 0, 0, 0, 0, 0, 0, 0, 0]"
      ]
     },
     "execution_count": 121,
     "metadata": {},
     "output_type": "execute_result"
    }
   ],
   "source": [
    "cloust_list(L, clus[5],a[2],5)\n",
    "\n"
   ]
  },
  {
   "cell_type": "code",
   "execution_count": 120,
   "metadata": {
    "collapsed": false
   },
   "outputs": [
    {
     "data": {
      "text/plain": [
       "[array([-0.91190765, -0.46728917, -0.19604152])]"
      ]
     },
     "execution_count": 120,
     "metadata": {},
     "output_type": "execute_result"
    }
   ],
   "source": [
    "clus[5]"
   ]
  },
  {
   "cell_type": "code",
   "execution_count": 118,
   "metadata": {
    "collapsed": false
   },
   "outputs": [
    {
     "data": {
      "text/plain": [
       "array([[-0.9632593 , -0.62987616, -0.08668948],\n",
       "       [-0.91190765, -0.46728917, -0.19604152],\n",
       "       [-0.90614779, -0.52345638, -0.37111519],\n",
       "       [-0.99022955, -0.51806868, -0.35896074],\n",
       "       [-0.97206626, -0.51031183, -0.30174158],\n",
       "       [-1.08971298, -0.59135358, -0.18794611],\n",
       "       [-1.07736783, -0.66283481, -0.2368212 ],\n",
       "       [-0.98346831, -0.8408927 , -0.03970446],\n",
       "       [-0.8758094 , -0.91700496, -0.17199934],\n",
       "       [-0.94743867, -0.98447704, -0.21855727],\n",
       "       [-0.84671993, -1.03124792, -0.0827932 ],\n",
       "       [-0.82223148, -1.00513172, -0.02908447],\n",
       "       [-0.79810367, -1.05552731, -0.11813857],\n",
       "       [-0.87962587, -1.14096728, -0.09082794],\n",
       "       [-0.67005988, -1.30338953, -0.17402751]])"
      ]
     },
     "execution_count": 118,
     "metadata": {},
     "output_type": "execute_result"
    }
   ],
   "source": [
    "a[2]"
   ]
  },
  {
   "cell_type": "code",
   "execution_count": 122,
   "metadata": {
    "collapsed": false
   },
   "outputs": [
    {
     "data": {
      "text/plain": [
       "[[array([-1.08971298, -0.59135358, -0.18794611]),\n",
       "  array([-1.07736783, -0.66283481, -0.2368212 ])],\n",
       " [array([-0.8758094 , -0.91700496, -0.17199934]),\n",
       "  array([-0.94743867, -0.98447704, -0.21855727]),\n",
       "  array([-0.84671993, -1.03124792, -0.0827932 ]),\n",
       "  array([-0.82223148, -1.00513172, -0.02908447])],\n",
       " [array([-0.98346831, -0.8408927 , -0.03970446])],\n",
       " [array([-0.90614779, -0.52345638, -0.37111519]),\n",
       "  array([-0.99022955, -0.51806868, -0.35896074]),\n",
       "  array([-0.97206626, -0.51031183, -0.30174158])],\n",
       " [array([-0.9632593 , -0.62987616, -0.08668948])],\n",
       " [array([-0.91190765, -0.46728917, -0.19604152])],\n",
       " [array([-0.67005988, -1.30338953, -0.17402751])],\n",
       " [array([-0.79810367, -1.05552731, -0.11813857]),\n",
       "  array([-0.87962587, -1.14096728, -0.09082794])]]"
      ]
     },
     "execution_count": 122,
     "metadata": {},
     "output_type": "execute_result"
    }
   ],
   "source": [
    "clus"
   ]
  },
  {
   "cell_type": "code",
   "execution_count": 128,
   "metadata": {
    "collapsed": false
   },
   "outputs": [],
   "source": [
    "def Clustering(trag,nclus):\n",
    "    cen, clus = kmeans2(trag, nclus, 5)\n",
    "    L=[0 for i in range(len(a[2]))]\n",
    "    for  b in range(nclus):\n",
    "        cloust_list(L, clus[b],trag,b)\n",
    "    return L\n",
    "    "
   ]
  },
  {
   "cell_type": "code",
   "execution_count": null,
   "metadata": {
    "collapsed": false
   },
   "outputs": [],
   "source": []
  },
  {
   "cell_type": "code",
   "execution_count": 112,
   "metadata": {
    "collapsed": false
   },
   "outputs": [
    {
     "data": {
      "text/plain": [
       "[0, 0, 0, 0, 0, 0, 0, 0, 0, 0, 0, 0, 0, 0, 0]"
      ]
     },
     "execution_count": 112,
     "metadata": {},
     "output_type": "execute_result"
    }
   ],
   "source": [
    "cloust_list(L, clus[2],a[0],2)"
   ]
  },
  {
   "cell_type": "code",
   "execution_count": 110,
   "metadata": {
    "collapsed": false
   },
   "outputs": [
    {
     "data": {
      "text/plain": [
       "[0, 0, 0, 0, 0, 0, 0, 2, 0, 0, 0, 0, 7, 7, 0]"
      ]
     },
     "execution_count": 110,
     "metadata": {},
     "output_type": "execute_result"
    }
   ],
   "source": [
    "cloust_list(L, clus[3],a[0],3)"
   ]
  },
  {
   "cell_type": "code",
   "execution_count": null,
   "metadata": {
    "collapsed": true
   },
   "outputs": [],
   "source": []
  }
 ],
 "metadata": {
  "kernelspec": {
   "display_name": "Python 2",
   "language": "python",
   "name": "python2"
  },
  "language_info": {
   "codemirror_mode": {
    "name": "ipython",
    "version": 2
   },
   "file_extension": ".py",
   "mimetype": "text/x-python",
   "name": "python",
   "nbconvert_exporter": "python",
   "pygments_lexer": "ipython2",
   "version": "2.7.11"
  }
 },
 "nbformat": 4,
 "nbformat_minor": 0
}
