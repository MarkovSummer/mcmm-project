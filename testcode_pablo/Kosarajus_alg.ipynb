{
 "cells": [
  {
   "cell_type": "code",
   "execution_count": 41,
   "metadata": {
    "collapsed": true
   },
   "outputs": [],
   "source": [
    "import numpy as np"
   ]
  },
  {
   "cell_type": "code",
   "execution_count": 42,
   "metadata": {
    "collapsed": true
   },
   "outputs": [],
   "source": [
    "def Visit(u,Visited,L,M):\n",
    "    \"\"\"\n",
    "    Recursive subfunction for kosarajus\n",
    "    \n",
    "    INPUT:\n",
    "        \n",
    "        - u = An integer, which represents a vertex (in our numeration).\n",
    "        - Visited = A list of the vertices already visited.\n",
    "        - L = an ordered list of graph vertices, that will grow to contain each vertex once.\n",
    "        - M = A transition matrix (which is the adjacency matrix of a graph).\n",
    "    \n",
    "    OUTPUT:\n",
    "        \n",
    "        - It just adds in order vertices to the list L.\n",
    "    \n",
    "    \"\"\"\n",
    "    out=M[u,:]\n",
    "    if not(u in Visited):\n",
    "        Visited.append(u)\n",
    "        for i in range(len(out)):\n",
    "            if not(out[i]==0):\n",
    "                Visit(i,Visited,L,M)\n",
    "        L.insert(0,u) \n",
    "    return"
   ]
  },
  {
   "cell_type": "code",
   "execution_count": 43,
   "metadata": {
    "collapsed": true
   },
   "outputs": [],
   "source": [
    "def Assign(u,root,components,M):\n",
    "    \"\"\"\n",
    "    Recursive subfunction for kosarajus\n",
    "    Strong components are to be represented by appointing a separate root vertex for each component,\n",
    "    and assigning to each vertex the root vertex of its component.\n",
    "    \n",
    "    INPUT:\n",
    "        \n",
    "        - u = An integer, which represents a vertex (in our numeration) that has to be\n",
    "        assigned to some component.\n",
    "        - root = An integer, which represents a component.\n",
    "        - components = A dictionary containing the vertices (numerated from 0 to n-1), \n",
    "        each vertex associated to the root representing its component.\n",
    "        - M = A transition matrix (which is the adjacency matrix of a graph).\n",
    "    \n",
    "    OUTPUT:\n",
    "    \n",
    "        - It just changes the dictionary components, assigning to each vertex its root.\n",
    "    \n",
    "    \"\"\"\n",
    "    \n",
    "    in_=[i for i in M[:,u]]\n",
    "    \n",
    "    if not u in components:\n",
    "        components[u]=root\n",
    "        for i in range(len(in_)):\n",
    "            if not(in_[i]==0):\n",
    "                Assign(i,root,components,M)\n",
    "    return\n",
    "    "
   ]
  },
  {
   "cell_type": "code",
   "execution_count": 44,
   "metadata": {
    "collapsed": true
   },
   "outputs": [],
   "source": [
    "def Assign2(u,root,LIST,components,M):\n",
    "    \"\"\"\n",
    "    Recursive subfunction for kosarajus\n",
    "    Strong components are to be represented by appointing a separate root vertex for each component,\n",
    "    and assigning to each vertex the root vertex of its component.\n",
    "    \n",
    "    INPUT:\n",
    "        \n",
    "        - u = An integer, which represents a vertex (in our numeration) that has to be\n",
    "        assigned to some component.\n",
    "        - root = An integer, which represents a component.\n",
    "        \n",
    "        - LIST = A list of vertices that are not yet introduced in the dictionary.\n",
    "        \n",
    "        - components = A dictionary containing the vertices (numerated from 0 to n-1), \n",
    "        each vertex associated to the root representing its component.\n",
    "        - M = A transition matrix (which is the adjacency matrix of a graph).\n",
    "    \n",
    "    OUTPUT:\n",
    "    \n",
    "        - It just changes the dictionary components, assigning to each vertex its root.\n",
    "    \n",
    "    \"\"\"\n",
    "    \n",
    "    in_=[i for i in M[:,u]]\n",
    "    \n",
    "    if u in LIST:\n",
    "        \n",
    "        if not root in components:\n",
    "            components[root]=[u]\n",
    "        elif root in components:\n",
    "            components[root].append(u)\n",
    "        LIST.remove(u)\n",
    "            \n",
    "        for i in range(len(in_)):\n",
    "            if not(in_[i]==0):\n",
    "                Assign2(i,root,LIST,components,M)\n",
    "    return"
   ]
  },
  {
   "cell_type": "code",
   "execution_count": 45,
   "metadata": {
    "collapsed": false
   },
   "outputs": [],
   "source": [
    "def kosarajus_alg(M):\n",
    "    \"\"\"\n",
    "    Returns a dictionary containing the vertices and their inclusion in strong components.\n",
    "    Strong components are to be represented by appointing a separate root vertex for each component,\n",
    "    and assigning to each vertex the root vertex of its component.\n",
    "    If the graph is represented as an adjacency matrix, the algorithm requires Ο(V^2) time.\n",
    "    \n",
    "    INPUT:\n",
    "    \n",
    "        - M = A transition matrix (which is the adjacency matrix of a graph).\n",
    "    \n",
    "    OUTPUT:\n",
    "    \n",
    "        - components = A dictionary containing the vertices (numerated from 0 to n-1), \n",
    "        each vertex associated to the root representing its component.\n",
    "    \n",
    "    \"\"\"\n",
    "    \n",
    "    Visited=[]\n",
    "    L=[]\n",
    "    \n",
    "    components={}\n",
    "    \n",
    "    Vertices= [i for i in range(len(M[:,1]))]\n",
    "    \n",
    "    for i in Vertices:\n",
    "        Visit(i,Visited,L,M)\n",
    "    for u in L:\n",
    "        Assign(u,u,components,M)\n",
    "    return components        "
   ]
  },
  {
   "cell_type": "code",
   "execution_count": 53,
   "metadata": {
    "collapsed": true
   },
   "outputs": [],
   "source": [
    "def kosarajus_algo2(M):\n",
    "    \"\"\"\n",
    "    Returns a dictionary containing the vertices and their inclusion in strong components.\n",
    "    Strong components are to be represented by appointing a separate root vertex for each component,\n",
    "    and assigning to each root the list of vertices inside that component.\n",
    "    If the graph is represented as an adjacency matrix, the algorithm requires Ο(V^2) time.\n",
    "    \n",
    "    INPUT:\n",
    "    \n",
    "        - M = A transition matrix (which is the adjacency matrix of a graph).\n",
    "    \n",
    "    OUTPUT:\n",
    "    \n",
    "        - components = A dictionary containing the components (numerated from 0 to ..), \n",
    "        each root associated to a list of vertices that are part of that component.\n",
    "    \n",
    "    \"\"\"\n",
    "    \n",
    "    Visited=[]\n",
    "    L=[]\n",
    "    \n",
    "    components={}\n",
    "    \n",
    "    Vertices= [i for i in range(len(M[:,1]))]\n",
    "    LIST=list(Vertices)\n",
    "    \n",
    "    for i in Vertices:\n",
    "        Visit(i,Visited,L,M)\n",
    "    for u in L:\n",
    "        Assign2(u,u,LIST,components,M)\n",
    "    return components      "
   ]
  },
  {
   "cell_type": "code",
   "execution_count": 47,
   "metadata": {
    "collapsed": false
   },
   "outputs": [
    {
     "data": {
      "text/plain": [
       "array([[ 0.5,  0.5],\n",
       "       [ 0.1,  0.9]])"
      ]
     },
     "execution_count": 47,
     "metadata": {},
     "output_type": "execute_result"
    }
   ],
   "source": [
    "M1=np.array([[0.5,0.5],[0.1,0.9]])\n",
    "M1"
   ]
  },
  {
   "cell_type": "code",
   "execution_count": 48,
   "metadata": {
    "collapsed": false
   },
   "outputs": [
    {
     "data": {
      "text/plain": [
       "{0: 0, 1: 0}"
      ]
     },
     "execution_count": 48,
     "metadata": {},
     "output_type": "execute_result"
    }
   ],
   "source": [
    "dic=kosarajus_alg(M1)\n",
    "dic"
   ]
  },
  {
   "cell_type": "code",
   "execution_count": 49,
   "metadata": {
    "collapsed": false
   },
   "outputs": [
    {
     "data": {
      "text/plain": [
       "array([[ 0.0978215 ,  0.46619095,  0.47743972,  0.36887089,  0.69080551],\n",
       "       [ 0.43950347,  0.73667744,  0.8021958 ,  0.55096491,  0.53518234],\n",
       "       [ 0.76631177,  0.8380984 ,  0.23823763,  0.45127606,  0.82926872],\n",
       "       [ 0.46261428,  0.76376093,  0.92199326,  0.87630458,  0.89107585],\n",
       "       [ 0.42160449,  0.67615265,  0.54112344,  0.74259112,  0.15391905]])"
      ]
     },
     "execution_count": 49,
     "metadata": {},
     "output_type": "execute_result"
    }
   ],
   "source": [
    "M2=np.random.rand(5,5)\n",
    "M2"
   ]
  },
  {
   "cell_type": "code",
   "execution_count": 50,
   "metadata": {
    "collapsed": false
   },
   "outputs": [
    {
     "name": "stdout",
     "output_type": "stream",
     "text": [
      "{0: 0, 1: 0, 2: 0, 3: 0, 4: 0}\n"
     ]
    },
    {
     "data": {
      "text/plain": [
       "{0: [0, 1, 2, 3, 4]}"
      ]
     },
     "execution_count": 50,
     "metadata": {},
     "output_type": "execute_result"
    }
   ],
   "source": [
    "print(kosarajus_alg(M2))\n",
    "kosarajus_algo2(M2)"
   ]
  },
  {
   "cell_type": "code",
   "execution_count": 51,
   "metadata": {
    "collapsed": false
   },
   "outputs": [
    {
     "data": {
      "text/plain": [
       "array([[ 0.5,  0.5,  0. ,  0. ],\n",
       "       [ 0.1,  0.9,  0. ,  0. ],\n",
       "       [ 0. ,  0. ,  1. ,  0. ],\n",
       "       [ 0. ,  0. ,  0. ,  1. ]])"
      ]
     },
     "execution_count": 51,
     "metadata": {},
     "output_type": "execute_result"
    }
   ],
   "source": [
    "M3=np.array([[0.5,0.5,0,0],[0.1,0.9,0,0],[0,0,1,0],[0,0,0,1]])\n",
    "M3"
   ]
  },
  {
   "cell_type": "code",
   "execution_count": 52,
   "metadata": {
    "collapsed": false
   },
   "outputs": [
    {
     "name": "stdout",
     "output_type": "stream",
     "text": [
      "{0: 0, 1: 0, 2: 2, 3: 3}\n"
     ]
    },
    {
     "data": {
      "text/plain": [
       "{0: [0, 1], 2: [2], 3: [3]}"
      ]
     },
     "execution_count": 52,
     "metadata": {},
     "output_type": "execute_result"
    }
   ],
   "source": [
    "print(kosarajus_alg(M3))\n",
    "kosarajus_algo2(M3)"
   ]
  },
  {
   "cell_type": "code",
   "execution_count": null,
   "metadata": {
    "collapsed": true
   },
   "outputs": [],
   "source": []
  }
 ],
 "metadata": {
  "kernelspec": {
   "display_name": "Python 3",
   "language": "python",
   "name": "python3"
  },
  "language_info": {
   "codemirror_mode": {
    "name": "ipython",
    "version": 3
   },
   "file_extension": ".py",
   "mimetype": "text/x-python",
   "name": "python",
   "nbconvert_exporter": "python",
   "pygments_lexer": "ipython3",
   "version": "3.5.1"
  }
 },
 "nbformat": 4,
 "nbformat_minor": 0
}
