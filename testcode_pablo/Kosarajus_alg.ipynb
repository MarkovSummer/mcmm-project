{
 "cells": [
  {
   "cell_type": "code",
   "execution_count": 2,
   "metadata": {
    "collapsed": true
   },
   "outputs": [],
   "source": [
    "import numpy as np"
   ]
  },
  {
   "cell_type": "code",
   "execution_count": 3,
   "metadata": {
    "collapsed": true
   },
   "outputs": [],
   "source": [
    "def Visit(u,Visited,L,M):\n",
    "    \"\"\"\n",
    "    Recursive subfunction for kosarajus\n",
    "    \n",
    "    INPUT:\n",
    "        \n",
    "        - u = An integer, which represents a vertex (in our numeration).\n",
    "        - Visited = A list of the vertices already visited.\n",
    "        - L = an ordered list of graph vertices, that will grow to contain each vertex once.\n",
    "        - M = A transition matrix (which is the adjacency matrix of a graph).\n",
    "    \n",
    "    OUTPUT:\n",
    "        \n",
    "        - It just adds in order vertices to the list L.\n",
    "    \n",
    "    \"\"\"\n",
    "    out=M[u,:]\n",
    "    if not(u in Visited):\n",
    "        Visited.append(u)\n",
    "        for i in range(len(out)):\n",
    "            if not(out[i]==0):\n",
    "                Visit(i,Visited,L,M)\n",
    "        L.insert(0,u) \n",
    "    return"
   ]
  },
  {
   "cell_type": "code",
   "execution_count": 4,
   "metadata": {
    "collapsed": true
   },
   "outputs": [],
   "source": [
    "def Assign(u,root,components,M):\n",
    "    \"\"\"\n",
    "    Recursive subfunction for kosarajus\n",
    "    Strong components are to be represented by appointing a separate root vertex for each component,\n",
    "    and assigning to each vertex the root vertex of its component.\n",
    "    \n",
    "    INPUT:\n",
    "        \n",
    "        - u = An integer, which represents a vertex (in our numeration) that has to be\n",
    "        assigned to some component.\n",
    "        - root = An integer, which represents a component.\n",
    "        - components = A dictionary containing the vertices (numerated from 0 to n-1), \n",
    "        each vertex associated to the root representing its component.\n",
    "        - M = A transition matrix (which is the adjacency matrix of a graph).\n",
    "    \n",
    "    OUTPUT:\n",
    "    \n",
    "        - It just changes the dictionary components, assigning to each vertex its root.\n",
    "    \n",
    "    \"\"\"\n",
    "    \n",
    "    in_=[i for i in M[:,u]]\n",
    "    \n",
    "    if not u in components:\n",
    "        components[u]=root\n",
    "        for i in range(len(in_)):\n",
    "            if not(in_[i]==0):\n",
    "                Assign(i,root,components,M)\n",
    "    return\n",
    "    "
   ]
  },
  {
   "cell_type": "code",
   "execution_count": 5,
   "metadata": {
    "collapsed": true
   },
   "outputs": [],
   "source": [
    "def Assign2(u,root,LIST,components,M):\n",
    "    \"\"\"\n",
    "    Recursive subfunction for kosarajus\n",
    "    Strong components are to be represented by appointing a separate root vertex for each component,\n",
    "    and assigning to each vertex the root vertex of its component.\n",
    "    \n",
    "    INPUT:\n",
    "        \n",
    "        - u = An integer, which represents a vertex (in our numeration) that has to be\n",
    "        assigned to some component.\n",
    "        - root = An integer, which represents a component.\n",
    "        \n",
    "        - LIST = A list of vertices that are not yet introduced in the dictionary.\n",
    "        \n",
    "        - components = A dictionary containing the vertices (numerated from 0 to n-1), \n",
    "        each vertex associated to the root representing its component.\n",
    "        - M = A transition matrix (which is the adjacency matrix of a graph).\n",
    "    \n",
    "    OUTPUT:\n",
    "    \n",
    "        - It just changes the dictionary components, assigning to each vertex its root.\n",
    "    \n",
    "    \"\"\"\n",
    "    \n",
    "    in_=[i for i in M[:,u]]\n",
    "    \n",
    "    if u in LIST:\n",
    "        \n",
    "        if not root in components:\n",
    "            components[root]=[u]\n",
    "        elif root in components:\n",
    "            components[root].append(u)\n",
    "        LIST.remove(u)\n",
    "            \n",
    "        for i in range(len(in_)):\n",
    "            if not(in_[i]==0):\n",
    "                Assign2(i,root,LIST,components,M)\n",
    "    return"
   ]
  },
  {
   "cell_type": "code",
   "execution_count": 6,
   "metadata": {
    "collapsed": false
   },
   "outputs": [],
   "source": [
    "def kosarajus_alg(M):\n",
    "    \"\"\"\n",
    "    Returns a dictionary containing the vertices and their inclusion in strong components.\n",
    "    Strong components are to be represented by appointing a separate root vertex for each component,\n",
    "    and assigning to each vertex the root vertex of its component.\n",
    "    If the graph is represented as an adjacency matrix, the algorithm requires Ο(V^2) time.\n",
    "    \n",
    "    INPUT:\n",
    "    \n",
    "        - M = A transition matrix (which is the adjacency matrix of a graph).\n",
    "    \n",
    "    OUTPUT:\n",
    "    \n",
    "        - components = A dictionary containing the vertices (numerated from 0 to n-1), \n",
    "        each vertex associated to the root representing its component.\n",
    "    \n",
    "    \"\"\"\n",
    "    \n",
    "    Visited=[]\n",
    "    L=[]\n",
    "    \n",
    "    components={}\n",
    "    \n",
    "    Vertices= [i for i in range(len(M[:,1]))]\n",
    "    \n",
    "    for i in Vertices:\n",
    "        Visit(i,Visited,L,M)\n",
    "    for u in L:\n",
    "        Assign(u,u,components,M)\n",
    "    return components        "
   ]
  },
  {
   "cell_type": "code",
   "execution_count": 7,
   "metadata": {
    "collapsed": true
   },
   "outputs": [],
   "source": [
    "def kosarajus_algo2(M):\n",
    "    \"\"\"\n",
    "    Returns a dictionary containing the vertices and their inclusion in strong components.\n",
    "    Strong components are to be represented by appointing a separate root vertex for each component,\n",
    "    and assigning to each root the list of vertices inside that component.\n",
    "    If the graph is represented as an adjacency matrix, the algorithm requires Ο(V^2) time.\n",
    "    \n",
    "    INPUT:\n",
    "    \n",
    "        - M = A transition matrix (which is the adjacency matrix of a graph).\n",
    "    \n",
    "    OUTPUT:\n",
    "    \n",
    "        - components = A dictionary containing the components (numerated from 0 to ..), \n",
    "        each root associated to a list of vertices that are part of that component.\n",
    "    \n",
    "    \"\"\"\n",
    "    \n",
    "    Visited=[]\n",
    "    L=[]\n",
    "    \n",
    "    components={}\n",
    "    \n",
    "    Vertices= [i for i in range(len(M[:,1]))]\n",
    "    LIST=list(Vertices)\n",
    "    \n",
    "    for i in Vertices:\n",
    "        Visit(i,Visited,L,M)\n",
    "    for u in L:\n",
    "        Assign2(u,u,LIST,components,M)\n",
    "    return components      "
   ]
  },
  {
   "cell_type": "code",
   "execution_count": 31,
   "metadata": {
    "collapsed": true
   },
   "outputs": [],
   "source": [
    "def obtain_active_set(T):\n",
    "    \"\"\"\n",
    "    Function for other parts of the project. It gets the biggest connected component of the matrix \n",
    "    that we are given.\n",
    "    \n",
    "    INPUT:\n",
    "        - T = The probability transition matrix of the markov model.\n",
    "    \n",
    "    OUTPUT:\n",
    "        - C = A square matrix. The biggest connected component of the matrix.\n",
    "        - L = A list of vertices. The states of T that correspond to the biggest component.\n",
    "    \n",
    "    \"\"\"\n",
    "    \n",
    "    b=0\n",
    "    j=0\n",
    "    components=kosarajus_algo2(T)\n",
    "    for i in components:\n",
    "        a=len(components[i])\n",
    "        if a>b:\n",
    "            b=a\n",
    "            j=i\n",
    "    L=list(components[j])\n",
    "    C=np.array([T[i,:] for i in L])\n",
    "    C=np.array([C[:,i] for i in L])\n",
    "    return (C,L)"
   ]
  },
  {
   "cell_type": "code",
   "execution_count": 32,
   "metadata": {
    "collapsed": false
   },
   "outputs": [
    {
     "data": {
      "text/plain": [
       "array([[ 0.5,  0.5],\n",
       "       [ 0.1,  0.9]])"
      ]
     },
     "execution_count": 32,
     "metadata": {},
     "output_type": "execute_result"
    }
   ],
   "source": [
    "M1=np.array([[0.5,0.5],[0.1,0.9]])\n",
    "M1"
   ]
  },
  {
   "cell_type": "code",
   "execution_count": 34,
   "metadata": {
    "collapsed": false
   },
   "outputs": [
    {
     "data": {
      "text/plain": [
       "{0: [0, 2, 1], 3: [3, 5, 4], 6: [6]}"
      ]
     },
     "execution_count": 34,
     "metadata": {},
     "output_type": "execute_result"
    }
   ],
   "source": [
    "a=np.array([[0,1,0,0,0,0,0],[0,1/2,1/2,0,0,0,0],[1/2,0,1/2,0,0,0,0],[0,0,1/4,1/2,1/4,0,0],[0,0,0,0,0,1/2,1/2]\n",
    "            ,[0,0,0,1,0,0,0],[0,0,0,0,0,0,1]])\n",
    "kosarajus_algo2(a)"
   ]
  },
  {
   "cell_type": "code",
   "execution_count": 30,
   "metadata": {
    "collapsed": false
   },
   "outputs": [
    {
     "data": {
      "text/plain": [
       "array([[ 0.77342924,  0.88123755,  0.93391871,  0.41147898,  0.01942876,\n",
       "         0.21232949,  0.61094649,  0.04292789,  0.69906564,  0.29857063],\n",
       "       [ 0.05963261,  0.84038975,  0.51772488,  0.58329488,  0.84052009,\n",
       "         0.20255397,  0.6454204 ,  0.81054557,  0.55281882,  0.04448282],\n",
       "       [ 0.30182656,  0.51788511,  0.57048955,  0.11358506,  0.46228348,\n",
       "         0.60231886,  0.78081028,  0.90069549,  0.50255913,  0.04882871],\n",
       "       [ 0.95339107,  0.69679291,  0.09069482,  0.91848151,  0.6206522 ,\n",
       "         0.3239811 ,  0.14005584,  0.78736777,  0.88791862,  0.64592273],\n",
       "       [ 0.89253824,  0.33239988,  0.53409622,  0.07916055,  0.09372219,\n",
       "         0.26136489,  0.94901861,  0.27098832,  0.8053857 ,  0.4852336 ],\n",
       "       [ 0.28613619,  0.4528511 ,  0.78206502,  0.18443035,  0.04652935,\n",
       "         0.21262223,  0.90433656,  0.06847831,  0.45631058,  0.28315825],\n",
       "       [ 0.63108847,  0.69797056,  0.40886189,  0.42141288,  0.82058935,\n",
       "         0.7759894 ,  0.63925523,  0.8859665 ,  0.45599572,  0.26909435],\n",
       "       [ 0.67384548,  0.41994686,  0.83220958,  0.91201869,  0.8231191 ,\n",
       "         0.78208463,  0.82479993,  0.95479401,  0.85771364,  0.14652644],\n",
       "       [ 0.24023564,  0.77477792,  0.01692693,  0.42761822,  0.21864579,\n",
       "         0.53871387,  0.43116472,  0.20751125,  0.26487641,  0.9954048 ],\n",
       "       [ 0.31613755,  0.76032578,  0.56439853,  0.7119378 ,  0.9078913 ,\n",
       "         0.00306728,  0.40457952,  0.4575671 ,  0.63543626,  0.96296441]])"
      ]
     },
     "execution_count": 30,
     "metadata": {},
     "output_type": "execute_result"
    }
   ],
   "source": [
    "M2=np.random.rand(10,10)\n",
    "M2"
   ]
  },
  {
   "cell_type": "code",
   "execution_count": 11,
   "metadata": {
    "collapsed": false
   },
   "outputs": [
    {
     "name": "stdout",
     "output_type": "stream",
     "text": [
      "{0: 0, 1: 0, 2: 0, 3: 0, 4: 0, 5: 0, 6: 0, 7: 0, 8: 0, 9: 0}\n",
      "{0: [0, 1, 2, 3, 4, 5, 6, 7, 8, 9]}\n",
      "0\n"
     ]
    }
   ],
   "source": [
    "print(kosarajus_alg(M2))\n",
    "components=kosarajus_algo2(M2)\n",
    "print(components)\n",
    "for i in components:\n",
    "    print(i)"
   ]
  },
  {
   "cell_type": "code",
   "execution_count": 12,
   "metadata": {
    "collapsed": false
   },
   "outputs": [
    {
     "name": "stdout",
     "output_type": "stream",
     "text": [
      "[[ 0.5  0.5  0.   0. ]\n",
      " [ 0.1  0.9  0.   0. ]\n",
      " [ 0.   0.   1.   0. ]\n",
      " [ 0.   0.   0.   1. ]]\n",
      "{0: [0, 1], 2: [2], 3: [3]}\n",
      "0\n",
      "[0, 1]\n",
      "2\n",
      "[2]\n",
      "3\n",
      "[3]\n"
     ]
    }
   ],
   "source": [
    "M3=np.array([[0.5,0.5,0,0],[0.1,0.9,0,0],[0,0,1,0],[0,0,0,1]])\n",
    "print(M3)\n",
    "components=kosarajus_algo2(M3)\n",
    "print(components)\n",
    "for i in components:\n",
    "    print(i)\n",
    "    print(components[i])"
   ]
  },
  {
   "cell_type": "code",
   "execution_count": 13,
   "metadata": {
    "collapsed": false
   },
   "outputs": [
    {
     "data": {
      "text/plain": [
       "(array([[ 0.5,  0.1],\n",
       "        [ 0.5,  0.9]]), [0, 1])"
      ]
     },
     "execution_count": 13,
     "metadata": {},
     "output_type": "execute_result"
    }
   ],
   "source": [
    "obtain_active_set(M3)"
   ]
  },
  {
   "cell_type": "code",
   "execution_count": 14,
   "metadata": {
    "collapsed": false
   },
   "outputs": [
    {
     "data": {
      "text/plain": [
       "array([ 0.5,  0.5,  0. ,  0. ])"
      ]
     },
     "execution_count": 14,
     "metadata": {},
     "output_type": "execute_result"
    }
   ],
   "source": [
    "M3[0,:]"
   ]
  },
  {
   "cell_type": "code",
   "execution_count": 15,
   "metadata": {
    "collapsed": false
   },
   "outputs": [
    {
     "data": {
      "text/plain": [
       "array([ 0.1,  0.9,  0. ,  0. ])"
      ]
     },
     "execution_count": 15,
     "metadata": {},
     "output_type": "execute_result"
    }
   ],
   "source": [
    "M3[1,:]"
   ]
  },
  {
   "cell_type": "code",
   "execution_count": 16,
   "metadata": {
    "collapsed": false
   },
   "outputs": [
    {
     "data": {
      "text/plain": [
       "array([[ 0.5,  0.1],\n",
       "       [ 0.5,  0.9]])"
      ]
     },
     "execution_count": 16,
     "metadata": {},
     "output_type": "execute_result"
    }
   ],
   "source": [
    "c=np.array([M3[0,:],M3[1,:]])\n",
    "c=np.array([c[:,0],c[:,1]])\n",
    "c"
   ]
  },
  {
   "cell_type": "code",
   "execution_count": 17,
   "metadata": {
    "collapsed": false
   },
   "outputs": [
    {
     "name": "stdout",
     "output_type": "stream",
     "text": [
      "{0: 0, 1: 0, 2: 2, 3: 3}\n"
     ]
    },
    {
     "data": {
      "text/plain": [
       "{0: [0, 1], 2: [2], 3: [3]}"
      ]
     },
     "execution_count": 17,
     "metadata": {},
     "output_type": "execute_result"
    }
   ],
   "source": [
    "print(kosarajus_alg(M3))\n",
    "kosarajus_algo2(M3)"
   ]
  },
  {
   "cell_type": "code",
   "execution_count": 29,
   "metadata": {
    "collapsed": false
   },
   "outputs": [
    {
     "data": {
      "text/plain": [
       "{0: [0, 9, 6], 1: [1, 4, 7, 2], 3: [3], 5: [5], 8: [8]}"
      ]
     },
     "execution_count": 29,
     "metadata": {},
     "output_type": "execute_result"
    }
   ],
   "source": [
    "D=np.array([[0,0,0,0,0,0,1,0,0,0],[0,0.3,0.3,0.1,0.3,0,0,0,0,0],[0,0,0.6,0,0,0,0,0.4,0,0],[0,0,0,1,0,0,0,0,0,0],\n",
    "            [0,0.4,0,0,0,0.3,0,0.3,0,0],[0,0,0,0.9,0,0,0.1,0,0,0],[0,0,0,0,0,0,0,0,0,1],[0,0.8,0,0,0,0,0,0.2,0,0],\n",
    "           [0,0,0,0,0,0,0,0,1,0],[1,0,0,0,0,0,0,0,0,0]])\n",
    "kosarajus_algo2(D)"
   ]
  },
  {
   "cell_type": "code",
   "execution_count": 22,
   "metadata": {
    "collapsed": false
   },
   "outputs": [
    {
     "data": {
      "text/plain": [
       "array([[ 0.3,  0.4,  0.8,  0. ],\n",
       "       [ 0.3,  0. ,  0. ,  0. ],\n",
       "       [ 0. ,  0.3,  0.2,  0.4],\n",
       "       [ 0.3,  0. ,  0. ,  0.6]])"
      ]
     },
     "execution_count": 22,
     "metadata": {},
     "output_type": "execute_result"
    }
   ],
   "source": [
    "d=obtain_active_set(D)[0]\n",
    "d"
   ]
  },
  {
   "cell_type": "code",
   "execution_count": 27,
   "metadata": {
    "collapsed": false
   },
   "outputs": [
    {
     "data": {
      "text/plain": [
       "array([ 0.25,  0.25,  0.25,  0.25])"
      ]
     },
     "execution_count": 27,
     "metadata": {},
     "output_type": "execute_result"
    }
   ],
   "source": [
    "stationary_sol(d)"
   ]
  },
  {
   "cell_type": "code",
   "execution_count": null,
   "metadata": {
    "collapsed": true
   },
   "outputs": [],
   "source": []
  }
 ],
 "metadata": {
  "kernelspec": {
   "display_name": "Python 3",
   "language": "python",
   "name": "python3"
  },
  "language_info": {
   "codemirror_mode": {
    "name": "ipython",
    "version": 3
   },
   "file_extension": ".py",
   "mimetype": "text/x-python",
   "name": "python",
   "nbconvert_exporter": "python",
   "pygments_lexer": "ipython3",
   "version": "3.5.1"
  }
 },
 "nbformat": 4,
 "nbformat_minor": 0
}
