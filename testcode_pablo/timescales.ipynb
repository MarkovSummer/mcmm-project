{
 "cells": [
  {
   "cell_type": "code",
   "execution_count": 104,
   "metadata": {
    "collapsed": false
   },
   "outputs": [],
   "source": [
    "import numpy as np\n",
    "import sympy as sy\n",
    "import scipy as spy\n",
    "from scipy.linalg import expm\n",
    "import pylab as py \n",
    "from random import random"
   ]
  },
  {
   "cell_type": "code",
   "execution_count": 2,
   "metadata": {
    "collapsed": true
   },
   "outputs": [],
   "source": [
    "def normalize(M):\n",
    "    \"\"\"\n",
    "    Subfunction for T. It normalizes the matrix given as input.\n",
    "    \n",
    "    INPUT:\n",
    "        - M = A matrix M.\n",
    "        \n",
    "    OUTPUT:\n",
    "        - M0 = The matrix M normalized, with rows that add to 1.     \n",
    "    \"\"\"\n",
    "    \n",
    "    M0=np.array(M)\n",
    "    if M0.ndim == 1:\n",
    "        s= M0.sum()\n",
    "        return np.divide(M0,s)\n",
    "        \n",
    "    elif M0.ndim == 2:\n",
    "        s=M0.sum(axis=1)\n",
    "        return np.divide(M0,s[:,np.newaxis])\n",
    "    else:\n",
    "        return \"Normalize. Wrong input\""
   ]
  },
  {
   "cell_type": "code",
   "execution_count": 4,
   "metadata": {
    "collapsed": true
   },
   "outputs": [],
   "source": [
    "def stat(T):\n",
    "    w, v = np.linalg.eig(T.T)\n",
    "    \n",
    "    j_stat =np.argmin(abs(w-1.0))\n",
    "    p_stat=v[:,j_stat].real\n",
    "    p_stat /= p_stat.sum()\n",
    "    return p_stat"
   ]
  },
  {
   "cell_type": "code",
   "execution_count": 57,
   "metadata": {
    "collapsed": false
   },
   "outputs": [
    {
     "data": {
      "text/plain": [
       "matrix([[ 0.25],\n",
       "        [ 0.25],\n",
       "        [ 0.25],\n",
       "        [ 0.25]])"
      ]
     },
     "execution_count": 57,
     "metadata": {},
     "output_type": "execute_result"
    }
   ],
   "source": [
    "T=np.matrix([[0.9,0.1,0,0],[0.1,0.89,0.01,0],[0,0.01,0.79,0.2],[0,0,0.2,0.8]])\n",
    "stat(T)"
   ]
  },
  {
   "cell_type": "code",
   "execution_count": 7,
   "metadata": {
    "collapsed": true
   },
   "outputs": [],
   "source": [
    "def mean_recurrence_time(T):\n",
    "    \"\"\"\n",
    "    The mean_recurrence_time (μ_i) is the mean time to return to state i, given that we start in state i. \n",
    "    In other words, Let T_i be the first time we enter state i, starting from time 1. So we have that\n",
    "    μ_i = E[T_i | X_0 = i]. μ_i is the inverse of the stationary distribution.\n",
    "    \n",
    "    INPUT:\n",
    "        - T = A markov transition matrix.\n",
    "        \n",
    "    OUTPUT:\n",
    "        - A vector. The inverse of the stationary distribution.\n",
    "    \"\"\"\n",
    "    \n",
    "    pi=stationary_distribution(T)\n",
    "    mr=np.ones(len(pi))\n",
    "    return np.divide(mr,pi)"
   ]
  },
  {
   "cell_type": "code",
   "execution_count": 105,
   "metadata": {
    "collapsed": false
   },
   "outputs": [],
   "source": [
    "def implied_timescales(T,lag):\n",
    "    \"\"\"\n",
    "    Calculates timescale_i(k*lag)=\n",
    "    \n",
    "    INPUT:\n",
    "        - T = A markov transition matrix.\n",
    "        - lag = reference lagtime we are considering.\n",
    "    \"\"\"\n",
    "    \n",
    "    \n",
    "    eig_val, eig_vec=np.linalg.eig(expm(T,lag))\n",
    "    L=[]\n",
    "    for i in range(len(eig_val)):\n",
    "        L.append(-(lag)/(np.log(np.absolute(eig_val[i]))))\n",
    "    return(L)"
   ]
  },
  {
   "cell_type": "code",
   "execution_count": 106,
   "metadata": {
    "collapsed": false
   },
   "outputs": [
    {
     "data": {
      "text/plain": [
       "[-3.7741460861436424,\n",
       " -3.0000000000000022,\n",
       " -3.0291524798495226,\n",
       " -5.0442025019265255]"
      ]
     },
     "execution_count": 106,
     "metadata": {},
     "output_type": "execute_result"
    }
   ],
   "source": [
    "implied_timescales(T,3)"
   ]
  },
  {
   "cell_type": "code",
   "execution_count": 43,
   "metadata": {
    "collapsed": false
   },
   "outputs": [
    {
     "data": {
      "text/plain": [
       "[35.403688032812397,\n",
       " 1501199875790165.8,\n",
       " 424.31824323124607,\n",
       " 2.1385733837202801,\n",
       " 2.7343778941652412,\n",
       " 2.8036732520571248,\n",
       " 2.803673252057131,\n",
       " 2.8036732520571297,\n",
       " 2.8036732520571297]"
      ]
     },
     "execution_count": 43,
     "metadata": {},
     "output_type": "execute_result"
    }
   ],
   "source": [
    "s=np.array([[0.8,0.1,0.1,0,0,0,0,0,0],[0.1,0.8,0.1,0,0,0,0,0,0],[0.1,0.1,0.75,0.05,0,0,0,0,0],\n",
    "           [0,0,0.05,0.75,0.1,0.1,0,0,0],[0,0,0,0.1,0.8,0.1,0,0,0],[0,0,0,0.1,0.1,0.795,0.005,0,0],\n",
    "           [0,0,0,0,0,0.005,0.795,0.1,0.1],[0,0,0,0,0,0,0.1,0.8,0.1],[0,0,0,0,0,0,0.1,0.1,0.8]])\n",
    "implied_timescales(s,1)"
   ]
  },
  {
   "cell_type": "code",
   "execution_count": 10,
   "metadata": {
    "collapsed": true
   },
   "outputs": [],
   "source": [
    "def hitting_time_ij(T,i,j,steps):\n",
    "    \"\"\"\n",
    "    Calculates the hitting time between states i, j from the markov transition matrix.\n",
    "    Since p_ij is the probability of going to state j given that we are in state \n",
    "    i, the product π_i * p_ij is the long run proportion of transitions that go from state\n",
    "    i to state j.\n",
    "    \n",
    "    INPUT:\n",
    "        - T = A markov transiton matrix.\n",
    "        - i = Some state from which we start.\n",
    "        - j = Some state where we wanna arrive.\n",
    "        - steps = An integer. Max number of steps we want to consider.\n",
    "        \n",
    "    OUTPUT:\n",
    "        - A picture showing how hitting probability between i and j changes with time.\n",
    "        - Limiting probability of going from state i to state j.\n",
    "\n",
    "    \"\"\"\n",
    "    \n",
    "    A=T.copy()\n",
    "    \n",
    "    hit_idx = (i,j)\n",
    "\n",
    "    # Make the final state an absorbing condition\n",
    "    A[hit_idx[1],:] = 0\n",
    "    A[hit_idx[1],hit_idx[1]] = 1\n",
    "\n",
    "    # Make a proper Markov matrix by row normalizing\n",
    "    A = (A.T/A.sum(axis=1)).T\n",
    "    \n",
    "    B = A.copy()\n",
    "    Z = []\n",
    "    for n in range(steps):\n",
    "        Z.append( B[hit_idx] )\n",
    "        B = py.dot(B,A)\n",
    "    \n",
    "    py.plot(Z)\n",
    "    py.xlabel(\"steps\")\n",
    "    py.ylabel(\"hit probability\")\n",
    "    py.show()"
   ]
  },
  {
   "cell_type": "code",
   "execution_count": 11,
   "metadata": {
    "collapsed": false
   },
   "outputs": [],
   "source": [
    "hitting_time_ij(T,0,3,2000)"
   ]
  },
  {
   "cell_type": "code",
   "execution_count": 12,
   "metadata": {
    "collapsed": false
   },
   "outputs": [
    {
     "data": {
      "text/plain": [
       "array([ 0.11111111,  0.11111111,  0.11111111,  0.11111111,  0.11111111,\n",
       "        0.11111111,  0.11111111,  0.11111111,  0.11111111])"
      ]
     },
     "execution_count": 12,
     "metadata": {},
     "output_type": "execute_result"
    }
   ],
   "source": [
    "s=np.array([[0.8,0.1,0.1,0,0,0,0,0,0],[0.1,0.8,0.1,0,0,0,0,0,0],[0.1,0.1,0.75,0.05,0,0,0,0,0],\n",
    "           [0,0,0.05,0.75,0.1,0.1,0,0,0],[0,0,0,0.1,0.8,0.1,0,0,0],[0,0,0,0.1,0.1,0.795,0.005,0,0],\n",
    "           [0,0,0,0,0,0.005,0.795,0.1,0.1],[0,0,0,0,0,0,0.1,0.8,0.1],[0,0,0,0,0,0,0.1,0.1,0.8]])\n",
    "stat(s)"
   ]
  },
  {
   "cell_type": "code",
   "execution_count": 13,
   "metadata": {
    "collapsed": true
   },
   "outputs": [],
   "source": [
    "hitting_time_ij(s,0,2,2000)"
   ]
  },
  {
   "cell_type": "code",
   "execution_count": 14,
   "metadata": {
    "collapsed": false
   },
   "outputs": [
    {
     "data": {
      "text/plain": [
       "matrix([[ 0.9  ,  0.1  ,  0.   ,  0.   ],\n",
       "        [ 0.1  ,  0.895,  0.005,  0.   ],\n",
       "        [ 0.   ,  0.005,  0.795,  0.2  ],\n",
       "        [ 0.   ,  0.   ,  0.2  ,  0.8  ]])"
      ]
     },
     "execution_count": 14,
     "metadata": {},
     "output_type": "execute_result"
    }
   ],
   "source": [
    "T"
   ]
  },
  {
   "cell_type": "code",
   "execution_count": 90,
   "metadata": {
    "collapsed": false
   },
   "outputs": [],
   "source": [
    "def plot_timescales(T,LAG):\n",
    "    \"\"\"\n",
    "    \n",
    "    INPUT:\n",
    "        - n_eig: number of eigenvalues to be ploted. The first n_eig eigenvalues will be ploted.\n",
    "    \"\"\"\n",
    "    \n",
    "    eig=np.linalg.eig(T)\n",
    "    k=len(eig[0])\n",
    "    \n",
    "    d=len(T)\n",
    "    t=[]\n",
    "    \n",
    "    for i in range(k):\n",
    "        t.append([])\n",
    "        \n",
    "    for lag in LAG:\n",
    "        t_lag=implied_timescales(T,lag)\n",
    "        for j in range(k):\n",
    "            if -100<t_lag[j]<100:\n",
    "                (t[j]).append(t_lag[j])\n",
    "            else:\n",
    "                (t[j]).append(0)\n",
    "    for i in range(len(t)):\n",
    "        py.plot(LAG,t[i],'o',linestyle='-')\n",
    "    py.xlabel('Lag time')\n",
    "    py.ylabel('Implied timescale')\n",
    "    py.show()    "
   ]
  },
  {
   "cell_type": "code",
   "execution_count": 107,
   "metadata": {
    "collapsed": false
   },
   "outputs": [],
   "source": [
    "LAG=np.array([1,2,3,4,5,7,10,15,20,30,40,50,60,80,100])\n",
    "plot_timescales(T,LAG)"
   ]
  },
  {
   "cell_type": "code",
   "execution_count": 34,
   "metadata": {
    "collapsed": false
   },
   "outputs": [
    {
     "data": {
      "text/plain": [
       "array([[ 0.8  ,  0.1  ,  0.1  ,  0.   ,  0.   ,  0.   ,  0.   ,  0.   ,  0.   ],\n",
       "       [ 0.1  ,  0.8  ,  0.1  ,  0.   ,  0.   ,  0.   ,  0.   ,  0.   ,  0.   ],\n",
       "       [ 0.1  ,  0.1  ,  0.75 ,  0.05 ,  0.   ,  0.   ,  0.   ,  0.   ,  0.   ],\n",
       "       [ 0.   ,  0.   ,  0.05 ,  0.75 ,  0.1  ,  0.1  ,  0.   ,  0.   ,  0.   ],\n",
       "       [ 0.   ,  0.   ,  0.   ,  0.1  ,  0.8  ,  0.1  ,  0.   ,  0.   ,  0.   ],\n",
       "       [ 0.   ,  0.   ,  0.   ,  0.1  ,  0.1  ,  0.795,  0.005,  0.   ,  0.   ],\n",
       "       [ 0.   ,  0.   ,  0.   ,  0.   ,  0.   ,  0.005,  0.795,  0.1  ,\n",
       "         0.1  ],\n",
       "       [ 0.   ,  0.   ,  0.   ,  0.   ,  0.   ,  0.   ,  0.1  ,  0.8  ,\n",
       "         0.1  ],\n",
       "       [ 0.   ,  0.   ,  0.   ,  0.   ,  0.   ,  0.   ,  0.1  ,  0.1  ,\n",
       "         0.8  ]])"
      ]
     },
     "execution_count": 34,
     "metadata": {},
     "output_type": "execute_result"
    }
   ],
   "source": [
    "s"
   ]
  },
  {
   "cell_type": "code",
   "execution_count": 84,
   "metadata": {
    "collapsed": false
   },
   "outputs": [],
   "source": [
    "LAG=np.array([1,2,3,4,5,7,10,15,20,30,40,50,60,80,100])\n",
    "plot_timescales(s,LAG)"
   ]
  },
  {
   "cell_type": "code",
   "execution_count": 85,
   "metadata": {
    "collapsed": false
   },
   "outputs": [],
   "source": [
    "LAG2=np.array([1,2,3,4,5,6,7,8,9,10,11,12,13,14,15])\n",
    "plot_timescales(s,LAG2)"
   ]
  },
  {
   "cell_type": "code",
   "execution_count": 91,
   "metadata": {
    "collapsed": false
   },
   "outputs": [],
   "source": [
    "plot_timescales(T,LAG2)"
   ]
  },
  {
   "cell_type": "code",
   "execution_count": 50,
   "metadata": {
    "collapsed": false
   },
   "outputs": [],
   "source": [
    "LAG3=np.array([1,5,10,15,20,30,50,70,100,200,300,400,500,700,1000,1300,1700,2000])"
   ]
  },
  {
   "cell_type": "code",
   "execution_count": null,
   "metadata": {
    "collapsed": true
   },
   "outputs": [],
   "source": [
    "def decay_timescale(T):\n",
    "    \"\"\"\n",
    "    It computes the decay or relaxation timescale of an ergodic Markov chain. In such a chain,\n",
    "    the amplitudes of the distortions from equilibrium decay exponentially with discrete time k.\n",
    "    \n",
    "    INPUT:\n",
    "        -\n",
    "        \n",
    "    OUTPUT:\n",
    "        - \n",
    "    \"\"\"\n",
    "    \n",
    "    eig=np.linalg.eig(T)\n",
    "    eig=eig[0]\n",
    "    eig=np.absolute(eig)\n",
    "    t=np.ones(len(eig))\n",
    "    return np.divide(t,(-1*(np.log(eig))))"
   ]
  },
  {
   "cell_type": "code",
   "execution_count": null,
   "metadata": {
    "collapsed": true
   },
   "outputs": [],
   "source": [
    "def paso(i,T):\n",
    "    \"\"\"\n",
    "    Function that simulates a random pass from state i in a markov model. It gives back the vertex\n",
    "    that is reached.\n",
    "    \n",
    "    INPUT:\n",
    "        - i: the original vertex.\n",
    "        - T: the Markov transition matrix.\n",
    "        \n",
    "    OUTPUT:\n",
    "        - j: the vertex reached from i in this random experiment.\n",
    "    \"\"\"\n",
    "\n",
    "    T=np.squeeze(np.asarray(T))\n",
    "    Fi=[sum(T[i][:j+1]) for j in range(len(T[i]))]\n",
    "    a=random()\n",
    "    k=0\n",
    "    while a>=Fi[k]:\n",
    "        k+=1\n",
    "    return k"
   ]
  },
  {
   "cell_type": "code",
   "execution_count": null,
   "metadata": {
    "collapsed": false
   },
   "outputs": [],
   "source": [
    "\"Test to check whether paso works.\"\n",
    "\n",
    "m=1000\n",
    "\n",
    "vertex=[0,1,2,3]\n",
    "L=[[],[],[],[]]\n",
    "\n",
    "for i in range(m):\n",
    "    for v in vertex:\n",
    "        L[v].append(paso(v,T))\n",
    "for v in vertex:\n",
    "    print((L[v].count(0))/m,(L[v].count(1))/m,(L[v].count(2))/m,(L[v].count(3))/m)"
   ]
  },
  {
   "cell_type": "code",
   "execution_count": null,
   "metadata": {
    "collapsed": true
   },
   "outputs": [],
   "source": [
    "def camino(i,pasos,T):\n",
    "    estado=[i]\n",
    "    for k in range(pasos):\n",
    "        estado.append(paso(estado[-1],T))\n",
    "    return estado"
   ]
  },
  {
   "cell_type": "code",
   "execution_count": null,
   "metadata": {
    "collapsed": false
   },
   "outputs": [],
   "source": [
    "viaje=camino(2,100,T)\n",
    "viaje.count(0),viaje.count(1),viaje.count(2),viaje.count(3)"
   ]
  },
  {
   "cell_type": "code",
   "execution_count": null,
   "metadata": {
    "collapsed": false
   },
   "outputs": [],
   "source": [
    "\"\"\"Test to check wheter in long trips from random initial vertices we end up in a vertex with the prob\n",
    "of the stationary distribution\"\"\"\n",
    "\n",
    "m1=1000\n",
    "m2=100\n",
    "\n",
    "vertices=[0,1,2,3]\n",
    "L=[[],[],[],[]]\n",
    "\n",
    "for i in range(m1):\n",
    "    a=random()\n",
    "    if 0<a<=0.25:\n",
    "        l=0\n",
    "    elif 0.25<a<=0.5:\n",
    "        l=1\n",
    "    elif 0.5<a<=0.75:\n",
    "        l=2\n",
    "    elif 0.75<a<=1:\n",
    "        l=3\n",
    "    viaje=camino(l,m2,T)\n",
    "    L[l].append(viaje[len(viaje)-1])\n",
    "for v in vertex:\n",
    "    print((L[v].count(0))/(len(L[v])),(L[v].count(1))/(len(L[v])),(L[v].count(2))/(len(L[v])),\n",
    "          (L[v].count(3))/(len(L[v])))"
   ]
  },
  {
   "cell_type": "code",
   "execution_count": null,
   "metadata": {
    "collapsed": false
   },
   "outputs": [],
   "source": [
    "P=np.matrix([[1/4,3/4],[1/5,4/5]])\n",
    "\n",
    "\"\"\"Test to check the medium time we stay in each state when we run m1 paths of m2 steps\"\"\"\n",
    "\n",
    "m1=1000\n",
    "m2=100\n",
    "\n",
    "vertices=[0,1]\n",
    "L=[[],[]]\n",
    "\n",
    "for i in range(m1):\n",
    "    a=random()\n",
    "    if 0<a<=0.5:\n",
    "        l=0\n",
    "    elif 0.5<a<=1:\n",
    "        l=1\n",
    "    viaje=camino(l,m2,P)\n",
    "    for l in vertices:\n",
    "        L[l].append(viaje.count(l))\n",
    "for v in vertices:\n",
    "    print((np.array(L[v])).sum())"
   ]
  },
  {
   "cell_type": "code",
   "execution_count": null,
   "metadata": {
    "collapsed": false
   },
   "outputs": [],
   "source": [
    "T=np.matrix([[0.9,0.1,0,0],[0.1,0.895,0.005,0],[0,0.005,0.795,0.2],[0,0,0.2,0.8]])\n",
    "\n",
    "\"\"\"Test to check the medium time we stay in each state when we run m1 paths of m2 steps\"\"\"\n",
    "\n",
    "m1=1000\n",
    "m2=100\n",
    "\n",
    "vertices=[0,1,2,3]\n",
    "L=[[],[],[],[]]\n",
    "\n",
    "for i in range(m1):\n",
    "    a=random()\n",
    "    if 0<a<=0.25:\n",
    "        l=0\n",
    "    elif 0.25<a<=0.5:\n",
    "        l=1\n",
    "    elif 0.5<a<=0.75:\n",
    "        l=2\n",
    "    elif 0.75<a<=1:\n",
    "        l=3\n",
    "    viaje=camino(l,m2,T)\n",
    "    for l in vertices:\n",
    "        L[l].append(viaje.count(l))\n",
    "for v in vertices:\n",
    "    print((np.array(L[v])).sum())"
   ]
  },
  {
   "cell_type": "code",
   "execution_count": null,
   "metadata": {
    "collapsed": true
   },
   "outputs": [],
   "source": []
  }
 ],
 "metadata": {
  "kernelspec": {
   "display_name": "Python 3",
   "language": "python",
   "name": "python3"
  },
  "language_info": {
   "codemirror_mode": {
    "name": "ipython",
    "version": 3
   },
   "file_extension": ".py",
   "mimetype": "text/x-python",
   "name": "python",
   "nbconvert_exporter": "python",
   "pygments_lexer": "ipython3",
   "version": "3.5.1"
  }
 },
 "nbformat": 4,
 "nbformat_minor": 0
}
