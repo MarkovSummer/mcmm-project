{
 "cells": [
  {
   "cell_type": "code",
   "execution_count": 401,
   "metadata": {
    "collapsed": false
   },
   "outputs": [],
   "source": [
    "import numpy as np\n",
    "import sympy as sy\n",
    "import pylab as py \n",
    "from random import random"
   ]
  },
  {
   "cell_type": "code",
   "execution_count": 390,
   "metadata": {
    "collapsed": true
   },
   "outputs": [],
   "source": [
    "def stationary_distribution(T):\n",
    "    \"\"\"\n",
    "    Given a random matrix T, returns a stationary sol a, s.t. Ta=a\n",
    "    \n",
    "    INPUT:\n",
    "        - T = Some square matrix.\n",
    "        \n",
    "    OUTPUT:\n",
    "        - A column vector. The stationary vector of the matrix.   \n",
    "    \"\"\"\n",
    "    \n",
    "    d=len(T)\n",
    "    A=np.copy(T)\n",
    "    I=np.identity(d)\n",
    "    A=A-I\n",
    "    A=np.transpose(A)\n",
    "    i=np.ones(d)\n",
    "    A=np.vstack([A,i])\n",
    "    A=np.array(A)\n",
    "    b=np.append([0 for i in range(d)],[[1]])\n",
    "    return (np.linalg.lstsq(A,b))[0]"
   ]
  },
  {
   "cell_type": "code",
   "execution_count": 9,
   "metadata": {
    "collapsed": true
   },
   "outputs": [],
   "source": [
    "def decay_timescale(T):\n",
    "    \"\"\"\n",
    "    It computes the decay or relaxation timescale of an ergodic Markov chain. In such a chain,\n",
    "    the amplitudes of the distortions from equilibrium decay exponentially with discrete time k.\n",
    "    \n",
    "    INPUT:\n",
    "        -\n",
    "        \n",
    "    OUTPUT:\n",
    "        - \n",
    "    \"\"\"\n",
    "    \n",
    "    eig=np.linalg.eig(T)\n",
    "    eig=eig[0]\n",
    "    eig=np.absolute(eig)\n",
    "    t=np.ones(len(eig))\n",
    "    return np.divide(t,(-1*(np.log(eig))))"
   ]
  },
  {
   "cell_type": "code",
   "execution_count": 421,
   "metadata": {
    "collapsed": true
   },
   "outputs": [],
   "source": [
    "def mean_recurrence_time(T):\n",
    "    \"\"\"\n",
    "    If the stationary distribution π exists then this means that the \"long-term\" probability of being in \n",
    "    state i is given by π(i). One can think of these probabilities as the proportion \n",
    "    of time on average that the system spends in states. So the mean recurrence times are given by 1/π(i).\n",
    "    \n",
    "    INPUT:\n",
    "        - T: An ergodic markov transition matrix.\n",
    "        \n",
    "    OUTPUT:\n",
    "        - \n",
    "    \"\"\"\n",
    "    \n",
    "    pi=stationary_distribution(T)\n",
    "    mr=np.ones(len(pi))\n",
    "    return np.divide(mr,pi)"
   ]
  },
  {
   "cell_type": "code",
   "execution_count": 11,
   "metadata": {
    "collapsed": true
   },
   "outputs": [],
   "source": [
    "def speed_of_convergence_k(T,p0,k):\n",
    "    \"\"\"\n",
    "    It gives an approximation on the expected speed of convergence of an ergodic Markov chain. \n",
    "    It can be bounded by an exponential decay with the slowest timescale t2 in the system. For times much\n",
    "    greater than k >> t3, all but the first term vanish and we get an approximation: \n",
    "    E(k)=(eig[2]))^k * norm(<p0,r2>*l2) where <p0,r2> is the scalar product.\n",
    "    \n",
    "    INPUT:\n",
    "        - T:\n",
    "        - p0:\n",
    "        - k:\n",
    "        \n",
    "    OUTPUT:\n",
    "        -\n",
    "    \"\"\"\n",
    "    \n",
    "    eig=np.linalg.eig(T)\n",
    "    eig_val=eig[0]\n",
    "    eig_val= np.sort(eig_val)\n",
    "    \n",
    "    right_eig=eig[1]\n",
    "    left_eig=np.linalg.eig(np.transpose(T))\n",
    "    left_eig=left_eig[1]\n",
    "    \n",
    "    print((eig_val[len(eig_val)-2]))\n",
    "    print(np.power((eig_val[len(eig_val)-2]),k))\n",
    "    E_k = (np.power((eig_val[len(eig_val)-2]),k))*(np.linalg.norm((p0*right_eig)*left_eig))\n",
    "    return E_k"
   ]
  },
  {
   "cell_type": "code",
   "execution_count": 205,
   "metadata": {
    "collapsed": false
   },
   "outputs": [],
   "source": [
    "def normalize(M):\n",
    "    \"\"\"\n",
    "    Subfunction for T. It normalizes the matrix given as input.\n",
    "    \n",
    "    INPUT:\n",
    "        - M = A matrix M.\n",
    "        \n",
    "    OUTPUT:\n",
    "        - M0 = The matrix M normalized, with rows that add to 1.     \n",
    "    \"\"\"\n",
    "    \n",
    "    M0=np.array(M)\n",
    "    if M0.ndim == 1:\n",
    "        s= np.absolute(M0).sum()\n",
    "        return np.divide(M0,s)\n",
    "        \n",
    "    elif M0.ndim == 2:\n",
    "        s=M0.sum(axis=1)\n",
    "        return np.divide(M0,s[:,np.newaxis])\n",
    "    else:\n",
    "        return \"Normalize. Wrong input\"\n",
    "    \n",
    "#----------------------------------------------#\n",
    "\n",
    "def stationary_sol(T):\n",
    "    \"\"\"\n",
    "    Given a random matrix T, returns a stationary sol a, s.t. aT=a\n",
    "    \n",
    "    INPUT:\n",
    "        - T = Some square matrix.\n",
    "        \n",
    "    OUTPUT:\n",
    "        - A column vector. The stationary vector of the matrix.   \n",
    "    \"\"\"\n",
    "    \n",
    "    T0=normalize(T)\n",
    "    T0=np.transpose(T)\n",
    "    eig=np.linalg.eig(T0)\n",
    "    for i in range(len(eig[0])):\n",
    "        if np.around(eig[0][i])==1: #considers only integer part\n",
    "            pi=np.absolute(np.real(eig[1][:,i]))\n",
    "            return np.transpose(np.matrix(pi))\n",
    "    return \"No eigenvalue 1\""
   ]
  },
  {
   "cell_type": "code",
   "execution_count": 383,
   "metadata": {
    "collapsed": false
   },
   "outputs": [
    {
     "name": "stdout",
     "output_type": "stream",
     "text": [
      "[[ 0.25  0.2 ]\n",
      " [ 0.75  0.8 ]]\n",
      "[ 0.21052632  0.78947368]\n",
      "[[ 0.21052632]\n",
      " [ 0.78947368]]\n"
     ]
    },
    {
     "data": {
      "text/plain": [
       "matrix([[ 0.21052632],\n",
       "        [ 0.78947368]])"
      ]
     },
     "execution_count": 383,
     "metadata": {},
     "output_type": "execute_result"
    }
   ],
   "source": [
    "print(P)\n",
    "pi=stationary_distribution(P)\n",
    "print(pi)\n",
    "c=np.matrix(pi)\n",
    "c=np.transpose(c)\n",
    "print(c)\n",
    "P*c"
   ]
  },
  {
   "cell_type": "code",
   "execution_count": 209,
   "metadata": {
    "collapsed": false
   },
   "outputs": [
    {
     "name": "stdout",
     "output_type": "stream",
     "text": [
      "[[ 0.25766265  0.96623494]]\n"
     ]
    },
    {
     "data": {
      "text/plain": [
       "matrix([[ 0.25766265,  0.96623494]])"
      ]
     },
     "execution_count": 209,
     "metadata": {},
     "output_type": "execute_result"
    }
   ],
   "source": [
    "pi=stationary_sol(P)\n",
    "print(pi)\n",
    "pi*P"
   ]
  },
  {
   "cell_type": "code",
   "execution_count": 391,
   "metadata": {
    "collapsed": false
   },
   "outputs": [
    {
     "data": {
      "text/plain": [
       "array([ 0.25,  0.25,  0.25,  0.25])"
      ]
     },
     "execution_count": 391,
     "metadata": {},
     "output_type": "execute_result"
    }
   ],
   "source": [
    "T=np.matrix([[0.9,0.1,0,0],[0.1,0.895,0.005,0],[0,0.005,0.795,0.2],[0,0,0.2,0.8]])\n",
    "stationary_distribution(T)"
   ]
  },
  {
   "cell_type": "code",
   "execution_count": 15,
   "metadata": {
    "collapsed": false
   },
   "outputs": [
    {
     "name": "stdout",
     "output_type": "stream",
     "text": [
      "0.990376027604\n",
      "0.907823029267\n"
     ]
    },
    {
     "data": {
      "text/plain": [
       "1.1122307841811363"
      ]
     },
     "execution_count": 15,
     "metadata": {},
     "output_type": "execute_result"
    }
   ],
   "source": [
    "p0=np.array([1,1,1,1])\n",
    "speed_of_convergence_k(T,p0,10)"
   ]
  },
  {
   "cell_type": "code",
   "execution_count": 16,
   "metadata": {
    "collapsed": false
   },
   "outputs": [
    {
     "name": "stdout",
     "output_type": "stream",
     "text": [
      "0.990376027604\n",
      "0.380199862473\n"
     ]
    },
    {
     "data": {
      "text/plain": [
       "0.46580663582088266"
      ]
     },
     "execution_count": 16,
     "metadata": {},
     "output_type": "execute_result"
    }
   ],
   "source": [
    "speed_of_convergence_k(T,p0,100)"
   ]
  },
  {
   "cell_type": "code",
   "execution_count": 17,
   "metadata": {
    "collapsed": false
   },
   "outputs": [
    {
     "name": "stdout",
     "output_type": "stream",
     "text": [
      "0.990376027604\n",
      "0.00794437575199\n"
     ]
    },
    {
     "data": {
      "text/plain": [
       "0.0097331517130661762"
      ]
     },
     "execution_count": 17,
     "metadata": {},
     "output_type": "execute_result"
    }
   ],
   "source": [
    "speed_of_convergence_k(T,p0,500)"
   ]
  },
  {
   "cell_type": "code",
   "execution_count": 19,
   "metadata": {
    "collapsed": false
   },
   "outputs": [
    {
     "data": {
      "text/plain": [
       "array([ 162.25951512,   53.15490883,    2.02495952,    2.07819386])"
      ]
     },
     "execution_count": 19,
     "metadata": {},
     "output_type": "execute_result"
    }
   ],
   "source": [
    "mean_recurrence_time(T)"
   ]
  },
  {
   "cell_type": "code",
   "execution_count": 290,
   "metadata": {
    "collapsed": true
   },
   "outputs": [],
   "source": [
    "def paso(i,T):\n",
    "    \"\"\"\n",
    "    Function that simulates a random pass from state i in a markov model. It gives back the vertex\n",
    "    that is reached.\n",
    "    \n",
    "    INPUT:\n",
    "        - i: the original vertex.\n",
    "        - T: the Markov transition matrix.\n",
    "        \n",
    "    OUTPUT:\n",
    "        - j: the vertex reached from i in this random experiment.\n",
    "    \"\"\"\n",
    "\n",
    "    T=np.squeeze(np.asarray(T))\n",
    "    Fi=[sum(T[i][:j+1]) for j in range(len(T[i]))]\n",
    "    a=random()\n",
    "    k=0\n",
    "    while a>=Fi[k]:\n",
    "        k+=1\n",
    "    return k"
   ]
  },
  {
   "cell_type": "code",
   "execution_count": 72,
   "metadata": {
    "collapsed": false
   },
   "outputs": [
    {
     "name": "stdout",
     "output_type": "stream",
     "text": [
      "0.893 0.107 0.0 0.0\n",
      "0.1 0.895 0.005 0.0\n",
      "0.0 0.005 0.782 0.213\n",
      "0.0 0.0 0.213 0.787\n"
     ]
    }
   ],
   "source": [
    "\"Test to check whether paso works.\"\n",
    "\n",
    "m=1000\n",
    "\n",
    "vertex=[0,1,2,3]\n",
    "L=[[],[],[],[]]\n",
    "\n",
    "for i in range(m):\n",
    "    for v in vertex:\n",
    "        L[v].append(paso(v,T))\n",
    "for v in vertex:\n",
    "    print((L[v].count(0))/m,(L[v].count(1))/m,(L[v].count(2))/m,(L[v].count(3))/m)"
   ]
  },
  {
   "cell_type": "code",
   "execution_count": 88,
   "metadata": {
    "collapsed": true
   },
   "outputs": [],
   "source": [
    "def camino(i,pasos,T):\n",
    "    estado=[i]\n",
    "    for k in range(pasos):\n",
    "        estado.append(paso(estado[-1],T))\n",
    "    return estado"
   ]
  },
  {
   "cell_type": "code",
   "execution_count": 89,
   "metadata": {
    "collapsed": false
   },
   "outputs": [
    {
     "data": {
      "text/plain": [
       "(0, 0, 50, 51)"
      ]
     },
     "execution_count": 89,
     "metadata": {},
     "output_type": "execute_result"
    }
   ],
   "source": [
    "viaje=camino(2,100,T)\n",
    "viaje.count(0),viaje.count(1),viaje.count(2),viaje.count(3)"
   ]
  },
  {
   "cell_type": "code",
   "execution_count": 38,
   "metadata": {
    "collapsed": false
   },
   "outputs": [
    {
     "name": "stdout",
     "output_type": "stream",
     "text": [
      "0.3552123552123552 0.3590733590733591 0.14285714285714285 0.14285714285714285\n",
      "0.27626459143968873 0.3463035019455253 0.20233463035019456 0.17509727626459143\n",
      "0.17898832684824903 0.11673151750972763 0.3151750972762646 0.38910505836575876\n",
      "0.13215859030837004 0.16299559471365638 0.3700440528634361 0.33480176211453744\n"
     ]
    }
   ],
   "source": [
    "\"\"\"Test to check wheter in long trips from random initial vertices we end up in a vertex with the prob\n",
    "of the stationary distribution\"\"\"\n",
    "\n",
    "m1=1000\n",
    "m2=100\n",
    "\n",
    "vertices=[0,1,2,3]\n",
    "L=[[],[],[],[]]\n",
    "\n",
    "for i in range(m1):\n",
    "    a=random()\n",
    "    if 0<a<=0.25:\n",
    "        l=0\n",
    "    elif 0.25<a<=0.5:\n",
    "        l=1\n",
    "    elif 0.5<a<=0.75:\n",
    "        l=2\n",
    "    elif 0.75<a<=1:\n",
    "        l=3\n",
    "    viaje=camino(l,m2,T)\n",
    "    L[l].append(viaje[len(viaje)-1])\n",
    "for v in vertex:\n",
    "    print((L[v].count(0))/(len(L[v])),(L[v].count(1))/(len(L[v])),(L[v].count(2))/(len(L[v])),\n",
    "          (L[v].count(3))/(len(L[v])))"
   ]
  },
  {
   "cell_type": "code",
   "execution_count": 386,
   "metadata": {
    "collapsed": false
   },
   "outputs": [
    {
     "name": "stdout",
     "output_type": "stream",
     "text": [
      "21550\n",
      "79450\n"
     ]
    }
   ],
   "source": [
    "P=np.matrix([[1/4,3/4],[1/5,4/5]])\n",
    "\n",
    "\"\"\"Test to check the medium time we stay in each state when we run m1 paths of m2 steps\"\"\"\n",
    "\n",
    "m1=1000\n",
    "m2=100\n",
    "\n",
    "vertices=[0,1]\n",
    "L=[[],[]]\n",
    "\n",
    "for i in range(m1):\n",
    "    a=random()\n",
    "    if 0<a<=0.5:\n",
    "        l=0\n",
    "    elif 0.5<a<=1:\n",
    "        l=1\n",
    "    viaje=camino(l,m2,P)\n",
    "    for l in vertices:\n",
    "        L[l].append(viaje.count(l))\n",
    "for v in vertices:\n",
    "    print((np.array(L[v])).sum())"
   ]
  },
  {
   "cell_type": "code",
   "execution_count": 397,
   "metadata": {
    "collapsed": false
   },
   "outputs": [
    {
     "name": "stdout",
     "output_type": "stream",
     "text": [
      "25187\n",
      "24169\n",
      "26078\n",
      "25566\n"
     ]
    }
   ],
   "source": [
    "T=np.matrix([[0.9,0.1,0,0],[0.1,0.895,0.005,0],[0,0.005,0.795,0.2],[0,0,0.2,0.8]])\n",
    "\n",
    "\"\"\"Test to check the medium time we stay in each state when we run m1 paths of m2 steps\"\"\"\n",
    "\n",
    "m1=1000\n",
    "m2=100\n",
    "\n",
    "vertices=[0,1,2,3]\n",
    "L=[[],[],[],[]]\n",
    "\n",
    "for i in range(m1):\n",
    "    a=random()\n",
    "    if 0<a<=0.25:\n",
    "        l=0\n",
    "    elif 0.25<a<=0.5:\n",
    "        l=1\n",
    "    elif 0.5<a<=0.75:\n",
    "        l=2\n",
    "    elif 0.75<a<=1:\n",
    "        l=3\n",
    "    viaje=camino(l,m2,T)\n",
    "    for l in vertices:\n",
    "        L[l].append(viaje.count(l))\n",
    "for v in vertices:\n",
    "    print((np.array(L[v])).sum())"
   ]
  },
  {
   "cell_type": "code",
   "execution_count": 48,
   "metadata": {
    "collapsed": true
   },
   "outputs": [],
   "source": [
    "D=np.array([[0,0,0,0,0,0,1,0,0,0],[0,0.3,0.3,0.1,0.3,0,0,0,0,0],[0,0,0.6,0,0,0,0,0.4,0,0],[0,0,0,1,0,0,0,0,0,0],\n",
    "            [0,0.4,0,0,0,0.3,0,0.3,0,0],[0,0,0,0.9,0,0,0.1,0,0,0],[0,0,0,0,0,0,0,0,0,1],[0,0.8,0,0,0,0,0,0.2,0,0],\n",
    "           [0,0,0,0,0,0,0,0,1,0],[1,0,0,0,0,0,0,0,0,0]])"
   ]
  },
  {
   "cell_type": "code",
   "execution_count": 49,
   "metadata": {
    "collapsed": false
   },
   "outputs": [
    {
     "data": {
      "text/plain": [
       "array([[ 0. ,  0. ,  0. ,  0. ,  0. ,  0. ,  1. ,  0. ,  0. ,  0. ],\n",
       "       [ 0. ,  0.3,  0.3,  0.1,  0.3,  0. ,  0. ,  0. ,  0. ,  0. ],\n",
       "       [ 0. ,  0. ,  0.6,  0. ,  0. ,  0. ,  0. ,  0.4,  0. ,  0. ],\n",
       "       [ 0. ,  0. ,  0. ,  1. ,  0. ,  0. ,  0. ,  0. ,  0. ,  0. ],\n",
       "       [ 0. ,  0.4,  0. ,  0. ,  0. ,  0.3,  0. ,  0.3,  0. ,  0. ],\n",
       "       [ 0. ,  0. ,  0. ,  0.9,  0. ,  0. ,  0.1,  0. ,  0. ,  0. ],\n",
       "       [ 0. ,  0. ,  0. ,  0. ,  0. ,  0. ,  0. ,  0. ,  0. ,  1. ],\n",
       "       [ 0. ,  0.8,  0. ,  0. ,  0. ,  0. ,  0. ,  0.2,  0. ,  0. ],\n",
       "       [ 0. ,  0. ,  0. ,  0. ,  0. ,  0. ,  0. ,  0. ,  1. ,  0. ],\n",
       "       [ 1. ,  0. ,  0. ,  0. ,  0. ,  0. ,  0. ,  0. ,  0. ,  0. ]])"
      ]
     },
     "execution_count": 49,
     "metadata": {},
     "output_type": "execute_result"
    }
   ],
   "source": [
    "D"
   ]
  },
  {
   "cell_type": "code",
   "execution_count": null,
   "metadata": {
    "collapsed": true
   },
   "outputs": [],
   "source": []
  }
 ],
 "metadata": {
  "kernelspec": {
   "display_name": "Python 3",
   "language": "python",
   "name": "python3"
  },
  "language_info": {
   "codemirror_mode": {
    "name": "ipython",
    "version": 3
   },
   "file_extension": ".py",
   "mimetype": "text/x-python",
   "name": "python",
   "nbconvert_exporter": "python",
   "pygments_lexer": "ipython3",
   "version": "3.5.1"
  }
 },
 "nbformat": 4,
 "nbformat_minor": 0
}
