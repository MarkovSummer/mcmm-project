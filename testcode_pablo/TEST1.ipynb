{
 "cells": [
  {
   "cell_type": "code",
   "execution_count": 7,
   "metadata": {
    "collapsed": true
   },
   "outputs": [],
   "source": [
    "import numpy as np\n",
    "import matplotlib.pyplot as plt"
   ]
  },
  {
   "cell_type": "code",
   "execution_count": 8,
   "metadata": {
    "collapsed": true
   },
   "outputs": [],
   "source": [
    "r\"\"\"\n",
    "This module generates trajectories of a simple two dimensional toy model for testing purposes.\n",
    "\"\"\"\n",
    "\n",
    "import numpy as np\n",
    "\n",
    "__all__ = ['generate_test_data']\n",
    "\n",
    "def _gradient(x, y):\n",
    "    return (x * x - 1.0) * 4.0 * x + 0.5, (4.0 * y * y - 7.0) * y\n",
    "\n",
    "def _bd(x0, y0, length, dt=0.005):\n",
    "    coeff_A = dt\n",
    "    coeff_B = np.sqrt(2.0 * dt)\n",
    "    x = [x0]\n",
    "    y = [y0]\n",
    "    for _i in range(1, length):\n",
    "        dx, dy = _gradient(x[-1], y[-1])\n",
    "        x.append(x[-1] - coeff_A * dx + coeff_B * np.random.normal())\n",
    "        y.append(y[-1] - coeff_A * dy + coeff_B * np.random.normal())\n",
    "    return np.array([[_x, _y] for _x, _y in zip(x, y)], dtype=np.float64)\n",
    "\n",
    "def generate_test_data(traj_length=20000, num_trajs=5):\n",
    "    r\"\"\"\n",
    "    This functions handles the test data generation via Brownian dynamics simulations with\n",
    "    randomized starting configurations.\n",
    "    Parameters\n",
    "    ----------\n",
    "    traj_length : int, optional, default=20000\n",
    "        Length of a single trajectory.\n",
    "    num_trajs : int, optional, default=5\n",
    "        Number of independent trajectories.\n",
    "    Returns\n",
    "    -------\n",
    "    trajs : list of numpy.ndarray(shape=(traj_length, 2), dtype=numpy.float64) objects\n",
    "        Time series of configurations of the toy model.\n",
    "    \"\"\"\n",
    "    trajs = []\n",
    "    for _i in range(num_trajs):\n",
    "        trajs.append(_bd(3.0 * np.random.rand() - 1.5, 3.0 * np.random.rand() - 1.5, traj_length))\n",
    "    return trajs"
   ]
  },
  {
   "cell_type": "code",
   "execution_count": 26,
   "metadata": {
    "collapsed": true
   },
   "outputs": [],
   "source": [
    "raw_data1 = generate_test_data(num_trajs=20, traj_length=20000)\n",
    "raw_data2 = generate_test_data(num_trajs=5, traj_length=20000)\n",
    "raw_data3 = generate_test_data(num_trajs=20, traj_length=10000)"
   ]
  },
  {
   "cell_type": "code",
   "execution_count": 28,
   "metadata": {
    "collapsed": false
   },
   "outputs": [],
   "source": [
    "\n",
    "def format_square(ax):\n",
    "    ax.set_xlim(-2, 2)\n",
    "    ax.set_ylim(-2, 2)\n",
    "    ax.set_xticks([-2, -1, 0, 1, 2])\n",
    "    ax.set_yticks([-2, -1, 0, 1, 2])\n",
    "    ax.set_xlabel(r\"$x$ / a.u.\")\n",
    "    ax.set_ylabel(r\"$y$ / a.u.\")\n",
    "    ax.set_aspect('equal')\n",
    "\n",
    "\n",
    "fig, ax = plt.subplots(figsize=(5, 5))\n",
    "for rd in raw_data1:\n",
    "    ax.scatter(rd[::50, 0], rd[::50, 1], c='grey', s=20)\n",
    "format_square(ax)\n",
    "fig.tight_layout()\n",
    "plt.show()"
   ]
  },
  {
   "cell_type": "code",
   "execution_count": 24,
   "metadata": {
    "collapsed": true
   },
   "outputs": [],
   "source": [
    "fig, ax = plt.subplots(figsize=(5, 5))\n",
    "for rd in raw_data2:\n",
    "    ax.scatter(rd[::50, 0], rd[::50, 1], c='grey', s=20)\n",
    "format_square(ax)\n",
    "fig.tight_layout()\n",
    "plt.show()"
   ]
  },
  {
   "cell_type": "code",
   "execution_count": 29,
   "metadata": {
    "collapsed": true
   },
   "outputs": [],
   "source": [
    "fig, ax = plt.subplots(figsize=(5, 5))\n",
    "for rd in raw_data3:\n",
    "    ax.scatter(rd[::50, 0], rd[::50, 1], c='grey', s=20)\n",
    "format_square(ax)\n",
    "fig.tight_layout()\n",
    "plt.show()"
   ]
  },
  {
   "cell_type": "code",
   "execution_count": null,
   "metadata": {
    "collapsed": true
   },
   "outputs": [],
   "source": []
  }
 ],
 "metadata": {
  "kernelspec": {
   "display_name": "Python 3",
   "language": "python",
   "name": "python3"
  },
  "language_info": {
   "codemirror_mode": {
    "name": "ipython",
    "version": 3
   },
   "file_extension": ".py",
   "mimetype": "text/x-python",
   "name": "python",
   "nbconvert_exporter": "python",
   "pygments_lexer": "ipython3",
   "version": "3.5.1"
  }
 },
 "nbformat": 4,
 "nbformat_minor": 0
}
