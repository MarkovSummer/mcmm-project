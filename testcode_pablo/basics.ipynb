{
 "cells": [
  {
   "cell_type": "code",
   "execution_count": 1,
   "metadata": {
    "collapsed": true
   },
   "outputs": [],
   "source": [
    "import numpy as np"
   ]
  },
  {
   "cell_type": "code",
   "execution_count": 27,
   "metadata": {
    "collapsed": true
   },
   "outputs": [],
   "source": [
    "def normalize(M):\n",
    "    \"\"\"\n",
    "    Subfunction for T. It normalizes the matrix given as input.\n",
    "    \n",
    "    INPUT:\n",
    "        - M = A matrix M.\n",
    "        \n",
    "    OUTPUT:\n",
    "        - M0 = The matrix M normalized, with rows that add to 1.     \n",
    "    \"\"\"\n",
    "    \n",
    "    M0=np.array(M)\n",
    "    if M0.ndim == 1:\n",
    "        s= M0.sum()\n",
    "        return np.divide(M0,s)\n",
    "        \n",
    "    elif M0.ndim == 2:\n",
    "        s=M0.sum(axis=1)\n",
    "        return np.divide(M0,s[:,np.newaxis])\n",
    "    else:\n",
    "        return \"Normalize. Wrong input\""
   ]
  },
  {
   "cell_type": "code",
   "execution_count": 55,
   "metadata": {
    "collapsed": true
   },
   "outputs": [],
   "source": [
    "def stationary_sol(T):\n",
    "    \"\"\"\n",
    "    Given a random matrix T, returns a stationary sol a, s.t. aT=a\n",
    "    \n",
    "    INPUT:\n",
    "        - T = Some square matrix.\n",
    "        \n",
    "    OUTPUT:\n",
    "        - the stationary vector of the matrix.   \n",
    "    \"\"\"\n",
    "    \n",
    "    T0=normalize(T)\n",
    "    eig=np.linalg.eig(T0)\n",
    "    for i in range(len(eig[0])):\n",
    "        if np.around(eig[0][i])==1: #considers only integer part\n",
    "            return np.real(eig[1][i])\n",
    "    return \"No eigenvalue 1\""
   ]
  },
  {
   "cell_type": "code",
   "execution_count": null,
   "metadata": {
    "collapsed": true
   },
   "outputs": [],
   "source": [
    "def has_stationary(T):\n",
    "    \"\"\"\n",
    "    Checks whether a transition matrix from a markov process has a unique stationary solution.\n",
    "    It will be checked: \n",
    "        1. Is it a stochastic matrix?\n",
    "        2. Is it irreducible?\n",
    "        3. \n",
    "    \n",
    "    INPUT:\n",
    "        - T = Some square matrix.\n",
    "        \n",
    "    OUTPUT:\n",
    "        - \n",
    "    \"\"\"\n",
    "    \n",
    "    "
   ]
  },
  {
   "cell_type": "code",
   "execution_count": 52,
   "metadata": {
    "collapsed": false
   },
   "outputs": [],
   "source": [
    "def stationary_sol(T):\n",
    "    \"\"\"\n",
    "    Given a random matrix T, returns a stationary sol a, s.t. aT=a\n",
    "    \n",
    "    INPUT:\n",
    "        - T = Some square matrix.\n",
    "        \n",
    "    OUTPUT:\n",
    "        - the stationary vector of the matrix.   \n",
    "    \"\"\"\n",
    "    \n",
    "    #if has_stationary(T):\n",
    "    T0=normalize(T)\n",
    "    eig=np.linalg.eig(T0)\n",
    "    for i in range(len(eig[0])):\n",
    "        if np.around(eig[0][i])==1: #considers only integer part\n",
    "            return np.real(eig[1][i])\n",
    "    return \"No eigenvalue 1\"\n",
    "    #else:\n",
    "        #return \"No stationary solution\""
   ]
  },
  {
   "cell_type": "code",
   "execution_count": 32,
   "metadata": {
    "collapsed": false
   },
   "outputs": [
    {
     "data": {
      "text/plain": [
       "array([[ 0. ,  1. ,  0. ],\n",
       "       [ 0. ,  0.5,  0.5],\n",
       "       [ 1. ,  0. ,  0. ]])"
      ]
     },
     "execution_count": 32,
     "metadata": {},
     "output_type": "execute_result"
    }
   ],
   "source": [
    "C=np.array([[ 0, 1, 0],[0,1,1],[ 1, 0,0]])\n",
    "normalize(C)"
   ]
  },
  {
   "cell_type": "code",
   "execution_count": 53,
   "metadata": {
    "collapsed": false
   },
   "outputs": [
    {
     "name": "stdout",
     "output_type": "stream",
     "text": [
      "[[ 0.   1.   0. ]\n",
      " [ 0.   0.5  0.5]\n",
      " [ 1.   0.   0. ]]\n",
      "(array([-0.25+0.66143783j, -0.25-0.66143783j,  1.00+0.j        ]), array([[-0.18898224+0.5j , -0.18898224-0.5j , -0.57735027+0.j  ],\n",
      "       [-0.28347335-0.25j, -0.28347335+0.25j, -0.57735027+0.j  ],\n",
      "       [ 0.75592895+0.j  ,  0.75592895-0.j  , -0.57735027+0.j  ]]))\n",
      "(-0.25+0.661437827766j)\n",
      "(-0.25-0.661437827766j)\n",
      "(1+0j)\n"
     ]
    },
    {
     "data": {
      "text/plain": [
       "array([ 0.75592895+0.j,  0.75592895-0.j, -0.57735027+0.j])"
      ]
     },
     "execution_count": 53,
     "metadata": {},
     "output_type": "execute_result"
    }
   ],
   "source": [
    "stationary_sol(C)"
   ]
  },
  {
   "cell_type": "code",
   "execution_count": null,
   "metadata": {
    "collapsed": true
   },
   "outputs": [],
   "source": []
  }
 ],
 "metadata": {
  "kernelspec": {
   "display_name": "Python 3",
   "language": "python",
   "name": "python3"
  },
  "language_info": {
   "codemirror_mode": {
    "name": "ipython",
    "version": 3
   },
   "file_extension": ".py",
   "mimetype": "text/x-python",
   "name": "python",
   "nbconvert_exporter": "python",
   "pygments_lexer": "ipython3",
   "version": "3.5.1"
  }
 },
 "nbformat": 4,
 "nbformat_minor": 0
}
