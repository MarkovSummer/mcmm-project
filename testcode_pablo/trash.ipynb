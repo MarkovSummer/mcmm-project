{
 "cells": [
  {
   "cell_type": "code",
   "execution_count": 1,
   "metadata": {
    "collapsed": true
   },
   "outputs": [],
   "source": [
    "import numpy as np"
   ]
  },
  {
   "cell_type": "code",
   "execution_count": 2,
   "metadata": {
    "collapsed": true
   },
   "outputs": [],
   "source": [
    "def stationary_distribution(T):\n",
    "    \"\"\"\n",
    "    Given a random matrix T, returns a stationary sol a, s.t. Ta=a\n",
    "    \n",
    "    INPUT:\n",
    "        - T = Some square matrix.\n",
    "        \n",
    "    OUTPUT:\n",
    "        - A column vector. The stationary vector of the matrix.   \n",
    "    \"\"\"\n",
    "    \n",
    "    d=len(T)\n",
    "    A=np.copy(T)\n",
    "    I=np.identity(d)\n",
    "    A=A-I\n",
    "    #A=np.transpose(A)\n",
    "    i=np.ones(d)\n",
    "    A=np.vstack([A,i])\n",
    "    A=np.array(A)\n",
    "    b=np.append([0 for i in range(d)],[[1]])\n",
    "    return (np.linalg.lstsq(A,b))[0]"
   ]
  },
  {
   "cell_type": "code",
   "execution_count": null,
   "metadata": {
    "collapsed": true
   },
   "outputs": [],
   "source": [
    "def speed_of_convergence_k(T,p0,k):\n",
    "    \"\"\"\n",
    "    It gives an approximation on the expected speed of convergence of an ergodic Markov chain. \n",
    "    It can be bounded by an exponential decay with the slowest timescale t2 in the system. For times much\n",
    "    greater than k >> t3, all but the first term vanish and we get an approximation: \n",
    "    E(k)=(eig[2]))^k * norm(<p0,r2>*l2) where <p0,r2> is the scalar product.\n",
    "    \n",
    "    INPUT:\n",
    "        - T:\n",
    "        - p0:\n",
    "        - k:\n",
    "        \n",
    "    OUTPUT:\n",
    "        -\n",
    "    \"\"\"\n",
    "    \n",
    "    eig=np.linalg.eig(T)\n",
    "    eig_val=eig[0]\n",
    "    eig_val= np.sort(eig_val)\n",
    "    \n",
    "    right_eig=eig[1]\n",
    "    left_eig=np.linalg.eig(np.transpose(T))\n",
    "    left_eig=left_eig[1]\n",
    "    \n",
    "    print((eig_val[len(eig_val)-2]))\n",
    "    print(np.power((eig_val[len(eig_val)-2]),k))\n",
    "    E_k = (np.power((eig_val[len(eig_val)-2]),k))*(np.linalg.norm((p0*right_eig)*left_eig))\n",
    "    return E_k"
   ]
  }
 ],
 "metadata": {
  "kernelspec": {
   "display_name": "Python 3",
   "language": "python",
   "name": "python3"
  },
  "language_info": {
   "codemirror_mode": {
    "name": "ipython",
    "version": 3
   },
   "file_extension": ".py",
   "mimetype": "text/x-python",
   "name": "python",
   "nbconvert_exporter": "python",
   "pygments_lexer": "ipython3",
   "version": "3.5.1"
  }
 },
 "nbformat": 4,
 "nbformat_minor": 0
}
