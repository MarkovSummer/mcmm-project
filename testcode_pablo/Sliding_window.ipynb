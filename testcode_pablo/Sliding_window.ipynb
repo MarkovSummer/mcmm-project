{
 "cells": [
  {
   "cell_type": "code",
   "execution_count": 1,
   "metadata": {
    "collapsed": true
   },
   "outputs": [],
   "source": [
    "import numpy as np"
   ]
  },
  {
   "cell_type": "code",
   "execution_count": 2,
   "metadata": {
    "collapsed": true
   },
   "outputs": [],
   "source": [
    "def sliding_window(traj,lag=1):\n",
    "    \"\"\"\n",
    "    Get the count matrix out of the trajectory from clusters.\n",
    "    \n",
    "    INPUT:\n",
    "        traj = A list. A sucesion of states.\n",
    "        lag = Lagtime we are considering.\n",
    "        \n",
    "    OUTPUT:\n",
    "        A count matrix.\n",
    "    \"\"\"\n",
    "    \n",
    "    dim = max(traj)+1\n",
    "    C=np.zeros([dim,dim])\n",
    "    for i in range(len(traj)-lag):\n",
    "        C[traj[i],traj[i+lag]] +=1\n",
    "        \n",
    "    return C"
   ]
  },
  {
   "cell_type": "code",
   "execution_count": 9,
   "metadata": {
    "collapsed": false
   },
   "outputs": [
    {
     "name": "stderr",
     "output_type": "stream",
     "text": [
      "C:\\Users\\PabloAgustin\\Miniconda3\\lib\\site-packages\\ipykernel\\__main__.py:14: DeprecationWarning: using a non-integer number instead of an integer will result in an error in the future\n",
      "C:\\Users\\PabloAgustin\\Miniconda3\\lib\\site-packages\\ipykernel\\__main__.py:16: DeprecationWarning: using a non-integer number instead of an integer will result in an error in the future\n"
     ]
    },
    {
     "data": {
      "text/plain": [
       "array([[  0.,   0.],\n",
       "       [  0.,  96.]])"
      ]
     },
     "execution_count": 9,
     "metadata": {},
     "output_type": "execute_result"
    }
   ],
   "source": [
    "L=list(np.ones(100))\n",
    "sliding_window(L,4)"
   ]
  },
  {
   "cell_type": "code",
   "execution_count": 8,
   "metadata": {
    "collapsed": false
   },
   "outputs": [
    {
     "data": {
      "text/plain": [
       "array([[ 0.,  0.,  0.,  1.,  0.,  0.,  0.,  0.,  0.],\n",
       "       [ 0.,  4.,  1.,  1.,  1.,  1.,  0.,  0.,  0.],\n",
       "       [ 0.,  1.,  8.,  1.,  4.,  2.,  0.,  0.,  0.],\n",
       "       [ 0.,  0.,  2.,  2.,  0.,  0.,  0.,  0.,  0.],\n",
       "       [ 0.,  0.,  4.,  0.,  1.,  2.,  1.,  0.,  0.],\n",
       "       [ 1.,  0.,  1.,  0.,  1.,  5.,  3.,  0.,  0.],\n",
       "       [ 0.,  1.,  0.,  0.,  1.,  1.,  0.,  0.,  1.],\n",
       "       [ 0.,  0.,  0.,  0.,  0.,  0.,  0.,  0.,  0.],\n",
       "       [ 0.,  0.,  0.,  0.,  0.,  0.,  0.,  0.,  0.]])"
      ]
     },
     "execution_count": 8,
     "metadata": {},
     "output_type": "execute_result"
    }
   ],
   "source": [
    "L=[1,1,1,1,1,1,2,3,4,2,2,2,3,4,2,4,2,2,2,5,2,5,4,2,2,4,2,5,2,5,2,5,2,5,1,6,5,4,5,6,4,1,2,4,5,5,0,6,3,5,3,6,3,8]\n",
    "sliding_window(L,2)"
   ]
  },
  {
   "cell_type": "code",
   "execution_count": null,
   "metadata": {
    "collapsed": true
   },
   "outputs": [],
   "source": []
  }
 ],
 "metadata": {
  "kernelspec": {
   "display_name": "Python 3",
   "language": "python",
   "name": "python3"
  },
  "language_info": {
   "codemirror_mode": {
    "name": "ipython",
    "version": 3
   },
   "file_extension": ".py",
   "mimetype": "text/x-python",
   "name": "python",
   "nbconvert_exporter": "python",
   "pygments_lexer": "ipython3",
   "version": "3.5.1"
  }
 },
 "nbformat": 4,
 "nbformat_minor": 0
}
