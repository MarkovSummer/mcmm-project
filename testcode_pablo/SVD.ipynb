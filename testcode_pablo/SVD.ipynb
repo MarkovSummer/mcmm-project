{
 "cells": [
  {
   "cell_type": "code",
   "execution_count": 3,
   "metadata": {
    "collapsed": true
   },
   "outputs": [],
   "source": [
    "import numpy as np\n",
    "import pylab as pylab"
   ]
  },
  {
   "cell_type": "code",
   "execution_count": 9,
   "metadata": {
    "collapsed": false
   },
   "outputs": [
    {
     "data": {
      "text/plain": [
       "array([[-0.3743954 ,  0.9007223 ,  0.22028941],\n",
       "       [-0.65341629, -0.08770773, -0.7519006 ],\n",
       "       [-0.65793255, -0.42544882,  0.62138399]])"
      ]
     },
     "execution_count": 9,
     "metadata": {},
     "output_type": "execute_result"
    }
   ],
   "source": [
    "A1=np.array([[1,3,5,1],[2,4,5,6],[1,3,5,7]])\n",
    "u, s, v = pylab.linalg.svd(A1)\n",
    "u"
   ]
  },
  {
   "cell_type": "code",
   "execution_count": 55,
   "metadata": {
    "collapsed": false
   },
   "outputs": [
    {
     "data": {
      "text/plain": [
       "array([10, 17, 16])"
      ]
     },
     "execution_count": 55,
     "metadata": {},
     "output_type": "execute_result"
    }
   ],
   "source": [
    "A1.sum(axis=1)"
   ]
  },
  {
   "cell_type": "code",
   "execution_count": 56,
   "metadata": {
    "collapsed": true
   },
   "outputs": [],
   "source": [
    "def norm_block(B):\n",
    "    \"\"\"\n",
    "    Average row summ (1-norm).\n",
    "    \"\"\"\n",
    "    \n",
    "    s=B.sum(axis=1)\n",
    "    ss=s.sum()\n",
    "    return ss/len(B)"
   ]
  },
  {
   "cell_type": "code",
   "execution_count": 103,
   "metadata": {
    "collapsed": false
   },
   "outputs": [
    {
     "data": {
      "text/plain": [
       "True"
      ]
     },
     "execution_count": 103,
     "metadata": {},
     "output_type": "execute_result"
    }
   ],
   "source": [
    "a=np.array([[1,2],[3,4]])\n",
    "a.shape == (2,2)"
   ]
  },
  {
   "cell_type": "code",
   "execution_count": 110,
   "metadata": {
    "collapsed": false
   },
   "outputs": [
    {
     "data": {
      "text/plain": [
       "False"
      ]
     },
     "execution_count": 110,
     "metadata": {},
     "output_type": "execute_result"
    }
   ],
   "source": [
    "a=np.array([[1,2,4],[4,5,6]])\n",
    "b=np.array([[1,2,6],[4,5,6]])\n",
    "all([all(a[0,:]==b[0,:]),all(a[1,:]==b[1,:])])"
   ]
  },
  {
   "cell_type": "code",
   "execution_count": 151,
   "metadata": {
    "collapsed": true
   },
   "outputs": [],
   "source": [
    "def block_in(block,l):\n",
    "    \"\"\"\n",
    "    Checks whether a block is in a list of blocks\n",
    "    \n",
    "    \"\"\"\n",
    "\n",
    "    sb=block.shape\n",
    "    for i in range(len(l)):\n",
    "        if (l[i]).shape == sb:\n",
    "            L=[]\n",
    "            for j in range(len(l[i])):\n",
    "                L.append(all(l[i][j,:]==block[j,:]))\n",
    "            if all(L):\n",
    "                return True\n",
    "    return False\n",
    "            "
   ]
  },
  {
   "cell_type": "code",
   "execution_count": 152,
   "metadata": {
    "collapsed": false
   },
   "outputs": [],
   "source": [
    "def find_meta_states(B,threshold=0.95,list_of_blocks=[]):\n",
    "    \"\"\"\n",
    "    Singular Value Decomposition based method for finding the metastable states.\n",
    "    \n",
    "    INPUT:\n",
    "        - B = A markov transition matrix\n",
    "        - threshold = \n",
    "        \n",
    "    OUTPUT:\n",
    "        Number m and sizes n_i, i = 1,...,m of identified blocks in B, and a permutation\n",
    "        matrix P such that P * B * np.transpose(P) = A + E\n",
    "    \"\"\"\n",
    "    \n",
    "    d1 = len(B)\n",
    "    d2 = len(B[0])\n",
    "    \n",
    "    if d1==d2:\n",
    "        d=d1\n",
    "    else:\n",
    "        return \"Input error\"\n",
    "    \n",
    "    u, s, v = pylab.linalg.svd(B)\n",
    "    u2 = u[:,1]\n",
    "    u2_indsort = np.argsort(u2)\n",
    "    \n",
    "    #get the permutation matrix P\n",
    "    P = np.zeros([d,d])\n",
    "    for i in range(d):\n",
    "        P[i,u2_indsort[i]] = 1\n",
    "        \n",
    "    #apply the permutation to B\n",
    "    B_ = np.dot(np.dot(P,B),np.transpose(P))\n",
    "    \n",
    "    #identify two possible blocks B1, B2 by looking at the sign change in u2\n",
    "    if u2[0] > 0:\n",
    "        k=0\n",
    "        while u2[k] > 0:\n",
    "            k=k+1\n",
    "    elif u2[0] < 0:\n",
    "        k=0\n",
    "        while u2[k] < 0:\n",
    "            k = k+1\n",
    "    else:\n",
    "        k=0\n",
    "        while u2[k] == 0:\n",
    "            k = k+1\n",
    "    \n",
    "    k_ = [i for i in range(k)]\n",
    "    _k = [i for i in range(d) if i not in k_]\n",
    "    \n",
    "    #two blocks\n",
    "    B1=B[k_,:]\n",
    "    B1=B1[:,k_]\n",
    "    \n",
    "    B2=B[_k,:]\n",
    "    B2=B2[:,_k]\n",
    "    \n",
    "    if norm_block(B1) > threshold and norm_block(B2) > threshold:\n",
    "        #we have identified two blocks and separate them\n",
    "        list_of_blocks.append(B1)\n",
    "        list_of_blocks.append(B2)\n",
    "        l1 = find_meta_states(B1,threshold,list_of_blocks)\n",
    "        list_of_blocks = find_meta_states(B2,threshold,l1)\n",
    "        \n",
    "    else:\n",
    "        #THE CURRENT BLOCK CANNOT BE FURTHER REDUCED\n",
    "        if not(block_in(B,list_of_blocks)):\n",
    "            list_of_blocks.append(B)\n",
    "        return list_of_blocks\n",
    "    return list_of_blocks\n",
    "        \n",
    "    \n",
    "        "
   ]
  },
  {
   "cell_type": "code",
   "execution_count": 153,
   "metadata": {
    "collapsed": false
   },
   "outputs": [
    {
     "data": {
      "text/plain": [
       "array([[ 0.2,  0.8,  0. ,  0. ,  0. ],\n",
       "       [ 0.4,  0.6,  0. ,  0. ,  0. ],\n",
       "       [ 0. ,  0. ,  0.3,  0.3,  0.4],\n",
       "       [ 0. ,  0. ,  0.2,  0.2,  0.6],\n",
       "       [ 0. ,  0. ,  0.1,  0.1,  0.8]])"
      ]
     },
     "execution_count": 153,
     "metadata": {},
     "output_type": "execute_result"
    }
   ],
   "source": [
    "A_ex = np.array([[0.2,0.8,0,0,0],[0.4,0.6,0,0,0],[0,0,0.3,0.3,0.4],[0,0,0.2,0.2,0.6],[0,0,0.1,0.1,0.8]])\n",
    "A_ex"
   ]
  },
  {
   "cell_type": "code",
   "execution_count": 154,
   "metadata": {
    "collapsed": false
   },
   "outputs": [
    {
     "data": {
      "text/plain": [
       "[array([[ 0.2,  0.8],\n",
       "        [ 0.4,  0.6]]), array([[ 0.3,  0.3,  0.4],\n",
       "        [ 0.2,  0.2,  0.6],\n",
       "        [ 0.1,  0.1,  0.8]])]"
      ]
     },
     "execution_count": 154,
     "metadata": {},
     "output_type": "execute_result"
    }
   ],
   "source": [
    "find_meta_states(A_ex)"
   ]
  },
  {
   "cell_type": "code",
   "execution_count": 155,
   "metadata": {
    "collapsed": false
   },
   "outputs": [
    {
     "data": {
      "text/plain": [
       "[array([[ 0.9 ,  0.1 ],\n",
       "        [ 0.1 ,  0.89]]), array([[ 0.79,  0.2 ],\n",
       "        [ 0.2 ,  0.8 ]])]"
      ]
     },
     "execution_count": 155,
     "metadata": {},
     "output_type": "execute_result"
    }
   ],
   "source": [
    "find_meta_states(T,0.95,[])"
   ]
  },
  {
   "cell_type": "code",
   "execution_count": 158,
   "metadata": {
    "collapsed": false
   },
   "outputs": [
    {
     "name": "stdout",
     "output_type": "stream",
     "text": [
      "[[ 0.65984865  0.08709168  0.85317769  0.68616699  0.11446422  0.30125339\n",
      "   0.19676675]\n",
      " [ 0.97801328  0.80919581  0.05966196  0.63991296  0.58701481  0.29925951\n",
      "   0.4318922 ]\n",
      " [ 0.68621717  0.22422049  0.0297601   0.54816     0.9591874   0.29421971\n",
      "   0.59955607]\n",
      " [ 0.25670608  0.31917239  0.76908987  0.36143229  0.58625213  0.94272902\n",
      "   0.73199731]\n",
      " [ 0.97115466  0.9656135   0.42599721  0.36848566  0.04026076  0.963847\n",
      "   0.92512352]\n",
      " [ 0.58372315  0.6891781   0.2475603   0.93265183  0.78590838  0.01468832\n",
      "   0.61219702]\n",
      " [ 0.85748253  0.71197175  0.03585486  0.78202315  0.56173212  0.75463372\n",
      "   0.98163075]]\n"
     ]
    },
    {
     "data": {
      "text/plain": [
       "[array([[ 0.65984865,  0.08709168,  0.85317769,  0.68616699,  0.11446422,\n",
       "          0.30125339,  0.19676675],\n",
       "        [ 0.97801328,  0.80919581,  0.05966196,  0.63991296,  0.58701481,\n",
       "          0.29925951,  0.4318922 ],\n",
       "        [ 0.68621717,  0.22422049,  0.0297601 ,  0.54816   ,  0.9591874 ,\n",
       "          0.29421971,  0.59955607],\n",
       "        [ 0.25670608,  0.31917239,  0.76908987,  0.36143229,  0.58625213,\n",
       "          0.94272902,  0.73199731],\n",
       "        [ 0.97115466,  0.9656135 ,  0.42599721,  0.36848566,  0.04026076,\n",
       "          0.963847  ,  0.92512352],\n",
       "        [ 0.58372315,  0.6891781 ,  0.2475603 ,  0.93265183,  0.78590838,\n",
       "          0.01468832,  0.61219702],\n",
       "        [ 0.85748253,  0.71197175,  0.03585486,  0.78202315,  0.56173212,\n",
       "          0.75463372,  0.98163075]])]"
      ]
     },
     "execution_count": 158,
     "metadata": {},
     "output_type": "execute_result"
    }
   ],
   "source": [
    "A2=np.random.rand(7,7)\n",
    "print(A2)\n",
    "find_meta_states(A2,0.95,[])"
   ]
  },
  {
   "cell_type": "code",
   "execution_count": 35,
   "metadata": {
    "collapsed": false
   },
   "outputs": [
    {
     "name": "stdout",
     "output_type": "stream",
     "text": [
      "[ 0.52486131  0.4743488  -0.48728825 -0.51192186]\n",
      "[-0.51192186 -0.48728825  0.4743488   0.52486131]\n",
      "[3 2 1 0]\n",
      "[ 1.  1. -1. -1.]\n"
     ]
    }
   ],
   "source": [
    "T=np.array([[0.9,0.1,0,0],[0.1,0.89,0.01,0],[0,0.01,0.79,0.2],[0,0,0.2,0.8]])\n",
    "u, s, v = pylab.linalg.svd(T)\n",
    "u2 = u[:,1]\n",
    "print(u2)\n",
    "print(np.sort(u2))\n",
    "print(np.argsort(u2))\n",
    "print(np.sign(u2))"
   ]
  },
  {
   "cell_type": "code",
   "execution_count": 48,
   "metadata": {
    "collapsed": false
   },
   "outputs": [
    {
     "name": "stdout",
     "output_type": "stream",
     "text": [
      "[[ 0.9   0.1   0.    0.  ]\n",
      " [ 0.1   0.89  0.01  0.  ]\n",
      " [ 0.    0.01  0.79  0.2 ]\n",
      " [ 0.    0.    0.2   0.8 ]]\n",
      "[0, 1]\n",
      "[2, 3]\n"
     ]
    }
   ],
   "source": [
    "T=np.array([[0.9,0.1,0,0],[0.1,0.89,0.01,0],[0,0.01,0.79,0.2],[0,0,0.2,0.8]])\n",
    "A=np.copy(T)\n",
    "print(A)\n",
    "n=len(T)\n",
    "k=2\n",
    "k_ = [i for i in range(k)]\n",
    "_k = [i for i in range(n) if i not in k_]\n",
    "print(k_)\n",
    "print(_k)"
   ]
  },
  {
   "cell_type": "code",
   "execution_count": 53,
   "metadata": {
    "collapsed": false
   },
   "outputs": [
    {
     "name": "stdout",
     "output_type": "stream",
     "text": [
      "[[ 0.9   0.1   0.    0.  ]\n",
      " [ 0.1   0.89  0.01  0.  ]\n",
      " [ 0.    0.01  0.79  0.2 ]\n",
      " [ 0.    0.    0.2   0.8 ]]\n"
     ]
    },
    {
     "data": {
      "text/plain": [
       "array([[ 0.9 ,  0.1 ],\n",
       "       [ 0.1 ,  0.89]])"
      ]
     },
     "execution_count": 53,
     "metadata": {},
     "output_type": "execute_result"
    }
   ],
   "source": [
    "T1= A[k_,:]\n",
    "T1= T1[:,k_]\n",
    "T1"
   ]
  },
  {
   "cell_type": "code",
   "execution_count": 50,
   "metadata": {
    "collapsed": true
   },
   "outputs": [],
   "source": [
    "np.sort?"
   ]
  },
  {
   "cell_type": "code",
   "execution_count": 31,
   "metadata": {
    "collapsed": false
   },
   "outputs": [],
   "source": [
    "np.ndarray.sort?"
   ]
  },
  {
   "cell_type": "code",
   "execution_count": 32,
   "metadata": {
    "collapsed": true
   },
   "outputs": [],
   "source": [
    "np.argsort?"
   ]
  },
  {
   "cell_type": "code",
   "execution_count": null,
   "metadata": {
    "collapsed": true
   },
   "outputs": [],
   "source": []
  }
 ],
 "metadata": {
  "kernelspec": {
   "display_name": "Python 3",
   "language": "python",
   "name": "python3"
  },
  "language_info": {
   "codemirror_mode": {
    "name": "ipython",
    "version": 3
   },
   "file_extension": ".py",
   "mimetype": "text/x-python",
   "name": "python",
   "nbconvert_exporter": "python",
   "pygments_lexer": "ipython3",
   "version": "3.5.1"
  }
 },
 "nbformat": 4,
 "nbformat_minor": 0
}
