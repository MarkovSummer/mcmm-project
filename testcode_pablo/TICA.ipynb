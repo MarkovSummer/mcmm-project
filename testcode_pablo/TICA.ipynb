{
 "cells": [
  {
   "cell_type": "code",
   "execution_count": 3,
   "metadata": {
    "collapsed": false
   },
   "outputs": [],
   "source": [
    "%matplotlib inline\n",
    "import matplotlib.pyplot as plt\n",
    "import numpy as np\n",
    "import scipy as spy\n",
    "from scipy import linalg\n",
    "import pylab as py "
   ]
  },
  {
   "cell_type": "code",
   "execution_count": 9,
   "metadata": {
    "collapsed": true
   },
   "outputs": [],
   "source": [
    "def normalize(M):\n",
    "    \"\"\"\n",
    "    Subfunction for T. It normalizes the matrix given as input.\n",
    "    \n",
    "    INPUT:\n",
    "        - M = A matrix M.\n",
    "        \n",
    "    OUTPUT:\n",
    "        - M0 = The matrix M normalized, with rows that add to 1.     \n",
    "    \"\"\"\n",
    "    \n",
    "    M0=np.array(M)\n",
    "    if M0.ndim == 1:\n",
    "        s= M0.sum()\n",
    "        return np.divide(M0,s)\n",
    "        \n",
    "    elif M0.ndim == 2:\n",
    "        s=M0.sum(axis=1)\n",
    "        return np.divide(M0,s[:,np.newaxis])\n",
    "    else:\n",
    "        return \"Normalize. Wrong input\""
   ]
  },
  {
   "cell_type": "code",
   "execution_count": 106,
   "metadata": {
    "collapsed": true
   },
   "outputs": [],
   "source": [
    "def make_data_mean_free(X):\n",
    "    \"\"\"\n",
    "    \n",
    "    \"\"\"\n",
    "    \n",
    "    n_col = len(X[0])\n",
    "\n",
    "    for j in range(n_col):\n",
    "        med=((X[:,j]).sum())/(len(X[:,j]))\n",
    "        X[:,j] -= med\n",
    "    return X"
   ]
  },
  {
   "cell_type": "code",
   "execution_count": 107,
   "metadata": {
    "collapsed": false
   },
   "outputs": [],
   "source": [
    "def TICA(X,lag):\n",
    "    \"\"\"\n",
    "    Time-lagged/ time-structure-based independent component analysis.\n",
    "    \n",
    "    INPUT:\n",
    "        - X = As input, we consider a d-dimensional vector, called r(t)=(ri(t))i=1,...,D. \n",
    "        Here, t is an integer from {1...N} denoting the time step. That is, we have a N x D matrix.\n",
    "        \n",
    "    OUTPUT:\n",
    "        - \n",
    "    \"\"\"\n",
    "    \n",
    "    X_ = np.copy(X)\n",
    "    X_ = make_data_mean_free(X)\n",
    "    \n",
    "    T=len(X)\n",
    "    D=len(X[0])\n",
    "    \n",
    "    X_0 = X_[[i for i in range(T-lag)],:]\n",
    "    X_lag = X_[[lag+i for i in range(T-lag)],:]\n",
    "    \n",
    "    #Covariance matrices\n",
    "    C_0 = (1/(T-lag-1))*(np.dot(np.transpose(X_0),X_0))\n",
    "    C_lag = (1/(T-lag-1))*(np.dot(np.transpose(X_0),X_lag))\n",
    "    \n",
    "    #Symmetrized time-lagged covariance matrix\n",
    "    C_lag = 1/2 * (C_lag + np.transpose(C_lag))\n",
    "    \n",
    "    #Eigenvalue problem --> C_lag * U = eig_val * C_0 * U]\n",
    "    U = spy.linalg.eig(C_lag,C_0)[1]\n",
    "    \n",
    "    #Projection onto the TICA space\n",
    "    Z = np.dot(X_,U)\n",
    "    \n",
    "    return Z"
   ]
  },
  {
   "cell_type": "code",
   "execution_count": 109,
   "metadata": {
    "collapsed": false
   },
   "outputs": [
    {
     "name": "stdout",
     "output_type": "stream",
     "text": [
      "[[ 0.6772159   0.98130219  0.00349713  0.88984019  0.88954158  0.34802185\n",
      "   0.9381734   0.38045121  0.22426094  0.32798543]\n",
      " [ 0.2603218   0.06665483  0.77978405  0.59786782  0.60442293  0.57068969\n",
      "   0.73029636  0.29924903  0.96294572  0.97395958]\n",
      " [ 0.7410249   0.01045686  0.96575421  0.26705373  0.80714926  0.0716186\n",
      "   0.20585265  0.61021717  0.84040145  0.7258573 ]\n",
      " [ 0.61945151  0.36794891  0.51617185  0.3726646   0.50935792  0.86691775\n",
      "   0.30951835  0.6973583   0.05309299  0.73370254]\n",
      " [ 0.81399383  0.35668375  0.76483538  0.55058851  0.51149717  0.79372957\n",
      "   0.07372655  0.47441781  0.42513417  0.88382102]\n",
      " [ 0.55164776  0.28919028  0.974936    0.27987318  0.29376271  0.36529304\n",
      "   0.27430248  0.17771141  0.96272968  0.01963894]]\n",
      "6\n"
     ]
    }
   ],
   "source": [
    "Xa=np.random.rand(6,10)\n",
    "\n",
    "print(Xa)\n",
    "print(len(Xa))"
   ]
  },
  {
   "cell_type": "code",
   "execution_count": 115,
   "metadata": {
    "collapsed": false
   },
   "outputs": [
    {
     "name": "stderr",
     "output_type": "stream",
     "text": [
      "C:\\Users\\PabloAgustin\\Miniconda3\\lib\\site-packages\\scipy\\linalg\\decomp.py:60: RuntimeWarning: divide by zero encountered in true_divide\n",
      "  w = (alphar + _I * alphai) / beta\n",
      "C:\\Users\\PabloAgustin\\Miniconda3\\lib\\site-packages\\scipy\\linalg\\decomp.py:60: RuntimeWarning: invalid value encountered in true_divide\n",
      "  w = (alphar + _I * alphai) / beta\n",
      "C:\\Users\\PabloAgustin\\Miniconda3\\lib\\site-packages\\scipy\\linalg\\decomp.py:39: RuntimeWarning: invalid value encountered in greater\n",
      "  m = (w.imag > 0)\n",
      "C:\\Users\\PabloAgustin\\Miniconda3\\lib\\site-packages\\scipy\\linalg\\decomp.py:40: RuntimeWarning: invalid value encountered in less\n",
      "  m[:-1] |= (w.imag[1:] < 0)  # workaround for LAPACK bug, cf. ticket #709\n"
     ]
    },
    {
     "data": {
      "text/plain": [
       "array([[ -5.66186843e-17+0.j,   1.65152458e-02+0.j,  -2.01712558e-17+0.j,\n",
       "          5.48127063e-17+0.j,  -1.04938959e-16+0.j,   5.23317715e-17+0.j,\n",
       "         -1.59516963e-16+0.j,   1.12241192e-16+0.j,   2.43439798e-16+0.j,\n",
       "         -1.13657584e-01+0.j],\n",
       "       [  3.64708150e-18+0.j,  -8.68544879e-02+0.j,   6.34925367e-17+0.j,\n",
       "          2.84595521e-17+0.j,   7.03926377e-17+0.j,   3.81934901e-17+0.j,\n",
       "          3.62363291e-16+0.j,   1.73730652e-16+0.j,  -1.54271090e-16+0.j,\n",
       "          1.55852583e-01+0.j],\n",
       "       [ -8.09289512e-17+0.j,   2.63010924e-17+0.j,  -4.65721713e-02+0.j,\n",
       "         -8.49039664e-16+0.j,   3.67629156e-16+0.j,  -1.02499181e-16+0.j,\n",
       "          2.27212526e-17+0.j,  -1.70370569e-16+0.j,  -1.98277985e-17+0.j,\n",
       "         -1.00721397e-17+0.j],\n",
       "       [  6.88092430e-17+0.j,   3.11109702e-18+0.j,  -4.65721713e-02+0.j,\n",
       "          8.58073786e-16+0.j,   2.73607876e-16+0.j,  -8.07582913e-17+0.j,\n",
       "         -2.99363098e-17+0.j,   3.32306714e-17+0.j,   3.83929640e-17+0.j,\n",
       "          2.74050957e-17+0.j],\n",
       "       [ -1.38981997e-01+0.j,  -1.65152458e-02+0.j,   4.65721713e-02+0.j,\n",
       "         -1.38981997e-01+0.j,  -1.61288978e-16+0.j,   3.57751102e-17+0.j,\n",
       "          1.07032099e-16+0.j,  -1.30343820e-16+0.j,  -4.46356637e-16+0.j,\n",
       "          1.13657584e-01+0.j],\n",
       "       [  1.38981997e-01+0.j,   8.68544879e-02+0.j,   4.65721713e-02+0.j,\n",
       "          1.38981997e-01+0.j,  -4.32072565e-16+0.j,   5.03951617e-17+0.j,\n",
       "         -2.54204558e-16+0.j,  -2.14202101e-17+0.j,   4.36539700e-16+0.j,\n",
       "         -1.55852583e-01+0.j]])"
      ]
     },
     "execution_count": 115,
     "metadata": {},
     "output_type": "execute_result"
    }
   ],
   "source": [
    "TICA(Xa,2)"
   ]
  },
  {
   "cell_type": "code",
   "execution_count": null,
   "metadata": {
    "collapsed": true
   },
   "outputs": [],
   "source": []
  },
  {
   "cell_type": "code",
   "execution_count": 57,
   "metadata": {
    "collapsed": false
   },
   "outputs": [
    {
     "data": {
      "text/plain": [
       "[None, None]"
      ]
     },
     "execution_count": 57,
     "metadata": {},
     "output_type": "execute_result"
    },
    {
     "data": {
      "image/png": "[encoded data removed]",
      "text/plain": [
       "<matplotlib.figure.Figure at 0xec9b974588>"
      ]
     },
     "metadata": {},
     "output_type": "display_data"
    }
   ],
   "source": [
    "h, xedges, yedges = np.histogram2d(Xa[:, 0], Xa[:, 1], bins=(50, 50))\n",
    "xcenters = xedges[:-1] + 0.5 * (xedges[1:] - xedges[:-1])\n",
    "ycenters = yedges[:-1] + 0.5 * (yedges[1:] - yedges[:-1])\n",
    "x, y = np.meshgrid(xcenters, ycenters, indexing='ij')\n",
    "fig, ax = plt.subplots()\n",
    "ax.contourf(x, y, h, np.linspace(h.min(), h.max(), 60))\n",
    "ax.set_xlabel(r\"$x$ / a.u.\", fontsize=12)\n",
    "ax.set_ylabel(r\"$y$ / a.u.\", fontsize=12)\n",
    "ax.set(aspect='equal', adjustable='box-forced')"
   ]
  },
  {
   "cell_type": "code",
   "execution_count": 6,
   "metadata": {
    "collapsed": false
   },
   "outputs": [
    {
     "data": {
      "text/plain": [
       "matrix([[14, 19],\n",
       "        [19, 26]])"
      ]
     },
     "execution_count": 6,
     "metadata": {},
     "output_type": "execute_result"
    }
   ],
   "source": [
    "a=np.matrix([[1,1],[2,3],[3,4]])\n",
    "b=np.transpose(a)\n",
    "np.dot(b,a)"
   ]
  },
  {
   "cell_type": "code",
   "execution_count": 18,
   "metadata": {
    "collapsed": false
   },
   "outputs": [
    {
     "name": "stdout",
     "output_type": "stream",
     "text": [
      "400\n",
      "400\n"
     ]
    },
    {
     "data": {
      "text/plain": [
       "400"
      ]
     },
     "execution_count": 18,
     "metadata": {},
     "output_type": "execute_result"
    }
   ],
   "source": [
    "T=len(Xa)\n",
    "D=len(Xa[0])\n",
    "\n",
    "lag=5\n",
    "\n",
    "X_0 = Xa[[i for i in range(T-lag)],:]\n",
    "X_lag = Xa[[lag+i for i in range(T-lag)],:]\n",
    "\n",
    "C_0 = (1/(T-lag-1))*(np.dot(np.transpose(X_0),X_0))\n",
    "C_lag = (1/(T-lag-1))*(np.dot(np.transpose(X_0),X_lag))\n",
    "\n",
    "print(C_0.size)\n",
    "print(C_lag.size)\n",
    "\n",
    "(spy.linalg.eig(C_0,C_lag)[1]).size"
   ]
  },
  {
   "cell_type": "code",
   "execution_count": null,
   "metadata": {
    "collapsed": false
   },
   "outputs": [],
   "source": [
    "py.plot(Xa,[i for i in range(len(Xa))],'o',linestyle='--')\n",
    "py.show()"
   ]
  },
  {
   "cell_type": "code",
   "execution_count": null,
   "metadata": {
    "collapsed": true
   },
   "outputs": [],
   "source": []
  }
 ],
 "metadata": {
  "kernelspec": {
   "display_name": "Python 3",
   "language": "python",
   "name": "python3"
  },
  "language_info": {
   "codemirror_mode": {
    "name": "ipython",
    "version": 3
   },
   "file_extension": ".py",
   "mimetype": "text/x-python",
   "name": "python",
   "nbconvert_exporter": "python",
   "pygments_lexer": "ipython3",
   "version": "3.5.1"
  }
 },
 "nbformat": 4,
 "nbformat_minor": 0
}
