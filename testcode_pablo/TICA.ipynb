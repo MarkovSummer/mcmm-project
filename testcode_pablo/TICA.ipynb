{
 "cells": [
  {
   "cell_type": "code",
   "execution_count": 32,
   "metadata": {
    "collapsed": false
   },
   "outputs": [],
   "source": [
    "%matplotlib inline\n",
    "import matplotlib.pyplot as plt\n",
    "import numpy as np\n",
    "import scipy as spy\n",
    "from scipy import linalg\n",
    "import pylab as py "
   ]
  },
  {
   "cell_type": "code",
   "execution_count": 2,
   "metadata": {
    "collapsed": false
   },
   "outputs": [
    {
     "data": {
      "text/plain": [
       "'As input, we consider a d-dimensional vector, \\ncalled r(t)=(ri(t))i=1,...,D. Here, t is an integer from {1...N} denoting the time step. \\nThat is, we have a D x N matrix.'"
      ]
     },
     "execution_count": 2,
     "metadata": {},
     "output_type": "execute_result"
    }
   ],
   "source": [
    "\"\"\"As input, we consider a d-dimensional vector, \n",
    "called r(t)=(ri(t))i=1,...,D. Here, t is an integer from {1...N} denoting the time step. \n",
    "That is, we have a D x N matrix.\"\"\"\n"
   ]
  },
  {
   "cell_type": "code",
   "execution_count": 24,
   "metadata": {
    "collapsed": false
   },
   "outputs": [],
   "source": [
    "def TICA(X,lag):\n",
    "    \"\"\"\n",
    "    Time-lagged/ time-structure-based independent component analysis.\n",
    "    \n",
    "    INPUT:\n",
    "        - X = As input, we consider a d-dimensional vector, called r(t)=(ri(t))i=1,...,D. \n",
    "        Here, t is an integer from {1...N} denoting the time step. That is, we have a N x D matrix.\n",
    "        \n",
    "    OUTPUT:\n",
    "        - \n",
    "    \"\"\"\n",
    "    \n",
    "    T=len(X)\n",
    "    D=len(X[0])\n",
    "    \n",
    "    X_0 = X[[i for i in range(T-lag)],:]\n",
    "    X_lag = X[[lag+i for i in range(T-lag)],:]\n",
    "    \n",
    "    C_0 = (1/(T-lag-1))*(np.dot(np.transpose(X_0),X_0))\n",
    "    C_lag = (1/(T-lag-1))*(np.dot(np.transpose(X_0),X_lag))\n",
    "    \n",
    "    #enforce symmetry:\n",
    "    # if \n",
    "    #C_0 = (1/2)*((np.transpose(X_0))*(X_0)+(np.transpose(X_lag))*(X_lag))\n",
    "    #C_lag = (1/2)*((np.transpose(X_0))*(X_lag)+(np.transpose(X_lag))*(X_0))\n",
    "    \n",
    "    U = spy.linalg.eig(C_lag,C_0)[1]\n",
    "    Z = np.dot(X,U)\n",
    "    return Z"
   ]
  },
  {
   "cell_type": "code",
   "execution_count": 78,
   "metadata": {
    "collapsed": false
   },
   "outputs": [
    {
     "data": {
      "text/plain": [
       "array([[1, 3],\n",
       "       [2, 4]])"
      ]
     },
     "execution_count": 78,
     "metadata": {},
     "output_type": "execute_result"
    }
   ],
   "source": [
    "s=np.array([[1,2],[3,4]])\n",
    "s.T"
   ]
  },
  {
   "cell_type": "code",
   "execution_count": 47,
   "metadata": {
    "collapsed": false
   },
   "outputs": [
    {
     "name": "stdout",
     "output_type": "stream",
     "text": [
      "25\n"
     ]
    },
    {
     "data": {
      "text/plain": [
       "25"
      ]
     },
     "execution_count": 47,
     "metadata": {},
     "output_type": "execute_result"
    }
   ],
   "source": [
    "Xa=np.random.rand(5,5)\n",
    "print(Xa.size)\n",
    "TICA(Xa,2).size"
   ]
  },
  {
   "cell_type": "code",
   "execution_count": 77,
   "metadata": {
    "collapsed": false
   },
   "outputs": [
    {
     "data": {
      "text/plain": [
       "[None, None]"
      ]
     },
     "execution_count": 77,
     "metadata": {},
     "output_type": "execute_result"
    },
    {
     "data": {
      "image/png": "[encoded data removed]",
      "text/plain": [
       "<matplotlib.figure.Figure at 0x66e2418198>"
      ]
     },
     "metadata": {},
     "output_type": "display_data"
    }
   ],
   "source": [
    "h, xedges, yedges = np.histogram2d(Xa[:, 0], Xa[:, 1], bins=(50, 50))\n",
    "xcenters = xedges[:-1] + 0.5 * (xedges[1:] - xedges[:-1])\n",
    "ycenters = yedges[:-1] + 0.5 * (yedges[1:] - yedges[:-1])\n",
    "x, y = np.meshgrid(xcenters, ycenters, indexing='ij')\n",
    "fig, ax = plt.subplots()\n",
    "ax.contourf(x, y, h, np.linspace(h.min(), h.max(), 60))\n",
    "ax.set_xlabel(r\"$x$ / a.u.\", fontsize=12)\n",
    "ax.set_ylabel(r\"$y$ / a.u.\", fontsize=12)\n",
    "ax.set(aspect='equal', adjustable='box-forced')"
   ]
  },
  {
   "cell_type": "code",
   "execution_count": 6,
   "metadata": {
    "collapsed": false
   },
   "outputs": [
    {
     "data": {
      "text/plain": [
       "matrix([[14, 19],\n",
       "        [19, 26]])"
      ]
     },
     "execution_count": 6,
     "metadata": {},
     "output_type": "execute_result"
    }
   ],
   "source": [
    "a=np.matrix([[1,1],[2,3],[3,4]])\n",
    "b=np.transpose(a)\n",
    "np.dot(b,a)"
   ]
  },
  {
   "cell_type": "code",
   "execution_count": 18,
   "metadata": {
    "collapsed": false
   },
   "outputs": [
    {
     "name": "stdout",
     "output_type": "stream",
     "text": [
      "400\n",
      "400\n"
     ]
    },
    {
     "data": {
      "text/plain": [
       "400"
      ]
     },
     "execution_count": 18,
     "metadata": {},
     "output_type": "execute_result"
    }
   ],
   "source": [
    "T=len(Xa)\n",
    "D=len(Xa[0])\n",
    "\n",
    "lag=5\n",
    "\n",
    "X_0 = Xa[[i for i in range(T-lag)],:]\n",
    "X_lag = Xa[[lag+i for i in range(T-lag)],:]\n",
    "\n",
    "C_0 = (1/(T-lag-1))*(np.dot(np.transpose(X_0),X_0))\n",
    "C_lag = (1/(T-lag-1))*(np.dot(np.transpose(X_0),X_lag))\n",
    "\n",
    "print(C_0.size)\n",
    "print(C_lag.size)\n",
    "\n",
    "(spy.linalg.eig(C_0,C_lag)[1]).size"
   ]
  },
  {
   "cell_type": "code",
   "execution_count": null,
   "metadata": {
    "collapsed": false
   },
   "outputs": [],
   "source": [
    "py.plot(Xa,[i for i in range(len(Xa))],'o',linestyle='--')\n",
    "py.show()"
   ]
  },
  {
   "cell_type": "code",
   "execution_count": null,
   "metadata": {
    "collapsed": true
   },
   "outputs": [],
   "source": []
  }
 ],
 "metadata": {
  "kernelspec": {
   "display_name": "Python 3",
   "language": "python",
   "name": "python3"
  },
  "language_info": {
   "codemirror_mode": {
    "name": "ipython",
    "version": 3
   },
   "file_extension": ".py",
   "mimetype": "text/x-python",
   "name": "python",
   "nbconvert_exporter": "python",
   "pygments_lexer": "ipython3",
   "version": "3.5.1"
  }
 },
 "nbformat": 4,
 "nbformat_minor": 0
}
