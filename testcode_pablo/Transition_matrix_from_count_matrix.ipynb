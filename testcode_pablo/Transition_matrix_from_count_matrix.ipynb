{
 "cells": [
  {
   "cell_type": "code",
   "execution_count": 102,
   "metadata": {
    "collapsed": false
   },
   "outputs": [],
   "source": [
    "import numpy as np\n",
    "##import Kosarajus_alg as Kosarajus_alg"
   ]
  },
  {
   "cell_type": "code",
   "execution_count": 103,
   "metadata": {
    "collapsed": true
   },
   "outputs": [],
   "source": [
    "def normalize(M):\n",
    "    \"\"\"\n",
    "    Subfunction for T. It normalizes the matrix given as input.\n",
    "    \n",
    "    INPUT:\n",
    "        - M = A matrix M.\n",
    "        \n",
    "    OUTPUT:\n",
    "        - M0 = The matrix M normalized, with rows that add to 1.     \n",
    "    \"\"\"\n",
    "    \n",
    "    M0=np.array(M)\n",
    "    if M0.ndim == 1:\n",
    "        s= M0.sum()\n",
    "        return np.divide(M0,s)\n",
    "        \n",
    "    elif M0.ndim == 2:\n",
    "        s=M0.sum(axis=1)\n",
    "        return np.divide(M0,s[:,np.newaxis])\n",
    "    else:\n",
    "        return \"Normalize. Wrong input\""
   ]
  },
  {
   "cell_type": "code",
   "execution_count": 119,
   "metadata": {
    "collapsed": false
   },
   "outputs": [],
   "source": [
    "def stationary_sol(T):\n",
    "    \"\"\"\n",
    "    Given a random matrix T, returns a stationary sol a, s.t. aT=a\n",
    "    \n",
    "    INPUT:\n",
    "        - T = Some square matrix.\n",
    "        \n",
    "    OUTPUT:\n",
    "        - the stationary vector of the matrix.   \n",
    "    \"\"\"\n",
    "    \n",
    "    T0=normalize(T)\n",
    "    eig=np.linalg.eig(T0)\n",
    "    for i in range(len(eig[0])):\n",
    "        if np.around(eig[0][i])==1: #considers only integer part\n",
    "            return np.real(eig[1][i])\n",
    "    return \"No eigenvalue 1\""
   ]
  },
  {
   "cell_type": "code",
   "execution_count": 105,
   "metadata": {
    "collapsed": true
   },
   "outputs": [],
   "source": [
    "def obtain_active_set(T):\n",
    "    \"\"\"\n",
    "    Function for other parts of the project. It gets the biggest connected component of the matrix \n",
    "    that we are given.\n",
    "    \n",
    "    INPUT:\n",
    "        - T = The probability transition matrix of the markov model.\n",
    "    \n",
    "    OUTPUT:\n",
    "        - C = A square matrix. The biggest connected component of the matrix.\n",
    "        - L = A list of vertices. The states of T that correspond to the biggest component.\n",
    "    \n",
    "    \"\"\"\n",
    "    \n",
    "    b=0\n",
    "    j=0\n",
    "    components=kosarajus_algo2(T)\n",
    "    for i in components:\n",
    "        a=len(components[i])\n",
    "        if a>b:\n",
    "            b=a\n",
    "            j=i\n",
    "    L=list(components[j])\n",
    "    L=np.sort(L)\n",
    "    C=np.array([T[i,:] for i in L])\n",
    "    C=np.array([C[:,i] for i in L])\n",
    "    C=np.transpose(C)\n",
    "    return (C,L)"
   ]
  },
  {
   "cell_type": "code",
   "execution_count": 106,
   "metadata": {
    "collapsed": true
   },
   "outputs": [],
   "source": [
    "def Assign2(u,root,LIST,components,M):\n",
    "    \"\"\"\n",
    "    Recursive subfunction for kosarajus\n",
    "    Strong components are to be represented by appointing a separate root vertex for each component,\n",
    "    and assigning to each vertex the root vertex of its component.\n",
    "    \n",
    "    INPUT:\n",
    "        \n",
    "        - u = An integer, which represents a vertex (in our numeration) that has to be\n",
    "        assigned to some component.\n",
    "        - root = An integer, which represents a component.\n",
    "        \n",
    "        - LIST = A list of vertices that are not yet introduced in the dictionary.\n",
    "        \n",
    "        - components = A dictionary containing the vertices (numerated from 0 to n-1), \n",
    "        each vertex associated to the root representing its component.\n",
    "        - M = A transition matrix (which is the adjacency matrix of a graph).\n",
    "    \n",
    "    OUTPUT:\n",
    "    \n",
    "        - It just changes the dictionary components, assigning to each vertex its root.\n",
    "    \n",
    "    \"\"\"\n",
    "    \n",
    "    in_=[i for i in M[:,u]]\n",
    "    \n",
    "    if u in LIST:\n",
    "        \n",
    "        if not root in components:\n",
    "            components[root]=[u]\n",
    "        elif root in components:\n",
    "            components[root].append(u)\n",
    "        LIST.remove(u)\n",
    "            \n",
    "        for i in range(len(in_)):\n",
    "            if not(in_[i]==0):\n",
    "                Assign2(i,root,LIST,components,M)\n",
    "    return\n",
    "\n",
    "def Visit(u,Visited,L,M):\n",
    "    \"\"\"\n",
    "    Recursive subfunction for kosarajus\n",
    "    \n",
    "    INPUT:\n",
    "        \n",
    "        - u = An integer, which represents a vertex (in our numeration).\n",
    "        - Visited = A list of the vertices already visited.\n",
    "        - L = an ordered list of graph vertices, that will grow to contain each vertex once.\n",
    "        - M = A transition matrix (which is the adjacency matrix of a graph).\n",
    "    \n",
    "    OUTPUT:\n",
    "        \n",
    "        - It just adds in order vertices to the list L.\n",
    "    \n",
    "    \"\"\"\n",
    "    out=M[u,:]\n",
    "    if not(u in Visited):\n",
    "        Visited.append(u)\n",
    "        for i in range(len(out)):\n",
    "            if not(out[i]==0):\n",
    "                Visit(i,Visited,L,M)\n",
    "        L.insert(0,u) \n",
    "    return\n",
    "\n",
    "def kosarajus_algo2(M):\n",
    "    \"\"\"\n",
    "    Returns a dictionary containing the vertices and their inclusion in strong components.\n",
    "    Strong components are to be represented by appointing a separate root vertex for each component,\n",
    "    and assigning to each root the list of vertices inside that component.\n",
    "    If the graph is represented as an adjacency matrix, the algorithm requires Ο(V^2) time.\n",
    "    \n",
    "    INPUT:\n",
    "    \n",
    "        - M = A transition matrix (which is the adjacency matrix of a graph).\n",
    "    \n",
    "    OUTPUT:\n",
    "    \n",
    "        - components = A dictionary containing the components (numerated from 0 to ..), \n",
    "        each root associated to a list of vertices that are part of that component.\n",
    "    \n",
    "    \"\"\"\n",
    "    \n",
    "    Visited=[]\n",
    "    L=[]\n",
    "    \n",
    "    components={}\n",
    "    \n",
    "    Vertices= [i for i in range(len(M[:,1]))]\n",
    "    LIST=list(Vertices)\n",
    "    \n",
    "    for i in Vertices:\n",
    "        Visit(i,Visited,L,M)\n",
    "    for u in L:\n",
    "        Assign2(u,u,LIST,components,M)\n",
    "    return components  "
   ]
  },
  {
   "cell_type": "code",
   "execution_count": 108,
   "metadata": {
    "collapsed": true
   },
   "outputs": [],
   "source": [
    "def T_non_reversible(C):\n",
    "    \"\"\"\n",
    "    Function to get the transition matrix from the count matrix. It simply normalizes the count matrix.\n",
    "    Is easy, and useful for very large amount of data.\n",
    "    \n",
    "    INPUT:\n",
    "        - C = Count matrix.\n",
    "    \n",
    "    OUTPUT:\n",
    "        - P = The probability transition matrix of the markov model.\n",
    "    \"\"\"\n",
    "    \n",
    "    return normalize(C)"
   ]
  },
  {
   "cell_type": "code",
   "execution_count": 123,
   "metadata": {
    "collapsed": false
   },
   "outputs": [],
   "source": [
    "def T_reversible(C,max_iterations=100,error=0.1):\n",
    "    \"\"\"\n",
    "    Function to get the transition matrix from the count matrix. It gives a matrix that is reversible.\n",
    "    That is, the markov model obtained is reversible (it satisfies the detailed balance equations).\n",
    "    Detailed balance implies that, around any closed cycle of states, there is no net flow of probability. \n",
    "    For example, it implies that, for all a, b and c,\n",
    "    T( a , b ) T( b , c ) T( c , a ) = T( a , c ) T( c , b ) T( b , a ).\n",
    "    \n",
    "    INPUT:\n",
    "        - C = Count matrix constructed with lag tau.\n",
    "        - max_iterations = maximum number of iterations we allow.\n",
    "        - error = error that we consider to understand that the iteration has converged.\n",
    "        \n",
    "    OUTPUT:\n",
    "        - P = The probability transition matrix of the markov model.\n",
    "    \"\"\"\n",
    "    \n",
    "    C_i = C.sum(axis=1) #array of the sums of the rows of C\n",
    "    C_j = C.sum(axis=0) #array of the sums of the columns of C\n",
    "    \n",
    "    P = T_non_reversible(C)\n",
    "    P = (obtain_active_set(P))[0]\n",
    "    pi = stationary_sol(P)\n",
    "    \n",
    "    P=np.multiply(P,pi)\n",
    "    X_0= P #initial state\n",
    "    \n",
    "    it=0\n",
    "    Er=0.2 #TO BE CHANGED\n",
    "    \n",
    "    while (Er > error) and (it< max_iterations):\n",
    "        Xi_0= X_0.sum(axis=1) #array of the sums of the rows of X_0\n",
    "        Xj_0= X_0.sum(axis=0) #array of the sums of the rows of X_0\n",
    "        \n",
    "        X_1= C + np.matrix.transpose(C)\n",
    "        X_1=np.divide(X_1,((C_i)/(Xi_0) + (C_j)/(Xj_0)))\n",
    "        \n",
    "        X_0 = X_1\n",
    "        it+=1\n",
    "        \n",
    "    P = normalize(X_1)\n",
    "    return P"
   ]
  },
  {
   "cell_type": "code",
   "execution_count": 125,
   "metadata": {
    "collapsed": false
   },
   "outputs": [
    {
     "data": {
      "text/plain": [
       "array([[0, 1, 0],\n",
       "       [0, 1, 1],\n",
       "       [1, 0, 0]])"
      ]
     },
     "execution_count": 125,
     "metadata": {},
     "output_type": "execute_result"
    }
   ],
   "source": [
    "count_matrix=np.array([[ 0, 1, 0],[0,1,1],[ 1, 0,0]])\n",
    "count_matrix"
   ]
  },
  {
   "cell_type": "code",
   "execution_count": 116,
   "metadata": {
    "collapsed": false
   },
   "outputs": [
    {
     "data": {
      "text/plain": [
       "array([[ 0. ,  1. ,  0. ],\n",
       "       [ 0. ,  0.5,  0.5],\n",
       "       [ 1. ,  0. ,  0. ]])"
      ]
     },
     "execution_count": 116,
     "metadata": {},
     "output_type": "execute_result"
    }
   ],
   "source": [
    "T_non_reversible(count_matrix)"
   ]
  },
  {
   "cell_type": "code",
   "execution_count": 124,
   "metadata": {
    "collapsed": false
   },
   "outputs": [
    {
     "data": {
      "text/plain": [
       "array([[ 0.  ,  0.5 ,  0.5 ],\n",
       "       [ 0.25,  0.5 ,  0.25],\n",
       "       [ 0.5 ,  0.5 ,  0.  ]])"
      ]
     },
     "execution_count": 124,
     "metadata": {},
     "output_type": "execute_result"
    }
   ],
   "source": [
    "T_reversible(count_matrix)"
   ]
  },
  {
   "cell_type": "code",
   "execution_count": 129,
   "metadata": {
    "collapsed": false
   },
   "outputs": [
    {
     "data": {
      "text/plain": [
       "(array([-0.25+0.66143783j, -0.25-0.66143783j,  1.00+0.j        ]),\n",
       " array([[-0.18898224+0.5j , -0.18898224-0.5j , -0.57735027+0.j  ],\n",
       "        [-0.28347335-0.25j, -0.28347335+0.25j, -0.57735027+0.j  ],\n",
       "        [ 0.75592895+0.j  ,  0.75592895-0.j  , -0.57735027+0.j  ]]))"
      ]
     },
     "execution_count": 129,
     "metadata": {},
     "output_type": "execute_result"
    }
   ],
   "source": [
    "np.linalg.eig(T_non_reversible(count_matrix))"
   ]
  },
  {
   "cell_type": "code",
   "execution_count": 128,
   "metadata": {
    "collapsed": false
   },
   "outputs": [
    {
     "data": {
      "text/plain": [
       "(array([  1.00000000e+00,  -5.00000000e-01,  -7.67000774e-17]),\n",
       " array([[  5.77350269e-01,   7.07106781e-01,   5.77350269e-01],\n",
       "        [  5.77350269e-01,   1.61436982e-16,  -5.77350269e-01],\n",
       "        [  5.77350269e-01,  -7.07106781e-01,   5.77350269e-01]]))"
      ]
     },
     "execution_count": 128,
     "metadata": {},
     "output_type": "execute_result"
    }
   ],
   "source": [
    "np.linalg.eig(T_reversible(count_matrix))"
   ]
  },
  {
   "cell_type": "code",
   "execution_count": 130,
   "metadata": {
    "collapsed": false
   },
   "outputs": [
    {
     "data": {
      "text/plain": [
       "array([ 0.75592895,  0.75592895, -0.57735027])"
      ]
     },
     "execution_count": 130,
     "metadata": {},
     "output_type": "execute_result"
    }
   ],
   "source": [
    "stationary_sol(T_non_reversible(count_matrix))"
   ]
  },
  {
   "cell_type": "code",
   "execution_count": 131,
   "metadata": {
    "collapsed": false
   },
   "outputs": [
    {
     "data": {
      "text/plain": [
       "array([ 0.57735027,  0.70710678,  0.57735027])"
      ]
     },
     "execution_count": 131,
     "metadata": {},
     "output_type": "execute_result"
    }
   ],
   "source": [
    "stationary_sol(T_reversible(count_matrix))"
   ]
  },
  {
   "cell_type": "code",
   "execution_count": null,
   "metadata": {
    "collapsed": true
   },
   "outputs": [],
   "source": []
  }
 ],
 "metadata": {
  "kernelspec": {
   "display_name": "Python 3",
   "language": "python",
   "name": "python3"
  },
  "language_info": {
   "codemirror_mode": {
    "name": "ipython",
    "version": 3
   },
   "file_extension": ".py",
   "mimetype": "text/x-python",
   "name": "python",
   "nbconvert_exporter": "python",
   "pygments_lexer": "ipython3",
   "version": "3.5.1"
  }
 },
 "nbformat": 4,
 "nbformat_minor": 0
}
