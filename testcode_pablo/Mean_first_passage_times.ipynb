{
 "cells": [
  {
   "cell_type": "code",
   "execution_count": 9,
   "metadata": {
    "collapsed": true
   },
   "outputs": [],
   "source": [
    "import numpy as np"
   ]
  },
  {
   "cell_type": "code",
   "execution_count": 199,
   "metadata": {
    "collapsed": true
   },
   "outputs": [],
   "source": [
    "def stat(T):\n",
    "    w, v = np.linalg.eig(T.T)\n",
    "    \n",
    "    j_stat =np.argmin(abs(w-1.0))\n",
    "    p_stat=v[:,j_stat].real\n",
    "    p_stat /= p_stat.sum()\n",
    "    return p_stat"
   ]
  },
  {
   "cell_type": "code",
   "execution_count": 126,
   "metadata": {
    "collapsed": false
   },
   "outputs": [
    {
     "name": "stdout",
     "output_type": "stream",
     "text": [
      "[[1 2 3]\n",
      " [4 5 6]\n",
      " [7 8 9]]\n",
      "[[1 3]\n",
      " [4 6]\n",
      " [7 9]]\n",
      "[[1 3]\n",
      " [7 9]]\n"
     ]
    }
   ],
   "source": [
    "T=np.array([[1,2,3],[4,5,6],[7,8,9]])\n",
    "print(T)\n",
    "a=T[:,[0,2]]\n",
    "print(a)\n",
    "\n",
    "print(a[[0,2],:])"
   ]
  },
  {
   "cell_type": "code",
   "execution_count": 131,
   "metadata": {
    "collapsed": false
   },
   "outputs": [
    {
     "name": "stdout",
     "output_type": "stream",
     "text": [
      "[[1 3]\n",
      " [4 6]\n",
      " [7 9]]\n"
     ]
    },
    {
     "data": {
      "text/plain": [
       "array([ -4, -10, -16])"
      ]
     },
     "execution_count": 131,
     "metadata": {},
     "output_type": "execute_result"
    }
   ],
   "source": [
    "T=np.array([[1,2,3],[4,5,6],[7,8,9]])\n",
    "print(T[:,[0,2]])\n",
    "c=(T[:,[0,2]]).sum(axis=1)\n",
    "c= -1*c\n",
    "c"
   ]
  },
  {
   "cell_type": "code",
   "execution_count": 139,
   "metadata": {
    "collapsed": false
   },
   "outputs": [
    {
     "data": {
      "text/plain": [
       "array([ 1.,  9.,  1.,  1.,  4.,  5.,  1.,  1.,  1.,  1.])"
      ]
     },
     "execution_count": 139,
     "metadata": {},
     "output_type": "execute_result"
    }
   ],
   "source": [
    "h=np.ones(10)\n",
    "h[[1,4,5]]=np.array([9,4,5])\n",
    "h"
   ]
  },
  {
   "cell_type": "code",
   "execution_count": 162,
   "metadata": {
    "collapsed": false
   },
   "outputs": [],
   "source": [
    "def hitting_probability(T,S):\n",
    "    \"\"\"\n",
    "    We calculate the hitting time of a set S, defined \n",
    "    \n",
    "    INPUT:\n",
    "        - T = A markov transition matrix. Square matrix.\n",
    "        - S = Subset of states.\n",
    "        \n",
    "    OUTPUT:\n",
    "        \n",
    "    \n",
    "    \"\"\"\n",
    "    \n",
    "    n = len(T)\n",
    "    \n",
    "    h=np.zeros(n)\n",
    "    h[S] = np.ones(len(S))\n",
    "    \n",
    "    S_ = [i for i in range(n) if i not in S]\n",
    "    \n",
    "    A = np.copy(T)\n",
    "    A = A[:,S_]\n",
    "    A = A[S_,:]\n",
    "    \n",
    "    I=np.identity(len(A))\n",
    "    A=A-I\n",
    "    \n",
    "    B = np.copy(T)\n",
    "    B = B[:,S]\n",
    "    B = B[S_,:]\n",
    "\n",
    "    b=B.sum(axis=1)\n",
    "    b= -1*b\n",
    "    \n",
    "    Q = (np.linalg.lstsq(A,b))[0]\n",
    "    h[S_] = Q\n",
    "    \n",
    "    return h\n",
    "        "
   ]
  },
  {
   "cell_type": "code",
   "execution_count": 163,
   "metadata": {
    "collapsed": false
   },
   "outputs": [
    {
     "data": {
      "text/plain": [
       "array([ 1.,  1.,  1.,  1.])"
      ]
     },
     "execution_count": 163,
     "metadata": {},
     "output_type": "execute_result"
    }
   ],
   "source": [
    "T=np.array([[0.9,0.1,0,0],[0.1,0.89,0.01,0],[0,0.01,0.79,0.2],[0,0,0.2,0.8]])\n",
    "X=[1,2]\n",
    "hitting_probability(T,X)"
   ]
  },
  {
   "cell_type": "code",
   "execution_count": 161,
   "metadata": {
    "collapsed": false
   },
   "outputs": [
    {
     "data": {
      "text/plain": [
       "array([ 1.,  1.,  1.,  1.,  1.,  1.,  0.,  1.,  0.,  0.])"
      ]
     },
     "execution_count": 161,
     "metadata": {},
     "output_type": "execute_result"
    }
   ],
   "source": [
    "n=10\n",
    "A=[1,2,4]\n",
    "B=[6,8,9]\n",
    "AB_ = [i for i in range(n) if i not in A and i not in B]\n",
    "AB_\n",
    "h=np.ones(n)\n",
    "h[B] = np.zeros(len(B))\n",
    "h"
   ]
  },
  {
   "cell_type": "code",
   "execution_count": 250,
   "metadata": {
    "collapsed": true
   },
   "outputs": [],
   "source": [
    "def forward_commitors(T,A,B):\n",
    "    \"\"\"\n",
    "    Formally defined as the probability to hit set B rather than A\n",
    "    \n",
    "    INPUT:\n",
    "        - T = A markov transition matrix\n",
    "        - A = A subset of states.\n",
    "        - B = A subset of states.\n",
    "        \n",
    "    OUTPUT:\n",
    "    \"\"\"\n",
    "\n",
    "        \n",
    "    n = len(T)\n",
    "    \n",
    "    q=np.zeros(n)\n",
    "    q[B] = np.ones(len(B))\n",
    "    \n",
    "    B_ = [i for i in range(n) if i not in B]\n",
    "    AB_ = [i for i in B_ if i not in A]\n",
    "    \n",
    "    \n",
    "    a = np.copy(T)\n",
    "    a = a[:,AB_]\n",
    "    a = a[AB_,:]\n",
    "    \n",
    "    I=np.identity(len(a))\n",
    "    a=a-I\n",
    "    \n",
    "    b = np.copy(T)\n",
    "    b = b[:,B]\n",
    "    b = b[AB_,:]\n",
    "\n",
    "    b=b.sum(axis=1)\n",
    "    b= -1*b \n",
    "    \n",
    "    if not(len(a)==0 or len(b)==0):\n",
    "        Q = (np.linalg.lstsq(a,b))[0]\n",
    "        h[AB_] = Q\n",
    "    \n",
    "    return q        "
   ]
  },
  {
   "cell_type": "code",
   "execution_count": 251,
   "metadata": {
    "collapsed": false
   },
   "outputs": [
    {
     "data": {
      "text/plain": [
       "array([[ 0.9 ,  0.1 ,  0.  ,  0.  ],\n",
       "       [ 0.1 ,  0.89,  0.01,  0.  ],\n",
       "       [ 0.  ,  0.01,  0.79,  0.2 ],\n",
       "       [ 0.  ,  0.  ,  0.2 ,  0.8 ]])"
      ]
     },
     "execution_count": 251,
     "metadata": {},
     "output_type": "execute_result"
    }
   ],
   "source": [
    "T"
   ]
  },
  {
   "cell_type": "code",
   "execution_count": 252,
   "metadata": {
    "collapsed": false
   },
   "outputs": [
    {
     "data": {
      "text/plain": [
       "array([ 0.,  0.,  1.,  1.])"
      ]
     },
     "execution_count": 252,
     "metadata": {},
     "output_type": "execute_result"
    }
   ],
   "source": [
    "A=[0,1]\n",
    "B=[2,3]\n",
    "\n",
    "forward_commitors(T,A,B)"
   ]
  },
  {
   "cell_type": "code",
   "execution_count": 231,
   "metadata": {
    "collapsed": false
   },
   "outputs": [
    {
     "name": "stdout",
     "output_type": "stream",
     "text": [
      "[[1 2 4]\n",
      " [3 4 5]\n",
      " [4 6 7]]\n"
     ]
    },
    {
     "data": {
      "text/plain": [
       "5"
      ]
     },
     "execution_count": 231,
     "metadata": {},
     "output_type": "execute_result"
    }
   ],
   "source": [
    "s=np.array([[1,2,4],[3,4,5],[4,6,7]])\n",
    "print(s)\n",
    "s[1,2]"
   ]
  },
  {
   "cell_type": "code",
   "execution_count": 253,
   "metadata": {
    "collapsed": true
   },
   "outputs": [],
   "source": [
    "def probability_current(T,A,B):\n",
    "    \"\"\"\n",
    "    ¡¡NOT OPTIMIZED!!\n",
    "    \n",
    "    The probability current gives the averege number of reactive trajectories\n",
    "    (those going from A to B, without entering A before reaching B) that transition\n",
    "    from i to j per time unit.\n",
    "    \n",
    "    \"\"\"\n",
    "    \n",
    "    n = len(T)\n",
    "    \n",
    "    F = np.copy(T)\n",
    "    \n",
    "    q = forward_commitors(T,A,B)   \n",
    "    q_ = forward_commitors(T,B,A)\n",
    "    \n",
    "    pi=stat(T)\n",
    "    \n",
    "    for i in range(n):\n",
    "        for j in range(n):\n",
    "            if j==i:\n",
    "                F[i,j]=0\n",
    "            else:\n",
    "                F[i,j] = (pi[i])*(q_[i])*(T[i,j])*(q[j])\n",
    "    \n",
    "    return F"
   ]
  },
  {
   "cell_type": "code",
   "execution_count": 254,
   "metadata": {
    "collapsed": false
   },
   "outputs": [
    {
     "data": {
      "text/plain": [
       "array([[ 0.    ,  0.    ,  0.    ,  0.    ],\n",
       "       [ 0.    ,  0.    ,  0.0025,  0.    ],\n",
       "       [ 0.    ,  0.    ,  0.    ,  0.    ],\n",
       "       [ 0.    ,  0.    ,  0.    ,  0.    ]])"
      ]
     },
     "execution_count": 254,
     "metadata": {},
     "output_type": "execute_result"
    }
   ],
   "source": [
    "A=[0,1]\n",
    "B=[2,3]\n",
    "probability_current(T,A,B)"
   ]
  },
  {
   "cell_type": "code",
   "execution_count": null,
   "metadata": {
    "collapsed": true
   },
   "outputs": [],
   "source": [
    "def effective_probability_current(T,A,B):\n",
    "    \"\"\"\n",
    "    \n",
    "    \n",
    "    \"\"\""
   ]
  },
  {
   "cell_type": "code",
   "execution_count": 267,
   "metadata": {
    "collapsed": true
   },
   "outputs": [],
   "source": [
    "def average_current(T,A,B):\n",
    "    \"\"\"\n",
    "    ¡¡NOT OPTIMIZED!!\n",
    "    \n",
    "    Average total number of trajectories going from A to B per time unit.\n",
    "    \n",
    "    INPUT:\n",
    "        - T = A markov transition matrix.\n",
    "        - A = A subset of indices.\n",
    "        - B = A subset of indices.\n",
    "    \n",
    "    \"\"\"\n",
    "    \n",
    "    f_AB = probability_current(T,A,B)\n",
    "        \n",
    "    n=len(f_AB)\n",
    "    F_AB = np.zeros([n,n])\n",
    "    \n",
    "    for i in A:\n",
    "        for j in B:\n",
    "            F_AB[i,j] = f_AB[i,j]\n",
    "    F_AB=F_AB.sum(axis=1)\n",
    "    F_AB=F_AB.sum(axis=0)\n",
    "    \n",
    "    return F_AB"
   ]
  },
  {
   "cell_type": "code",
   "execution_count": 268,
   "metadata": {
    "collapsed": false
   },
   "outputs": [
    {
     "name": "stdout",
     "output_type": "stream",
     "text": [
      "[[ 0.      0.      0.      0.    ]\n",
      " [ 0.      0.      0.0025  0.    ]\n",
      " [ 0.      0.      0.      0.    ]\n",
      " [ 0.      0.      0.      0.    ]]\n"
     ]
    },
    {
     "data": {
      "text/plain": [
       "0.0025000000000000955"
      ]
     },
     "execution_count": 268,
     "metadata": {},
     "output_type": "execute_result"
    }
   ],
   "source": [
    "A=[0,1]\n",
    "B=[2,3]\n",
    "print(probability_current(T,A,B))\n",
    "average_current(T,A,B)"
   ]
  },
  {
   "cell_type": "code",
   "execution_count": 257,
   "metadata": {
    "collapsed": false
   },
   "outputs": [
    {
     "name": "stdout",
     "output_type": "stream",
     "text": [
      "[[1 2 3]\n",
      " [4 5 6]\n",
      " [7 8 9]]\n",
      "[ 6 15 24]\n",
      "[12 15 18]\n"
     ]
    },
    {
     "data": {
      "text/plain": [
       "45"
      ]
     },
     "execution_count": 257,
     "metadata": {},
     "output_type": "execute_result"
    }
   ],
   "source": [
    "s=np.array([[1,2,3],[4,5,6],[7,8,9]])\n",
    "print(s)\n",
    "print(s.sum(axis=1))\n",
    "K=s.sum(axis=1)\n",
    "print(s.sum(axis=0))\n",
    "K.sum(axis=0)"
   ]
  },
  {
   "cell_type": "code",
   "execution_count": 284,
   "metadata": {
    "collapsed": true
   },
   "outputs": [],
   "source": [
    "def transition_rates(T,A,B):\n",
    "    \"\"\"\n",
    "    ¡¡NOT OPTIMIZED!!\n",
    "    \n",
    "    The forward and backward commitor are sufficient to calculate transition rates between \n",
    "    the sets A and B\n",
    "    \n",
    "    \"\"\"\n",
    "    \n",
    "    F_AB = average_current(T,A,B)\n",
    "    pi = stat(T)\n",
    "    q = forward_commitors(T,A,B)\n",
    "    \n",
    "    sum=0\n",
    "    \n",
    "    for j in B:\n",
    "        sum= sum + (pi[j])*(q[j])\n",
    "        \n",
    "    return (F_AB/sum)\n",
    "    "
   ]
  },
  {
   "cell_type": "code",
   "execution_count": 285,
   "metadata": {
    "collapsed": false
   },
   "outputs": [
    {
     "data": {
      "text/plain": [
       "0.005000000000000393"
      ]
     },
     "execution_count": 285,
     "metadata": {},
     "output_type": "execute_result"
    }
   ],
   "source": [
    "A=[0,1]\n",
    "B=[2,3]\n",
    "transition_rates(T,A,B)"
   ]
  },
  {
   "cell_type": "code",
   "execution_count": 288,
   "metadata": {
    "collapsed": false
   },
   "outputs": [],
   "source": [
    "def mean_first_passage_times(T,A,B):\n",
    "    \"\"\"\n",
    "    \n",
    "    \"\"\"\n",
    "    \n",
    "    t= transition_rates(T,A,B)\n",
    "    return 1/t"
   ]
  },
  {
   "cell_type": "code",
   "execution_count": 289,
   "metadata": {
    "collapsed": false
   },
   "outputs": [
    {
     "data": {
      "text/plain": [
       "9.9999999999999556"
      ]
     },
     "execution_count": 289,
     "metadata": {},
     "output_type": "execute_result"
    }
   ],
   "source": [
    "A=[0]\n",
    "B=[1]\n",
    "mean_first_passage_times(T,A,B)"
   ]
  },
  {
   "cell_type": "code",
   "execution_count": null,
   "metadata": {
    "collapsed": true
   },
   "outputs": [],
   "source": []
  }
 ],
 "metadata": {
  "kernelspec": {
   "display_name": "Python 3",
   "language": "python",
   "name": "python3"
  },
  "language_info": {
   "codemirror_mode": {
    "name": "ipython",
    "version": 3
   },
   "file_extension": ".py",
   "mimetype": "text/x-python",
   "name": "python",
   "nbconvert_exporter": "python",
   "pygments_lexer": "ipython3",
   "version": "3.5.1"
  }
 },
 "nbformat": 4,
 "nbformat_minor": 0
}
