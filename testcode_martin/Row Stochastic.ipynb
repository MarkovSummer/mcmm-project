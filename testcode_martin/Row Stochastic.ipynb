{
 "cells": [
  {
   "cell_type": "markdown",
   "metadata": {},
   "source": [
    "# Testing the Transition matrix"
   ]
  },
  {
   "cell_type": "code",
   "execution_count": null,
   "metadata": {
    "collapsed": true
   },
   "outputs": [],
   "source": [
    "import numpy as np\n",
    "eps = 0.0001"
   ]
  },
  {
   "cell_type": "markdown",
   "metadata": {},
   "source": [
    "### row-stochasticness\n",
    "\n",
    "Testing row-stochasticness of transitionmatrix T, i.e.\n",
    "\n",
    "$$T_{ij} \\geq 0 \\qquad \\forall i, j$$\n",
    "$$\\sum_{i} T_{ij} = 1 \\qquad \\forall j$$\n"
   ]
  },
  {
   "cell_type": "code",
   "execution_count": null,
   "metadata": {
    "collapsed": false
   },
   "outputs": [],
   "source": [
    "def row_stochastic(matrix):\n",
    "    (rows, columns) = matrix.shape\n",
    "    for row in range(0, rows):\n",
    "        rsum = matrix[row,:].sum()\n",
    "        if rsum < 1 - eps:\n",
    "            print(\"Matrix not row_stochastic at row\", row, \"with row sum\", rsum)\n",
    "        elif rsum > 1 + eps:\n",
    "            print(\"Matrix not row_stochastic at row\", row, \"with row sum\", rsum)\n",
    "        \n",
    "        for column in range(0, columns):\n",
    "            if matrix[row, column] < 0.0:\n",
    "                print(\"Matrix has negative entry at (\", row, column, \")\")\n",
    "    "
   ]
  },
  {
   "cell_type": "markdown",
   "metadata": {},
   "source": [
    "Test for function"
   ]
  },
  {
   "cell_type": "code",
   "execution_count": null,
   "metadata": {
    "collapsed": false
   },
   "outputs": [],
   "source": [
    "a = np.array([[1,2,3],[4,5,-6]], float)\n",
    "row_stochastic(a)"
   ]
  },
  {
   "cell_type": "code",
   "execution_count": null,
   "metadata": {
    "collapsed": true
   },
   "outputs": [],
   "source": []
  }
 ],
 "metadata": {
  "kernelspec": {
   "display_name": "Python 3",
   "language": "python",
   "name": "python3"
  },
  "language_info": {
   "codemirror_mode": {
    "name": "ipython",
    "version": 3
   },
   "file_extension": ".py",
   "mimetype": "text/x-python",
   "name": "python",
   "nbconvert_exporter": "python",
   "pygments_lexer": "ipython3",
   "version": "3.5.1"
  }
 },
 "nbformat": 4,
 "nbformat_minor": 0
}
