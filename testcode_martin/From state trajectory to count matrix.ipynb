{
 "cells": [
  {
   "cell_type": "markdown",
   "metadata": {},
   "source": [
    "This is some tests to get from experimental data (state trajectory) to a count matrix"
   ]
  },
  {
   "cell_type": "code",
   "execution_count": null,
   "metadata": {
    "collapsed": true
   },
   "outputs": [],
   "source": [
    "import numpy as np #For maths\n",
    "%matplotlib inline\n",
    "import matplotlib.pyplot as plt #for plotting"
   ]
  },
  {
   "cell_type": "markdown",
   "metadata": {},
   "source": [
    "state trajectory: list of integers\n",
    "\n",
    "lagtime: how to move in list of integers\n",
    "\n",
    "Example:\n",
    "state_trajectory = [0,1,1,2,0]\n",
    "lagtime = 1\n",
    "\n",
    "should "
   ]
  },
  {
   "cell_type": "code",
   "execution_count": null,
   "metadata": {
    "collapsed": false
   },
   "outputs": [],
   "source": [
    "def simple_countmatrix(state_trajectory,lagtime = 1):\n",
    "    \n",
    "    #Initialization\n",
    "    n_states = max(state_trajectory)+1\n",
    "    countmatrix = np.zeros((n_states, n_states), 'float')\n",
    "    \n",
    "    #Fill Up\n",
    "    pos = 0\n",
    "    next_state = state_trajectory[pos]\n",
    "    \n",
    "    while (pos+lagtime)<len(state_trajectory):\n",
    "        #Update Input\n",
    "        prev_state = next_state\n",
    "        pos += lagtime\n",
    "        next_state = state_trajectory[pos]\n",
    "        #Count\n",
    "        countmatrix[prev_state, next_state] += 1\n",
    "    \n",
    "        \n",
    "    print(countmatrix)"
   ]
  },
  {
   "cell_type": "code",
   "execution_count": null,
   "metadata": {
    "collapsed": false
   },
   "outputs": [],
   "source": [
    "def sliding_window_countmatrix(state_trajectory,lagtime = 1):\n",
    "    \n",
    "    #Initialization\n",
    "    n_states = max(state_trajectory)+1\n",
    "    countmatrix = np.zeros((n_states, n_states), 'float')\n",
    "    \n",
    "    #Fill Up\n",
    "    for pos in range(0,len(state_trajectory)):\n",
    "        #Update Input\n",
    "        prev_state = state_trajectory[pos]\n",
    "        next_state = state_trajectory[pos+lagtime]\n",
    "        #Count\n",
    "        countmatrix[prev_state, next_state] += 1    \n",
    "        \n",
    "    print(countmatrix)"
   ]
  },
  {
   "cell_type": "markdown",
   "metadata": {
    "collapsed": true
   },
   "source": [
    "Tests:"
   ]
  },
  {
   "cell_type": "code",
   "execution_count": null,
   "metadata": {
    "collapsed": false
   },
   "outputs": [],
   "source": [
    "state_trajectory = [0,1,1,2,0]\n",
    "lagtime = 2\n",
    "simple_countmatrix(state_trajectory, lagtime)\n",
    "simple_countmatrix(state_trajectory)"
   ]
  },
  {
   "cell_type": "code",
   "execution_count": null,
   "metadata": {
    "collapsed": false
   },
   "outputs": [],
   "source": [
    "a=np.array([3,2])\n",
    "print(a)"
   ]
  },
  {
   "cell_type": "markdown",
   "metadata": {},
   "source": [
    "debugversion"
   ]
  },
  {
   "cell_type": "code",
   "execution_count": null,
   "metadata": {
    "collapsed": false
   },
   "outputs": [],
   "source": [
    "def simple_countmatrix(state_trajectory,lagtime = 1):\n",
    "    \n",
    "    #Initialization\n",
    "    print(\"Initialize\")\n",
    "    n_states = max(state_trajectory)+1\n",
    "    print(n_states)\n",
    "    countmatrix = np.zeros((n_states, n_states), 'float')\n",
    "    print(countmatrix)\n",
    "    \n",
    "    #Fill Up\n",
    "    print(\"Fill Up\")\n",
    "    pos = 0\n",
    "    prev_state = state_trajectory[pos]\n",
    "    while (pos+lagtime)<len(state_trajectory):\n",
    "        next_state = state_trajectory[pos+lagtime]\n",
    "        countmatrix[prev_state, next_state] += 1\n",
    "        prev_state = next_state\n",
    "        pos += lagtime\n",
    "        \n",
    "    print(countmatrix)"
   ]
  }
 ],
 "metadata": {
  "kernelspec": {
   "display_name": "Python 3",
   "language": "python",
   "name": "python3"
  },
  "language_info": {
   "codemirror_mode": {
    "name": "ipython",
    "version": 3
   },
   "file_extension": ".py",
   "mimetype": "text/x-python",
   "name": "python",
   "nbconvert_exporter": "python",
   "pygments_lexer": "ipython3",
   "version": "3.5.1"
  }
 },
 "nbformat": 4,
 "nbformat_minor": 0
}
