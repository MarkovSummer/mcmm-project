{
 "cells": [
  {
   "cell_type": "markdown",
   "metadata": {},
   "source": [
    "# Realization"
   ]
  },
  {
   "cell_type": "code",
   "execution_count": 1,
   "metadata": {
    "collapsed": true
   },
   "outputs": [],
   "source": [
    "import numpy as np\n",
    "import random as r"
   ]
  },
  {
   "cell_type": "markdown",
   "metadata": {},
   "source": [
    "### Cummulative distribution from distribution\n",
    "\n",
    "Turns a given distribution \n",
    "$$ p = (p_i)_{i=0,...,n-1} $$\n",
    "into a cummulative distribution\n",
    "$$ c = (\\sum_{k=0}^{i}p_k)_{i=0,...,n-1} $$\n"
   ]
  },
  {
   "cell_type": "code",
   "execution_count": 2,
   "metadata": {
    "collapsed": false
   },
   "outputs": [],
   "source": [
    "def cum_distribution(distribution):\n",
    "    cum_value = 0\n",
    "    c_distribution = np.zeros(len(distribution))\n",
    "    for i in range(0, len(distribution)):\n",
    "        cum_value += distribution[i]\n",
    "        c_distribution[i] = cum_value\n",
    "    return c_distribution"
   ]
  },
  {
   "cell_type": "markdown",
   "metadata": {},
   "source": [
    "Testing"
   ]
  },
  {
   "cell_type": "code",
   "execution_count": 3,
   "metadata": {
    "collapsed": false
   },
   "outputs": [
    {
     "data": {
      "text/plain": [
       "array([ 0.1,  0.3,  0.6,  1. ])"
      ]
     },
     "execution_count": 3,
     "metadata": {},
     "output_type": "execute_result"
    }
   ],
   "source": [
    "p1 = np.array([.5, .5], float)\n",
    "p2 = np.array([.1,.2,.3,.4], float)\n",
    "c1 = cum_distribution(p2)\n",
    "c1"
   ]
  },
  {
   "cell_type": "markdown",
   "metadata": {},
   "source": [
    "### State from [0,1]-Distribution "
   ]
  },
  {
   "cell_type": "code",
   "execution_count": 4,
   "metadata": {
    "collapsed": false
   },
   "outputs": [],
   "source": [
    "def find_state(r_number, cum_distribution):\n",
    "    not_found = True\n",
    "    #Cast integer\n",
    "    id = 0\n",
    "\n",
    "    while(not_found):\n",
    "        if r_number < cum_distribution[id]:\n",
    "            #not_found = False\n",
    "            return id\n",
    "        else:\n",
    "            id = id + 1\n",
    "        "
   ]
  },
  {
   "cell_type": "markdown",
   "metadata": {},
   "source": [
    "Testing"
   ]
  },
  {
   "cell_type": "code",
   "execution_count": 5,
   "metadata": {
    "collapsed": false
   },
   "outputs": [
    {
     "data": {
      "text/plain": [
       "3"
      ]
     },
     "execution_count": 5,
     "metadata": {},
     "output_type": "execute_result"
    }
   ],
   "source": [
    "p2 = np.array([.1,.3,.6,1], float)\n",
    "find_state(0.65, p2)"
   ]
  },
  {
   "cell_type": "markdown",
   "metadata": {},
   "source": [
    "### Draw realization of given probability\n",
    "\n",
    "Given a probability distribution: \n",
    "\n",
    "$$ p = (p_i)_{i=0,...,n-1} $$\n",
    "\n",
    "where the i-th entry is the probability of the i-th state. \n",
    "\n",
    "The function chooses a state according to the distribution"
   ]
  },
  {
   "cell_type": "code",
   "execution_count": 6,
   "metadata": {
    "collapsed": true
   },
   "outputs": [],
   "source": [
    "def state_from_distribution(distribution):\n",
    "    #test if distribution is distribution\n",
    "    #row_stochastic(distribution)\n",
    "    cumm_distribution = cum_distribution(distribution)\n",
    "    a = find_state(r.random(), cumm_distribution)\n",
    "    return a"
   ]
  },
  {
   "cell_type": "markdown",
   "metadata": {},
   "source": [
    "Testing"
   ]
  },
  {
   "cell_type": "code",
   "execution_count": 7,
   "metadata": {
    "collapsed": false
   },
   "outputs": [
    {
     "name": "stdout",
     "output_type": "stream",
     "text": [
      "1\n"
     ]
    }
   ],
   "source": [
    "r.random()\n",
    "p1 = np.array([.5, .5], float)\n",
    "p2 = np.array([.1,.2,.3,.4], float)\n",
    "print(state_from_distribution(p2))"
   ]
  },
  {
   "cell_type": "markdown",
   "metadata": {},
   "source": [
    "### Draw Trajectory from given start + transition matrix\n",
    "\n",
    "Given an initial distribution\n",
    "\n",
    "$$ p_0 = (p_i)_{i=0,...,n-1} $$\n",
    "\n",
    "and n x n transition matrix T\n",
    "\n",
    "the function draws a trajectory of L states using the algorithm:\n",
    "\n",
    "* Initialization: \n",
    "    $p_{new} = p_0$, i.e. distribution is chosen to be the inital distribution\n",
    "\n",
    "* Algorithm:\n",
    "    1. Use distribution to chose state $i_{random}$\n",
    "    2. New distribution: $p_{new} = i_{random}$-th row of T\n"
   ]
  },
  {
   "cell_type": "code",
   "execution_count": 8,
   "metadata": {
    "collapsed": false
   },
   "outputs": [],
   "source": [
    "def trajectory(p0, T, L):\n",
    "    traj = np.zeros(L, dtype=int)\n",
    "    traj[0] = state_from_distribution(p0)\n",
    "    \n",
    "    for i in range(1, L):\n",
    "        p_new = T[traj[i-1]]\n",
    "        print(\"p_new\", p_new)\n",
    "        traj[i] = state_from_distribution(p_new)\n",
    "        \n",
    "    print(\"trajectory\", traj)    \n",
    "    return traj"
   ]
  },
  {
   "cell_type": "markdown",
   "metadata": {},
   "source": [
    "Testing"
   ]
  },
  {
   "cell_type": "code",
   "execution_count": 9,
   "metadata": {
    "collapsed": false
   },
   "outputs": [
    {
     "name": "stdout",
     "output_type": "stream",
     "text": [
      "p_new [ 0.5  0.5]\n",
      "p_new [ 0.9  0.1]\n",
      "p_new [ 0.9  0.1]\n",
      "p_new [ 0.9  0.1]\n",
      "p_new [ 0.9  0.1]\n",
      "p_new [ 0.9  0.1]\n",
      "p_new [ 0.9  0.1]\n",
      "p_new [ 0.5  0.5]\n",
      "p_new [ 0.9  0.1]\n",
      "trajectory [1 0 0 0 0 0 0 1 0 1]\n"
     ]
    },
    {
     "data": {
      "text/plain": [
       "array([1, 0, 0, 0, 0, 0, 0, 1, 0, 1])"
      ]
     },
     "execution_count": 9,
     "metadata": {},
     "output_type": "execute_result"
    }
   ],
   "source": [
    "p1 = np.array([0.1, 0.9], float)\n",
    "T = np.array([[0.9, 0.1], [0.5, 0.5]], float)\n",
    "L = 10\n",
    "trajectory(p1,T, L)"
   ]
  },
  {
   "cell_type": "markdown",
   "metadata": {},
   "source": [
    "### Ensemble evolution\n",
    "\n",
    "Determining the probabilility to find the chain at state i at time i given a transition matrix T:\n",
    "\n",
    "$$p_{t,i} = \\sum_{j=1}^{n} p_{t-1,j}T_{1j}$$, i.e.\n",
    "\n",
    "$$\\textbf{p}_t^T = \\textbf{p}_{t-1}^{T} \\textbf{T}$$ and thus\n",
    "\n",
    "$$\\textbf{p}_k^T = \\textbf{p}_{0}^{T} \\textbf{T}^k$$"
   ]
  },
  {
   "cell_type": "code",
   "execution_count": 10,
   "metadata": {
    "collapsed": false
   },
   "outputs": [
    {
     "data": {
      "text/plain": [
       "array([ 0.18,  0.5 ])"
      ]
     },
     "execution_count": 10,
     "metadata": {},
     "output_type": "execute_result"
    }
   ],
   "source": [
    "T.dot(p1)"
   ]
  },
  {
   "cell_type": "code",
   "execution_count": null,
   "metadata": {
    "collapsed": true
   },
   "outputs": [],
   "source": []
  }
 ],
 "metadata": {
  "kernelspec": {
   "display_name": "Python 3",
   "language": "python",
   "name": "python3"
  },
  "language_info": {
   "codemirror_mode": {
    "name": "ipython",
    "version": 3
   },
   "file_extension": ".py",
   "mimetype": "text/x-python",
   "name": "python",
   "nbconvert_exporter": "python",
   "pygments_lexer": "ipython3",
   "version": "3.5.1"
  }
 },
 "nbformat": 4,
 "nbformat_minor": 0
}
