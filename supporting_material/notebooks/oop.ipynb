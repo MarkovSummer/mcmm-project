{
 "cells": [
  {
   "cell_type": "markdown",
   "metadata": {},
   "source": [
    "# Introduction to objected-oriented programming\n",
    "\n",
    "In this notebook, we will address the concept of Python classes."
   ]
  },
  {
   "cell_type": "code",
   "execution_count": null,
   "metadata": {
    "collapsed": true
   },
   "outputs": [],
   "source": [
    "%matplotlib inline\n",
    "import matplotlib.pyplot as plt\n",
    "import numpy as np\n",
    "from mcmm.example import generate_test_data"
   ]
  },
  {
   "cell_type": "markdown",
   "metadata": {},
   "source": [
    "## The simple approach (cells + attentiveness)\n",
    "\n",
    "First step: we run `generate_test_data()` from `mcmm.example` to generate a time series."
   ]
  },
  {
   "cell_type": "code",
   "execution_count": null,
   "metadata": {
    "collapsed": true
   },
   "outputs": [],
   "source": [
    "traj = generate_test_data(traj_length=100000, num_trajs=1)[0]"
   ]
  },
  {
   "cell_type": "markdown",
   "metadata": {},
   "source": [
    "Second step: we build a 2D histogram to visualise how often a bin has been visited in the trajectory."
   ]
  },
  {
   "cell_type": "code",
   "execution_count": null,
   "metadata": {
    "collapsed": true
   },
   "outputs": [],
   "source": [
    "h, xedges, yedges = np.histogram2d(traj[:, 0], traj[:, 1], bins=(50, 50))\n",
    "xcenters = xedges[:-1] + 0.5 * (xedges[1:] - xedges[:-1])\n",
    "ycenters = yedges[:-1] + 0.5 * (yedges[1:] - yedges[:-1])\n",
    "x, y = np.meshgrid(xcenters, ycenters, indexing='ij')"
   ]
  },
  {
   "cell_type": "markdown",
   "metadata": {},
   "source": [
    "Third step: we make a nice plot of the histogram."
   ]
  },
  {
   "cell_type": "code",
   "execution_count": null,
   "metadata": {
    "collapsed": false
   },
   "outputs": [],
   "source": [
    "fig, ax = plt.subplots()\n",
    "ax.contourf(x, y, h, np.linspace(h.min(), h.max(), 60))\n",
    "ax.set_xlabel(r\"$x$ / a.u.\", fontsize=12)\n",
    "ax.set_ylabel(r\"$y$ / a.u.\", fontsize=12)\n",
    "ax.set(aspect='equal', adjustable='box-forced')"
   ]
  },
  {
   "cell_type": "markdown",
   "metadata": {},
   "source": [
    "Fourth step: we play around with the settings and rerun cells, until we understand what's going on.\n",
    "\n",
    "## The object-oriented approach\n",
    "\n",
    "First step: we write a class to encapsulate data and analysis."
   ]
  },
  {
   "cell_type": "code",
   "execution_count": null,
   "metadata": {
    "collapsed": true
   },
   "outputs": [],
   "source": [
    "class Example(object):\n",
    "    def __init__(self, traj_length=10000):\n",
    "        self.traj_length = traj_length\n",
    "        self._traj = None\n",
    "    @property\n",
    "    def traj(self):\n",
    "        if self._traj is None:\n",
    "            self._traj = generate_test_data(traj_length=self.traj_length, num_trajs=1)[0]\n",
    "        return self._traj\n",
    "    def plot_histogram(self, bins, ax=None):\n",
    "        h, xedges, yedges = np.histogram2d(self.traj[:, 0], self.traj[:, 1], bins=bins)\n",
    "        xcenters = xedges[:-1] + 0.5 * (xedges[1:] - xedges[:-1])\n",
    "        ycenters = yedges[:-1] + 0.5 * (yedges[1:] - yedges[:-1])\n",
    "        x, y = np.meshgrid(xcenters, ycenters, indexing='ij')\n",
    "        if ax is None:\n",
    "            fig, ax = plt.subplots()\n",
    "        ax.contourf(x, y, h, np.linspace(h.min(), h.max(), 60))\n",
    "        ax.set_xlabel(r\"$x$ / a.u.\", fontsize=12)\n",
    "        ax.set_ylabel(r\"$y$ / a.u.\", fontsize=12)\n",
    "        ax.set(aspect='equal', adjustable='box-forced')\n",
    "        return ax"
   ]
  },
  {
   "cell_type": "markdown",
   "metadata": {},
   "source": [
    "Second step: we instanciate an object."
   ]
  },
  {
   "cell_type": "code",
   "execution_count": null,
   "metadata": {
    "collapsed": false
   },
   "outputs": [],
   "source": [
    "example = Example(traj_length=1000000)"
   ]
  },
  {
   "cell_type": "markdown",
   "metadata": {},
   "source": [
    "Third step: we run the `plot_histogram()` method of our `example` object."
   ]
  },
  {
   "cell_type": "code",
   "execution_count": null,
   "metadata": {
    "collapsed": false
   },
   "outputs": [],
   "source": [
    "ax = example.plot_histogram((100, 100))"
   ]
  },
  {
   "cell_type": "markdown",
   "metadata": {},
   "source": [
    "Fourth step: we play around with the settings and rerun cells, until we understand what's going on."
   ]
  },
  {
   "cell_type": "markdown",
   "metadata": {},
   "source": [
    "## A documented class\n",
    "\n",
    "We still have to add some documentation to our class:"
   ]
  },
  {
   "cell_type": "code",
   "execution_count": null,
   "metadata": {
    "collapsed": true
   },
   "outputs": [],
   "source": [
    "class Example(object):\n",
    "    r\"\"\"An example class to encapsulate trajectory data and histogram visualisation.\"\"\"\n",
    "    def __init__(self, traj_length=10000):\n",
    "        r\"\"\"\n",
    "        Parameters\n",
    "        ----------\n",
    "        traj_length : in, optional, default=10000\n",
    "            Number of samples in the trajectory.\n",
    "        \"\"\"\n",
    "        self.traj_length = traj_length\n",
    "        self._traj = None\n",
    "    @property\n",
    "    def traj(self):\n",
    "        r\"\"\"Compute the trajectory on demand.\n",
    "        \n",
    "        Returns\n",
    "        -------\n",
    "        traj : numpy.ndarray(shape=(traj_length, 2))\n",
    "            Generated trajectory with traj_length time steps.\n",
    "        \"\"\"\n",
    "        if self._traj is None:\n",
    "            self._traj = generate_test_data(traj_length=self.traj_length, num_trajs=1)[0]\n",
    "        return self._traj\n",
    "    def plot_histogram(self, bins, ax=None):\n",
    "        r\"\"\"Make a 2D histogram plot.\n",
    "        \n",
    "        Parameters\n",
    "        ----------\n",
    "        bins : (int, int)\n",
    "            Number of bins along x and y.\n",
    "        ax : matplotlib Axes object, optional, default=None\n",
    "            Target axis for plotting; will be created if ax=None.\n",
    "        \n",
    "        Returns\n",
    "        -------\n",
    "        ax : matplotlib Axes object\n",
    "            Axis object with the 2D histogram plot.\n",
    "        \"\"\"\n",
    "        h, xedges, yedges = np.histogram2d(self.traj[:, 0], self.traj[:, 1], bins=bins)\n",
    "        xcenters = xedges[:-1] + 0.5 * (xedges[1:] - xedges[:-1])\n",
    "        ycenters = yedges[:-1] + 0.5 * (yedges[1:] - yedges[:-1])\n",
    "        x, y = np.meshgrid(xcenters, ycenters, indexing='ij')\n",
    "        if ax is None:\n",
    "            fig, ax = plt.subplots()\n",
    "        ax.contourf(x, y, h, np.linspace(h.min(), h.max(), 60))\n",
    "        ax.set_xlabel(r\"$x$ / a.u.\", fontsize=12)\n",
    "        ax.set_ylabel(r\"$y$ / a.u.\", fontsize=12)\n",
    "        ax.set(aspect='equal', adjustable='box-forced')\n",
    "        return ax"
   ]
  }
 ],
 "metadata": {
  "kernelspec": {
   "display_name": "Python 3",
   "language": "python",
   "name": "python3"
  },
  "language_info": {
   "codemirror_mode": {
    "name": "ipython",
    "version": 3
   },
   "file_extension": ".py",
   "mimetype": "text/x-python",
   "name": "python",
   "nbconvert_exporter": "python",
   "pygments_lexer": "ipython3",
   "version": "3.5.1"
  }
 },
 "nbformat": 4,
 "nbformat_minor": 0
}
